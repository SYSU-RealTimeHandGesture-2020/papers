{
 "cells": [
  {
   "cell_type": "code",
   "execution_count": 79,
   "metadata": {},
   "outputs": [],
   "source": [
    "import numpy as np\n",
    "import math\n",
    "import random\n",
    "import pandas as pd\n",
    "import os\n",
    "import matplotlib.pyplot as plt\n",
    "import cv2\n",
    "import glob\n",
    "import gc\n",
    "from utils import *\n",
    "from tqdm import tqdm\n",
    "import pickle\n",
    "\n",
    "from tensorflow.keras.optimizers import *\n",
    "from tensorflow.keras.models import Model\n",
    "from tensorflow.keras.layers import *\n",
    "# from tensorflow.keras.layers.core import *\n",
    "# from tensorflow.keras.layers.convolutional import *\n",
    "from tensorflow.keras import backend as K\n",
    "import tensorflow.compat.v1 as tf"
   ]
  },
  {
   "cell_type": "markdown",
   "metadata": {},
   "source": [
    "# Initialize the setting"
   ]
  },
  {
   "cell_type": "code",
   "execution_count": 80,
   "metadata": {},
   "outputs": [],
   "source": [
    "os.environ[\"CUDA_DEVICE_ORDER\"]=\"PCI_BUS_ID\"   \n",
    "os.environ[\"CUDA_VISIBLE_DEVICES\"]=\"1\""
   ]
  },
  {
   "cell_type": "code",
   "execution_count": 85,
   "metadata": {},
   "outputs": [],
   "source": [
    "random.seed(123)\n",
    "\n",
    "class Config():\n",
    "    def __init__(self):\n",
    "        self.frame_l = 32 # the length of frames\n",
    "        self.joint_n = 21 # the number of joints\n",
    "        self.joint_d = 2 # the dimension of joints\n",
    "        self.coarse = 12 # the number of classes\n",
    "        self.feat_d = 210 # n(n-1)/2\n",
    "        self.filters = 16\n",
    "        self.data_dir = '..\\\\data\\\\JESTER\\\\'\n",
    "C = Config()"
   ]
  },
  {
   "cell_type": "markdown",
   "metadata": {},
   "source": [
    "# Building the model"
   ]
  },
  {
   "cell_type": "code",
   "execution_count": 86,
   "metadata": {},
   "outputs": [],
   "source": [
    "def poses_diff(x):\n",
    "    H, W = x.get_shape()[1],x.get_shape()[2]\n",
    "    x = tf.subtract(x[:,1:,...],x[:,:-1,...])\n",
    "    x = tf.image.resize_nearest_neighbor(x,size=[H,W],align_corners=False) # should not alignment here\n",
    "    return x\n",
    "\n",
    "def pose_motion(P,frame_l,joint_n,joint_d):\n",
    "    P_diff_slow = Lambda(lambda x: poses_diff(x))(P)\n",
    "    P_diff_slow = Reshape((frame_l,joint_n*joint_d))(P_diff_slow)\n",
    "    P_fast = Lambda(lambda x: x[:,::2,...])(P)\n",
    "    P_diff_fast = Lambda(lambda x: poses_diff(x))(P_fast)\n",
    "    P_diff_fast = Reshape((int(frame_l/2),joint_n*joint_d))(P_diff_fast)\n",
    "    return P_diff_slow,P_diff_fast\n",
    "    \n",
    "def c1D(x,filters,kernel):\n",
    "    x = Conv1D(filters, kernel_size=kernel,padding='same',use_bias=False)(x)\n",
    "    x = BatchNormalization()(x)\n",
    "    x = LeakyReLU(alpha=0.2)(x)\n",
    "    return x\n",
    "\n",
    "def block(x,filters):\n",
    "    x = c1D(x,filters,3)\n",
    "    x = c1D(x,filters,3)\n",
    "    return x\n",
    "    \n",
    "def d1D(x,filters):\n",
    "    x = Dense(filters,use_bias=False)(x)\n",
    "    x = BatchNormalization()(x)\n",
    "    x = LeakyReLU(alpha=0.2)(x)\n",
    "    return x\n",
    "\n",
    "def build_FM(frame_l=32,joint_n=22,joint_d=2,feat_d=231,filters=16):   \n",
    "    M = Input(shape=(frame_l,feat_d))\n",
    "    P = Input(shape=(frame_l,joint_n,joint_d))\n",
    "    \n",
    "    diff_slow,diff_fast = pose_motion(P,frame_l,joint_n,joint_d)\n",
    "\n",
    "    print(\"slow\", diff_slow)\n",
    "    print(\"fast\", diff_fast)\n",
    "    print(\"JCD\", M)\n",
    "\n",
    "    x = c1D(M,filters*2,1)\n",
    "    x = SpatialDropout1D(0.1)(x)\n",
    "    x = c1D(x,filters,3)\n",
    "    x = SpatialDropout1D(0.1)(x)\n",
    "    x = c1D(x,filters,1)\n",
    "    x = MaxPooling1D(2)(x)\n",
    "    x = SpatialDropout1D(0.1)(x)\n",
    "\n",
    "    x_d_slow = c1D(diff_slow,filters*2,1)\n",
    "    x_d_slow = SpatialDropout1D(0.1)(x_d_slow)\n",
    "    x_d_slow = c1D(x_d_slow,filters,3)\n",
    "    x_d_slow = SpatialDropout1D(0.1)(x_d_slow)\n",
    "    x_d_slow = c1D(x_d_slow,filters,1)\n",
    "    x_d_slow = MaxPool1D(2)(x_d_slow)\n",
    "    x_d_slow = SpatialDropout1D(0.1)(x_d_slow)\n",
    "\n",
    "    # 测试删去x_d_fast\n",
    "    x_d_fast = c1D(diff_fast,filters*2,1)\n",
    "    x_d_fast = SpatialDropout1D(0.1)(x_d_fast)\n",
    "    x_d_fast = c1D(x_d_fast,filters,3) \n",
    "    x_d_fast = SpatialDropout1D(0.1)(x_d_fast)\n",
    "    x_d_fast = c1D(x_d_fast,filters,1) \n",
    "    x_d_fast = SpatialDropout1D(0.1)(x_d_fast)\n",
    "   \n",
    "    x = concatenate([x,x_d_slow,x_d_fast]) # x = concatenate([x,x_d_slow,x_d_fast])\n",
    "    print('concat', x.shape)\n",
    "    x = block(x,filters*2)\n",
    "    print('conv1', x.shape)\n",
    "    x = MaxPool1D(2)(x)\n",
    "    print('pool1', x.shape)\n",
    "    x = SpatialDropout1D(0.1)(x)\n",
    "    \n",
    "    x = block(x,filters*4)\n",
    "    print('conv2', x.shape)\n",
    "    x = MaxPool1D(2)(x)\n",
    "    print('pool2', x.shape)    \n",
    "    x = SpatialDropout1D(0.1)(x)\n",
    "\n",
    "    x = block(x,filters*8)\n",
    "    print('conv3', x.shape)\n",
    "    x = SpatialDropout1D(0.1)(x)\n",
    "    \n",
    "    return Model(inputs=[M,P],outputs=x)"
   ]
  },
  {
   "cell_type": "code",
   "execution_count": 87,
   "metadata": {},
   "outputs": [],
   "source": [
    "def build_DD_Net(frame_l=32,joint_n=22,joint_d=3,feat_d=231,clc_num=14,filters=16):\n",
    "    M = Input(name='M', shape=(frame_l,feat_d))  \n",
    "    P = Input(name='P', shape=(frame_l,joint_n,joint_d)) \n",
    "    \n",
    "    FM = build_FM(frame_l,joint_n,joint_d,feat_d,filters)\n",
    "    \n",
    "    x = FM([M,P])\n",
    "\n",
    "    x = GlobalMaxPool1D()(x)\n",
    "    print('pool', x.shape)    \n",
    "\n",
    "    x = d1D(x,128)\n",
    "    print('dense1', x.shape)    \n",
    "\n",
    "    x = Dropout(0.5)(x)\n",
    "    x = d1D(x,128)\n",
    "    print('dense2', x.shape)    \n",
    "\n",
    "    x = Dropout(0.3)(x)\n",
    "    x = Dense(clc_num, activation='softmax')(x)\n",
    "    print('dense3', x.shape)    \n",
    "\n",
    "    ######################Self-supervised part\n",
    "    model = Model(inputs=[M,P],outputs=x)\n",
    "    return model"
   ]
  },
  {
   "cell_type": "code",
   "execution_count": 88,
   "metadata": {
    "scrolled": true
   },
   "outputs": [
    {
     "name": "stdout",
     "output_type": "stream",
     "text": [
      "slow Tensor(\"reshape_6/Identity:0\", shape=(None, 32, 42), dtype=float32)\n",
      "fast Tensor(\"reshape_7/Identity:0\", shape=(None, 16, 42), dtype=float32)\n",
      "JCD Tensor(\"input_7:0\", shape=(None, 32, 210), dtype=float32)\n",
      "concat (None, 16, 48)\n",
      "conv1 (None, 16, 32)\n",
      "pool1 (None, 8, 32)\n",
      "conv2 (None, 8, 64)\n",
      "pool2 (None, 4, 64)\n",
      "conv3 (None, 4, 128)\n",
      "pool (None, 128)\n",
      "dense1 (None, 128)\n",
      "dense2 (None, 128)\n",
      "dense3 (None, 12)\n"
     ]
    }
   ],
   "source": [
    "DD_Net = build_DD_Net(C.frame_l,C.joint_n,C.joint_d,C.feat_d,C.coarse,C.filters)"
   ]
  },
  {
   "cell_type": "code",
   "execution_count": 89,
   "metadata": {
    "scrolled": true
   },
   "outputs": [
    {
     "name": "stdout",
     "output_type": "stream",
     "text": [
      "Model: \"model_7\"\n",
      "__________________________________________________________________________________________________\n",
      "Layer (type)                    Output Shape         Param #     Connected to                     \n",
      "==================================================================================================\n",
      "M (InputLayer)                  [(None, 32, 210)]    0                                            \n",
      "__________________________________________________________________________________________________\n",
      "P (InputLayer)                  [(None, 32, 21, 2)]  0                                            \n",
      "__________________________________________________________________________________________________\n",
      "model_6 (Model)                 (None, 4, 128)       117184      M[0][0]                          \n",
      "                                                                 P[0][0]                          \n",
      "__________________________________________________________________________________________________\n",
      "global_max_pooling1d_3 (GlobalM (None, 128)          0           model_6[1][0]                    \n",
      "__________________________________________________________________________________________________\n",
      "dense_9 (Dense)                 (None, 128)          16384       global_max_pooling1d_3[0][0]     \n",
      "__________________________________________________________________________________________________\n",
      "batch_normalization_66 (BatchNo (None, 128)          512         dense_9[0][0]                    \n",
      "__________________________________________________________________________________________________\n",
      "leaky_re_lu_66 (LeakyReLU)      (None, 128)          0           batch_normalization_66[0][0]     \n",
      "__________________________________________________________________________________________________\n",
      "dropout_6 (Dropout)             (None, 128)          0           leaky_re_lu_66[0][0]             \n",
      "__________________________________________________________________________________________________\n",
      "dense_10 (Dense)                (None, 128)          16384       dropout_6[0][0]                  \n",
      "__________________________________________________________________________________________________\n",
      "batch_normalization_67 (BatchNo (None, 128)          512         dense_10[0][0]                   \n",
      "__________________________________________________________________________________________________\n",
      "leaky_re_lu_67 (LeakyReLU)      (None, 128)          0           batch_normalization_67[0][0]     \n",
      "__________________________________________________________________________________________________\n",
      "dropout_7 (Dropout)             (None, 128)          0           leaky_re_lu_67[0][0]             \n",
      "__________________________________________________________________________________________________\n",
      "dense_11 (Dense)                (None, 12)           1548        dropout_7[0][0]                  \n",
      "==================================================================================================\n",
      "Total params: 152,524\n",
      "Trainable params: 150,732\n",
      "Non-trainable params: 1,792\n",
      "__________________________________________________________________________________________________\n"
     ]
    }
   ],
   "source": [
    "DD_Net.summary()"
   ]
  },
  {
   "cell_type": "markdown",
   "metadata": {},
   "source": [
    "## load data"
   ]
  },
  {
   "cell_type": "code",
   "execution_count": 90,
   "metadata": {},
   "outputs": [],
   "source": [
    "# 切换成无空帧数据\n",
    "Train = pickle.load(open(C.data_dir+\"train_gt20_1to6.pkl\", \"rb\"))\n",
    "Test = pickle.load(open(C.data_dir+\"valid_gt20_1to6.pkl\", \"rb\"))"
   ]
  },
  {
   "cell_type": "markdown",
   "metadata": {},
   "source": [
    "## Without frame_sampling train"
   ]
  },
  {
   "cell_type": "code",
   "execution_count": 91,
   "metadata": {
    "scrolled": false
   },
   "outputs": [
    {
     "name": "stderr",
     "output_type": "stream",
     "text": [
      "100%|███████████████████████████████████████████████████████████████████████████████| 258/258 [00:02<00:00, 126.84it/s]\n"
     ]
    }
   ],
   "source": [
    "X_0 = []\n",
    "X_1 = []\n",
    "Y = []\n",
    "for i in tqdm(range(len(Train['pose']))): \n",
    "    p = np.copy(Train['pose'][i]).reshape([-1,C.joint_n,C.joint_d])\n",
    "    p = zoom(p,target_l=C.frame_l,joints_num=C.joint_n,joints_dim=C.joint_d)\n",
    "    p = normlize_range_2d(p)\n",
    "    \n",
    "    label = np.zeros(C.coarse)\n",
    "    label[Train['label'][i]-1] = 1   \n",
    "\n",
    "    M = get_CG(p,C)\n",
    "\n",
    "    X_0.append(M)\n",
    "    X_1.append(p)\n",
    "    Y.append(label)\n",
    "\n",
    "X_0 = np.stack(X_0)  \n",
    "X_1 = np.stack(X_1) \n",
    "Y = np.stack(Y)"
   ]
  },
  {
   "cell_type": "code",
   "execution_count": 93,
   "metadata": {
    "scrolled": true
   },
   "outputs": [
    {
     "name": "stdout",
     "output_type": "stream",
     "text": [
      "(258, 32, 210) (258, 32, 21, 2) (258, 12)\n",
      "{1: 17, 2: 12, 3: 14, 4: 16, 5: 103, 6: 15, 7: 14, 8: 7, 9: 6, 10: 19, 11: 22, 12: 13}\n"
     ]
    }
   ],
   "source": [
    "print(X_0.shape, X_1.shape, Y.shape)\n",
    "\n",
    "label = dict(zip(range(1,C.coarse+1),(0 for _ in range(C.coarse))))\n",
    "for i in Y:\n",
    "    for e in range(len(i)):\n",
    "        if i[e] == 1:\n",
    "            label[e+1] += 1\n",
    "            break\n",
    "\n",
    "print(label)"
   ]
  },
  {
   "cell_type": "code",
   "execution_count": 94,
   "metadata": {
    "scrolled": true
   },
   "outputs": [
    {
     "name": "stderr",
     "output_type": "stream",
     "text": [
      "100%|█████████████████████████████████████████████████████████████████████████████████| 42/42 [00:00<00:00, 105.28it/s]\n"
     ]
    }
   ],
   "source": [
    "X_test_0 = []\n",
    "X_test_1 = []\n",
    "Y_test = []\n",
    "for i in tqdm(range(len(Test['pose']))): \n",
    "    p = np.copy(Test['pose'][i]).reshape([-1,C.joint_n,C.joint_d])\n",
    "    p = zoom(p,target_l=C.frame_l,joints_num=C.joint_n,joints_dim=C.joint_d)\n",
    "    p = normlize_range_2d(p)\n",
    "    \n",
    "    label = np.zeros(C.coarse)\n",
    "    label[Test['label'][i]-1] = 1   \n",
    "\n",
    "    M = get_CG(p,C)\n",
    "\n",
    "    X_test_0.append(M)\n",
    "    X_test_1.append(p)\n",
    "    Y_test.append(label)\n",
    "\n",
    "X_test_0 = np.stack(X_test_0) \n",
    "X_test_1 = np.stack(X_test_1)  \n",
    "Y_test = np.stack(Y_test)"
   ]
  },
  {
   "cell_type": "code",
   "execution_count": 95,
   "metadata": {},
   "outputs": [
    {
     "name": "stdout",
     "output_type": "stream",
     "text": [
      "(42, 32, 210) (42, 32, 21, 2) (42, 12)\n",
      "{1: 2, 2: 0, 3: 1, 4: 3, 5: 15, 6: 2, 7: 1, 8: 0, 9: 1, 10: 3, 11: 10, 12: 4}\n"
     ]
    }
   ],
   "source": [
    "print(X_test_0.shape, X_test_1.shape, Y_test.shape)\n",
    "\n",
    "label_test = dict(zip(range(1,C.coarse+1),(0 for _ in range(C.coarse))))\n",
    "for i in Y_test:\n",
    "    for e in range(len(i)):\n",
    "        if i[e] == 1:\n",
    "            label_test[e+1] += 1\n",
    "            break\n",
    "\n",
    "print(label_test)"
   ]
  },
  {
   "cell_type": "code",
   "execution_count": 103,
   "metadata": {
    "scrolled": true
   },
   "outputs": [
    {
     "name": "stdout",
     "output_type": "stream",
     "text": [
      "Train on 258 samples, validate on 42 samples\n",
      "Epoch 1/600\n",
      "258/258 [==============================] - 9s 36ms/sample - loss: 0.5935 - accuracy: 0.7984 - val_loss: 0.6673 - val_accuracy: 0.8095\n",
      "Epoch 2/600\n",
      "258/258 [==============================] - 0s 1ms/sample - loss: 0.4777 - accuracy: 0.8488 - val_loss: 0.6359 - val_accuracy: 0.8333\n",
      "Epoch 3/600\n",
      "258/258 [==============================] - 0s 893us/sample - loss: 0.4481 - accuracy: 0.8682 - val_loss: 0.6682 - val_accuracy: 0.8333\n",
      "Epoch 4/600\n",
      "258/258 [==============================] - 0s 1ms/sample - loss: 0.5326 - accuracy: 0.8256 - val_loss: 0.6786 - val_accuracy: 0.8571\n",
      "Epoch 5/600\n",
      "258/258 [==============================] - 0s 850us/sample - loss: 0.5204 - accuracy: 0.8256 - val_loss: 0.6824 - val_accuracy: 0.8333\n",
      "Epoch 6/600\n",
      "258/258 [==============================] - 0s 982us/sample - loss: 0.4279 - accuracy: 0.8837 - val_loss: 0.6952 - val_accuracy: 0.8333\n",
      "Epoch 7/600\n",
      "258/258 [==============================] - 0s 1ms/sample - loss: 0.4859 - accuracy: 0.8411 - val_loss: 0.7127 - val_accuracy: 0.8333\n",
      "Epoch 8/600\n",
      "258/258 [==============================] - 0s 912us/sample - loss: 0.4652 - accuracy: 0.8605 - val_loss: 0.7141 - val_accuracy: 0.7857\n",
      "Epoch 9/600\n",
      "258/258 [==============================] - 0s 1ms/sample - loss: 0.4348 - accuracy: 0.9109 - val_loss: 0.7355 - val_accuracy: 0.7619\n",
      "Epoch 10/600\n",
      "258/258 [==============================] - 0s 1ms/sample - loss: 0.5310 - accuracy: 0.8411 - val_loss: 0.7214 - val_accuracy: 0.8095\n",
      "Epoch 11/600\n",
      "258/258 [==============================] - 0s 1ms/sample - loss: 0.4204 - accuracy: 0.8605 - val_loss: 0.7150 - val_accuracy: 0.8095\n",
      "Epoch 12/600\n",
      "258/258 [==============================] - 0s 990us/sample - loss: 0.4816 - accuracy: 0.8295 - val_loss: 0.7222 - val_accuracy: 0.7857\n",
      "Epoch 13/600\n",
      "258/258 [==============================] - 0s 1ms/sample - loss: 0.4423 - accuracy: 0.8566 - val_loss: 0.7352 - val_accuracy: 0.7857\n",
      "Epoch 14/600\n",
      "258/258 [==============================] - 0s 1ms/sample - loss: 0.4287 - accuracy: 0.8527 - val_loss: 0.7345 - val_accuracy: 0.7857\n",
      "Epoch 15/600\n",
      "258/258 [==============================] - 0s 997us/sample - loss: 0.4572 - accuracy: 0.8605 - val_loss: 0.7185 - val_accuracy: 0.8333\n",
      "Epoch 16/600\n",
      "258/258 [==============================] - 0s 854us/sample - loss: 0.4662 - accuracy: 0.8295 - val_loss: 0.7094 - val_accuracy: 0.8333\n",
      "Epoch 17/600\n",
      "258/258 [==============================] - 0s 920us/sample - loss: 0.4282 - accuracy: 0.8682 - val_loss: 0.6999 - val_accuracy: 0.8333\n",
      "Epoch 18/600\n",
      "258/258 [==============================] - 0s 1ms/sample - loss: 0.4585 - accuracy: 0.8527 - val_loss: 0.6881 - val_accuracy: 0.7857\n",
      "Epoch 19/600\n",
      "258/258 [==============================] - 0s 1ms/sample - loss: 0.4228 - accuracy: 0.8566 - val_loss: 0.6851 - val_accuracy: 0.7857\n",
      "Epoch 20/600\n",
      "258/258 [==============================] - 0s 858us/sample - loss: 0.3577 - accuracy: 0.8992 - val_loss: 0.6787 - val_accuracy: 0.7857\n",
      "Epoch 21/600\n",
      "258/258 [==============================] - 0s 684us/sample - loss: 0.4151 - accuracy: 0.8721 - val_loss: 0.6668 - val_accuracy: 0.7857\n",
      "Epoch 22/600\n",
      "258/258 [==============================] - 0s 715us/sample - loss: 0.3899 - accuracy: 0.8837 - val_loss: 0.6568 - val_accuracy: 0.7857\n",
      "Epoch 23/600\n",
      "258/258 [==============================] - 0s 781us/sample - loss: 0.4020 - accuracy: 0.8682 - val_loss: 0.6488 - val_accuracy: 0.7857\n",
      "Epoch 24/600\n",
      "258/258 [==============================] - 0s 723us/sample - loss: 0.4056 - accuracy: 0.8798 - val_loss: 0.6427 - val_accuracy: 0.7857\n",
      "Epoch 25/600\n",
      "258/258 [==============================] - 0s 785us/sample - loss: 0.3754 - accuracy: 0.8915 - val_loss: 0.6418 - val_accuracy: 0.7857\n",
      "Epoch 26/600\n",
      "258/258 [==============================] - 0s 916us/sample - loss: 0.3635 - accuracy: 0.8798 - val_loss: 0.6411 - val_accuracy: 0.7857\n",
      "Epoch 27/600\n",
      "258/258 [==============================] - 0s 854us/sample - loss: 0.4077 - accuracy: 0.8527 - val_loss: 0.6438 - val_accuracy: 0.7857\n",
      "Epoch 28/600\n",
      "258/258 [==============================] - 0s 792us/sample - loss: 0.3555 - accuracy: 0.8837 - val_loss: 0.6458 - val_accuracy: 0.7857\n",
      "Epoch 29/600\n",
      "258/258 [==============================] - 0s 897us/sample - loss: 0.3660 - accuracy: 0.8682 - val_loss: 0.6500 - val_accuracy: 0.7857\n",
      "Epoch 30/600\n",
      "258/258 [==============================] - 0s 1ms/sample - loss: 0.3744 - accuracy: 0.9070 - val_loss: 0.6535 - val_accuracy: 0.7857\n",
      "Epoch 31/600\n",
      "258/258 [==============================] - 0s 901us/sample - loss: 0.3528 - accuracy: 0.8721 - val_loss: 0.6543 - val_accuracy: 0.8095\n",
      "Epoch 32/600\n",
      "258/258 [==============================] - 0s 777us/sample - loss: 0.3722 - accuracy: 0.8837 - val_loss: 0.6575 - val_accuracy: 0.8095\n",
      "Epoch 33/600\n",
      "258/258 [==============================] - 0s 997us/sample - loss: 0.3413 - accuracy: 0.9031 - val_loss: 0.6606 - val_accuracy: 0.8095\n",
      "Epoch 34/600\n",
      "258/258 [==============================] - 0s 970us/sample - loss: 0.3515 - accuracy: 0.8798 - val_loss: 0.6645 - val_accuracy: 0.8095\n",
      "Epoch 35/600\n",
      "258/258 [==============================] - 0s 804us/sample - loss: 0.3638 - accuracy: 0.8682 - val_loss: 0.6714 - val_accuracy: 0.8095\n",
      "Epoch 36/600\n",
      "258/258 [==============================] - 0s 1ms/sample - loss: 0.3978 - accuracy: 0.8915 - val_loss: 0.6781 - val_accuracy: 0.8095\n",
      "Epoch 37/600\n",
      "258/258 [==============================] - 0s 707us/sample - loss: 0.3807 - accuracy: 0.8643 - val_loss: 0.6878 - val_accuracy: 0.7857\n",
      "Epoch 38/600\n",
      "258/258 [==============================] - 0s 827us/sample - loss: 0.3852 - accuracy: 0.8798 - val_loss: 0.6964 - val_accuracy: 0.7857\n",
      "Epoch 39/600\n",
      "258/258 [==============================] - 0s 773us/sample - loss: 0.3109 - accuracy: 0.9264 - val_loss: 0.6977 - val_accuracy: 0.7857\n",
      "Epoch 40/600\n",
      "258/258 [==============================] - 0s 804us/sample - loss: 0.3643 - accuracy: 0.8566 - val_loss: 0.6982 - val_accuracy: 0.7857\n",
      "Epoch 41/600\n",
      "258/258 [==============================] - 0s 1ms/sample - loss: 0.3225 - accuracy: 0.8992 - val_loss: 0.6953 - val_accuracy: 0.7857\n",
      "Epoch 42/600\n",
      "258/258 [==============================] - 0s 796us/sample - loss: 0.4128 - accuracy: 0.8798 - val_loss: 0.6874 - val_accuracy: 0.7857\n",
      "Epoch 43/600\n",
      "258/258 [==============================] - 0s 731us/sample - loss: 0.3258 - accuracy: 0.9031 - val_loss: 0.6802 - val_accuracy: 0.7857\n",
      "Epoch 44/600\n",
      "258/258 [==============================] - 0s 715us/sample - loss: 0.3618 - accuracy: 0.8915 - val_loss: 0.6731 - val_accuracy: 0.8095\n",
      "Epoch 45/600\n",
      "258/258 [==============================] - 0s 711us/sample - loss: 0.3246 - accuracy: 0.9147 - val_loss: 0.6676 - val_accuracy: 0.8095\n",
      "Epoch 46/600\n",
      "258/258 [==============================] - 0s 750us/sample - loss: 0.3247 - accuracy: 0.8798 - val_loss: 0.6636 - val_accuracy: 0.8095\n",
      "Epoch 47/600\n",
      "258/258 [==============================] - 0s 881us/sample - loss: 0.3576 - accuracy: 0.8915 - val_loss: 0.6587 - val_accuracy: 0.8095\n",
      "Epoch 48/600\n",
      "258/258 [==============================] - 0s 700us/sample - loss: 0.3043 - accuracy: 0.9186 - val_loss: 0.6564 - val_accuracy: 0.8095\n",
      "Epoch 49/600\n",
      "258/258 [==============================] - 0s 773us/sample - loss: 0.3244 - accuracy: 0.9186 - val_loss: 0.6542 - val_accuracy: 0.8095\n",
      "Epoch 50/600\n",
      "258/258 [==============================] - 0s 727us/sample - loss: 0.3466 - accuracy: 0.8798 - val_loss: 0.6516 - val_accuracy: 0.8095\n",
      "Epoch 51/600\n",
      "258/258 [==============================] - 0s 789us/sample - loss: 0.3132 - accuracy: 0.9070 - val_loss: 0.6497 - val_accuracy: 0.8095\n",
      "Epoch 52/600\n",
      "258/258 [==============================] - 0s 885us/sample - loss: 0.3409 - accuracy: 0.8798 - val_loss: 0.6480 - val_accuracy: 0.8095\n",
      "Epoch 53/600\n",
      "258/258 [==============================] - 0s 731us/sample - loss: 0.3769 - accuracy: 0.8915 - val_loss: 0.6465 - val_accuracy: 0.8095\n",
      "Epoch 54/600\n",
      "258/258 [==============================] - 0s 738us/sample - loss: 0.3275 - accuracy: 0.9031 - val_loss: 0.6459 - val_accuracy: 0.8095\n",
      "Epoch 55/600\n",
      "258/258 [==============================] - 0s 723us/sample - loss: 0.3174 - accuracy: 0.9109 - val_loss: 0.6454 - val_accuracy: 0.8095\n",
      "Epoch 56/600\n"
     ]
    },
    {
     "name": "stdout",
     "output_type": "stream",
     "text": [
      "258/258 [==============================] - 0s 707us/sample - loss: 0.3522 - accuracy: 0.8915 - val_loss: 0.6445 - val_accuracy: 0.8095\n",
      "Epoch 57/600\n",
      "258/258 [==============================] - 0s 773us/sample - loss: 0.3199 - accuracy: 0.9070 - val_loss: 0.6439 - val_accuracy: 0.8095\n",
      "Epoch 58/600\n",
      "258/258 [==============================] - 0s 758us/sample - loss: 0.2999 - accuracy: 0.9031 - val_loss: 0.6438 - val_accuracy: 0.8095\n",
      "Epoch 59/600\n",
      "258/258 [==============================] - 0s 765us/sample - loss: 0.3499 - accuracy: 0.8798 - val_loss: 0.6433 - val_accuracy: 0.8095\n",
      "Epoch 60/600\n",
      "258/258 [==============================] - 0s 742us/sample - loss: 0.3062 - accuracy: 0.9264 - val_loss: 0.6429 - val_accuracy: 0.8095\n",
      "Epoch 61/600\n",
      "258/258 [==============================] - 0s 734us/sample - loss: 0.3301 - accuracy: 0.9264 - val_loss: 0.6429 - val_accuracy: 0.8095\n",
      "Epoch 62/600\n",
      "258/258 [==============================] - 0s 719us/sample - loss: 0.3183 - accuracy: 0.9109 - val_loss: 0.6426 - val_accuracy: 0.8095\n",
      "Epoch 63/600\n",
      "258/258 [==============================] - 0s 808us/sample - loss: 0.2971 - accuracy: 0.8992 - val_loss: 0.6424 - val_accuracy: 0.8095\n",
      "Epoch 64/600\n",
      "258/258 [==============================] - 0s 773us/sample - loss: 0.3496 - accuracy: 0.9031 - val_loss: 0.6423 - val_accuracy: 0.8095\n",
      "Epoch 65/600\n",
      "258/258 [==============================] - 0s 792us/sample - loss: 0.3785 - accuracy: 0.9031 - val_loss: 0.6418 - val_accuracy: 0.8095\n",
      "Epoch 66/600\n",
      "258/258 [==============================] - 0s 700us/sample - loss: 0.3554 - accuracy: 0.9147 - val_loss: 0.6411 - val_accuracy: 0.8095\n",
      "Epoch 67/600\n",
      "258/258 [==============================] - 0s 696us/sample - loss: 0.3045 - accuracy: 0.9109 - val_loss: 0.6407 - val_accuracy: 0.8095\n",
      "Epoch 68/600\n",
      "258/258 [==============================] - 0s 843us/sample - loss: 0.3081 - accuracy: 0.8953 - val_loss: 0.6397 - val_accuracy: 0.8095\n",
      "Epoch 69/600\n",
      "258/258 [==============================] - 0s 827us/sample - loss: 0.3172 - accuracy: 0.9031 - val_loss: 0.6393 - val_accuracy: 0.8095\n",
      "Epoch 70/600\n",
      "258/258 [==============================] - 0s 1ms/sample - loss: 0.3046 - accuracy: 0.9225 - val_loss: 0.6391 - val_accuracy: 0.8095\n",
      "Epoch 71/600\n",
      "258/258 [==============================] - 0s 812us/sample - loss: 0.3396 - accuracy: 0.8992 - val_loss: 0.6388 - val_accuracy: 0.8095\n",
      "Epoch 72/600\n",
      "258/258 [==============================] - 0s 796us/sample - loss: 0.3475 - accuracy: 0.8876 - val_loss: 0.6384 - val_accuracy: 0.8095\n",
      "Epoch 73/600\n",
      "258/258 [==============================] - 0s 2ms/sample - loss: 0.2838 - accuracy: 0.9186 - val_loss: 0.6383 - val_accuracy: 0.8095\n",
      "Epoch 74/600\n",
      "258/258 [==============================] - 0s 827us/sample - loss: 0.3360 - accuracy: 0.8953 - val_loss: 0.6381 - val_accuracy: 0.8095\n",
      "Epoch 75/600\n",
      "258/258 [==============================] - 0s 1ms/sample - loss: 0.3289 - accuracy: 0.9031 - val_loss: 0.6376 - val_accuracy: 0.8095\n",
      "Epoch 76/600\n",
      "258/258 [==============================] - 0s 908us/sample - loss: 0.3360 - accuracy: 0.8953 - val_loss: 0.6374 - val_accuracy: 0.8095\n",
      "Epoch 77/600\n",
      "258/258 [==============================] - 0s 800us/sample - loss: 0.2990 - accuracy: 0.9109 - val_loss: 0.6374 - val_accuracy: 0.8095\n",
      "Epoch 78/600\n",
      "258/258 [==============================] - 0s 893us/sample - loss: 0.3217 - accuracy: 0.9031 - val_loss: 0.6373 - val_accuracy: 0.8095\n",
      "Epoch 79/600\n",
      "258/258 [==============================] - 0s 862us/sample - loss: 0.2875 - accuracy: 0.9186 - val_loss: 0.6373 - val_accuracy: 0.8095\n",
      "Epoch 80/600\n",
      "258/258 [==============================] - 0s 777us/sample - loss: 0.2858 - accuracy: 0.9186 - val_loss: 0.6375 - val_accuracy: 0.8095\n",
      "Epoch 81/600\n",
      "258/258 [==============================] - 0s 785us/sample - loss: 0.3140 - accuracy: 0.8992 - val_loss: 0.6377 - val_accuracy: 0.8095\n",
      "Epoch 82/600\n",
      "258/258 [==============================] - 0s 707us/sample - loss: 0.2876 - accuracy: 0.9109 - val_loss: 0.6379 - val_accuracy: 0.8095\n",
      "Epoch 83/600\n",
      "258/258 [==============================] - 0s 688us/sample - loss: 0.2643 - accuracy: 0.9186 - val_loss: 0.6381 - val_accuracy: 0.8095\n",
      "Epoch 84/600\n",
      "258/258 [==============================] - 0s 839us/sample - loss: 0.3390 - accuracy: 0.8837 - val_loss: 0.6382 - val_accuracy: 0.8095\n",
      "Epoch 85/600\n",
      "258/258 [==============================] - 0s 734us/sample - loss: 0.3152 - accuracy: 0.9109 - val_loss: 0.6383 - val_accuracy: 0.8095\n",
      "Epoch 86/600\n",
      "258/258 [==============================] - 0s 719us/sample - loss: 0.3481 - accuracy: 0.8915 - val_loss: 0.6385 - val_accuracy: 0.8095\n",
      "Epoch 87/600\n",
      "258/258 [==============================] - 0s 731us/sample - loss: 0.3445 - accuracy: 0.9109 - val_loss: 0.6383 - val_accuracy: 0.8095\n",
      "Epoch 88/600\n",
      "258/258 [==============================] - 0s 746us/sample - loss: 0.3236 - accuracy: 0.8876 - val_loss: 0.6383 - val_accuracy: 0.8095\n",
      "Epoch 89/600\n",
      "258/258 [==============================] - 0s 762us/sample - loss: 0.3387 - accuracy: 0.8953 - val_loss: 0.6383 - val_accuracy: 0.8095\n",
      "Epoch 90/600\n",
      "258/258 [==============================] - 0s 935us/sample - loss: 0.3465 - accuracy: 0.9031 - val_loss: 0.6382 - val_accuracy: 0.8095\n",
      "Epoch 91/600\n",
      "258/258 [==============================] - 0s 862us/sample - loss: 0.3664 - accuracy: 0.8876 - val_loss: 0.6383 - val_accuracy: 0.8095\n",
      "Epoch 92/600\n",
      "258/258 [==============================] - 0s 800us/sample - loss: 0.3075 - accuracy: 0.8915 - val_loss: 0.6384 - val_accuracy: 0.8095\n",
      "Epoch 93/600\n",
      "258/258 [==============================] - 0s 1ms/sample - loss: 0.3534 - accuracy: 0.8721 - val_loss: 0.6386 - val_accuracy: 0.8095\n",
      "Epoch 94/600\n",
      "258/258 [==============================] - 0s 1ms/sample - loss: 0.3528 - accuracy: 0.8953 - val_loss: 0.6388 - val_accuracy: 0.8095\n",
      "Epoch 95/600\n",
      "258/258 [==============================] - 0s 792us/sample - loss: 0.3001 - accuracy: 0.9186 - val_loss: 0.6390 - val_accuracy: 0.8095\n",
      "Epoch 96/600\n",
      "258/258 [==============================] - 0s 762us/sample - loss: 0.3059 - accuracy: 0.8915 - val_loss: 0.6389 - val_accuracy: 0.8095\n",
      "Epoch 97/600\n",
      "258/258 [==============================] - 0s 804us/sample - loss: 0.3347 - accuracy: 0.8798 - val_loss: 0.6392 - val_accuracy: 0.8095\n",
      "Epoch 98/600\n",
      "258/258 [==============================] - 0s 707us/sample - loss: 0.3323 - accuracy: 0.8992 - val_loss: 0.6392 - val_accuracy: 0.8095\n",
      "Epoch 99/600\n",
      "258/258 [==============================] - 0s 750us/sample - loss: 0.3594 - accuracy: 0.8876 - val_loss: 0.6395 - val_accuracy: 0.8095\n",
      "Epoch 100/600\n",
      "258/258 [==============================] - 0s 804us/sample - loss: 0.3270 - accuracy: 0.8953 - val_loss: 0.6398 - val_accuracy: 0.8095\n",
      "Epoch 101/600\n",
      "258/258 [==============================] - 0s 711us/sample - loss: 0.3120 - accuracy: 0.9147 - val_loss: 0.6397 - val_accuracy: 0.8095\n",
      "Epoch 102/600\n",
      "258/258 [==============================] - 0s 719us/sample - loss: 0.3066 - accuracy: 0.9031 - val_loss: 0.6397 - val_accuracy: 0.8095\n",
      "Epoch 103/600\n",
      "258/258 [==============================] - 0s 731us/sample - loss: 0.3077 - accuracy: 0.9070 - val_loss: 0.6399 - val_accuracy: 0.8095\n",
      "Epoch 104/600\n",
      "258/258 [==============================] - 0s 792us/sample - loss: 0.3482 - accuracy: 0.8992 - val_loss: 0.6400 - val_accuracy: 0.8095\n",
      "Epoch 105/600\n",
      "258/258 [==============================] - 0s 742us/sample - loss: 0.2945 - accuracy: 0.9302 - val_loss: 0.6401 - val_accuracy: 0.8095\n",
      "Epoch 106/600\n",
      "258/258 [==============================] - 0s 881us/sample - loss: 0.3397 - accuracy: 0.8760 - val_loss: 0.6400 - val_accuracy: 0.8095\n",
      "Epoch 107/600\n",
      "258/258 [==============================] - 0s 734us/sample - loss: 0.3259 - accuracy: 0.9109 - val_loss: 0.6402 - val_accuracy: 0.8095\n",
      "Epoch 108/600\n",
      "258/258 [==============================] - 0s 723us/sample - loss: 0.3151 - accuracy: 0.8953 - val_loss: 0.6405 - val_accuracy: 0.8095\n",
      "Epoch 109/600\n",
      "258/258 [==============================] - 0s 777us/sample - loss: 0.3262 - accuracy: 0.8915 - val_loss: 0.6406 - val_accuracy: 0.8095\n",
      "Epoch 110/600\n",
      "258/258 [==============================] - 0s 707us/sample - loss: 0.3423 - accuracy: 0.8837 - val_loss: 0.6406 - val_accuracy: 0.8095\n",
      "Epoch 111/600\n",
      "258/258 [==============================] - 0s 889us/sample - loss: 0.2931 - accuracy: 0.9341 - val_loss: 0.6406 - val_accuracy: 0.8095\n"
     ]
    },
    {
     "name": "stdout",
     "output_type": "stream",
     "text": [
      "Epoch 112/600\n",
      "258/258 [==============================] - 0s 758us/sample - loss: 0.3685 - accuracy: 0.8798 - val_loss: 0.6408 - val_accuracy: 0.8095\n",
      "Epoch 113/600\n",
      "258/258 [==============================] - 0s 711us/sample - loss: 0.3103 - accuracy: 0.9109 - val_loss: 0.6410 - val_accuracy: 0.8095\n",
      "Epoch 114/600\n",
      "258/258 [==============================] - 0s 765us/sample - loss: 0.2559 - accuracy: 0.9186 - val_loss: 0.6411 - val_accuracy: 0.8095\n",
      "Epoch 115/600\n",
      "258/258 [==============================] - 0s 680us/sample - loss: 0.3202 - accuracy: 0.8915 - val_loss: 0.6410 - val_accuracy: 0.8095\n",
      "Epoch 116/600\n",
      "258/258 [==============================] - 0s 773us/sample - loss: 0.3703 - accuracy: 0.8682 - val_loss: 0.6412 - val_accuracy: 0.8095\n",
      "Epoch 117/600\n",
      "258/258 [==============================] - 0s 820us/sample - loss: 0.3065 - accuracy: 0.9109 - val_loss: 0.6415 - val_accuracy: 0.8095\n",
      "Epoch 118/600\n",
      "258/258 [==============================] - 0s 727us/sample - loss: 0.3406 - accuracy: 0.8992 - val_loss: 0.6414 - val_accuracy: 0.8095\n",
      "Epoch 119/600\n",
      "258/258 [==============================] - 0s 727us/sample - loss: 0.2885 - accuracy: 0.9186 - val_loss: 0.6413 - val_accuracy: 0.8095\n",
      "Epoch 120/600\n",
      "258/258 [==============================] - 0s 827us/sample - loss: 0.3085 - accuracy: 0.9109 - val_loss: 0.6417 - val_accuracy: 0.8095\n",
      "Epoch 121/600\n",
      "258/258 [==============================] - 0s 773us/sample - loss: 0.3158 - accuracy: 0.9225 - val_loss: 0.6419 - val_accuracy: 0.8095\n",
      "Epoch 122/600\n",
      "258/258 [==============================] - 0s 796us/sample - loss: 0.3209 - accuracy: 0.9070 - val_loss: 0.6419 - val_accuracy: 0.8095\n",
      "Epoch 123/600\n",
      "258/258 [==============================] - 0s 696us/sample - loss: 0.3136 - accuracy: 0.8915 - val_loss: 0.6418 - val_accuracy: 0.8095\n",
      "Epoch 124/600\n",
      "258/258 [==============================] - 0s 711us/sample - loss: 0.3261 - accuracy: 0.8915 - val_loss: 0.6419 - val_accuracy: 0.8095\n",
      "Epoch 125/600\n",
      "258/258 [==============================] - 0s 704us/sample - loss: 0.3361 - accuracy: 0.9109 - val_loss: 0.6420 - val_accuracy: 0.8095\n",
      "Epoch 126/600\n",
      "258/258 [==============================] - 0s 769us/sample - loss: 0.2887 - accuracy: 0.9225 - val_loss: 0.6421 - val_accuracy: 0.8095\n",
      "Epoch 127/600\n",
      "258/258 [==============================] - 0s 754us/sample - loss: 0.3271 - accuracy: 0.8876 - val_loss: 0.6423 - val_accuracy: 0.8095\n",
      "Epoch 128/600\n",
      "258/258 [==============================] - 0s 812us/sample - loss: 0.3099 - accuracy: 0.9147 - val_loss: 0.6425 - val_accuracy: 0.8095\n",
      "Epoch 129/600\n",
      "258/258 [==============================] - 0s 734us/sample - loss: 0.3556 - accuracy: 0.9031 - val_loss: 0.6428 - val_accuracy: 0.8095\n",
      "Epoch 130/600\n",
      "258/258 [==============================] - 0s 700us/sample - loss: 0.3463 - accuracy: 0.8876 - val_loss: 0.6432 - val_accuracy: 0.8095\n",
      "Epoch 131/600\n",
      "258/258 [==============================] - 0s 711us/sample - loss: 0.3517 - accuracy: 0.8798 - val_loss: 0.6431 - val_accuracy: 0.8095\n",
      "Epoch 132/600\n",
      "258/258 [==============================] - 0s 812us/sample - loss: 0.2937 - accuracy: 0.9186 - val_loss: 0.6432 - val_accuracy: 0.8095\n",
      "Epoch 133/600\n",
      "258/258 [==============================] - 0s 897us/sample - loss: 0.2766 - accuracy: 0.9225 - val_loss: 0.6433 - val_accuracy: 0.8095\n",
      "Epoch 134/600\n",
      "258/258 [==============================] - 0s 959us/sample - loss: 0.3094 - accuracy: 0.9031 - val_loss: 0.6433 - val_accuracy: 0.8095\n",
      "Epoch 135/600\n",
      "258/258 [==============================] - 0s 785us/sample - loss: 0.3562 - accuracy: 0.8798 - val_loss: 0.6432 - val_accuracy: 0.8095\n",
      "Epoch 136/600\n",
      "258/258 [==============================] - 0s 1ms/sample - loss: 0.3422 - accuracy: 0.8953 - val_loss: 0.6432 - val_accuracy: 0.8095\n",
      "Epoch 137/600\n",
      "258/258 [==============================] - 0s 924us/sample - loss: 0.3298 - accuracy: 0.9070 - val_loss: 0.6434 - val_accuracy: 0.8095\n",
      "Epoch 138/600\n",
      "258/258 [==============================] - 0s 1ms/sample - loss: 0.3290 - accuracy: 0.8992 - val_loss: 0.6435 - val_accuracy: 0.8095\n",
      "Epoch 139/600\n",
      "258/258 [==============================] - 0s 932us/sample - loss: 0.3664 - accuracy: 0.8643 - val_loss: 0.6437 - val_accuracy: 0.8095\n",
      "Epoch 140/600\n",
      "258/258 [==============================] - 0s 982us/sample - loss: 0.3114 - accuracy: 0.9070 - val_loss: 0.6439 - val_accuracy: 0.8095\n",
      "Epoch 141/600\n",
      "258/258 [==============================] - 0s 920us/sample - loss: 0.2919 - accuracy: 0.9147 - val_loss: 0.6440 - val_accuracy: 0.8095\n",
      "Epoch 142/600\n",
      "258/258 [==============================] - 0s 858us/sample - loss: 0.3376 - accuracy: 0.8915 - val_loss: 0.6442 - val_accuracy: 0.8095\n",
      "Epoch 143/600\n",
      "258/258 [==============================] - 0s 847us/sample - loss: 0.2772 - accuracy: 0.9264 - val_loss: 0.6443 - val_accuracy: 0.8095\n",
      "Epoch 144/600\n",
      "258/258 [==============================] - 0s 1ms/sample - loss: 0.3485 - accuracy: 0.8760 - val_loss: 0.6444 - val_accuracy: 0.8095\n",
      "Epoch 145/600\n",
      "258/258 [==============================] - 0s 1ms/sample - loss: 0.3112 - accuracy: 0.8915 - val_loss: 0.6444 - val_accuracy: 0.8095\n",
      "Epoch 146/600\n",
      "258/258 [==============================] - 0s 1ms/sample - loss: 0.2786 - accuracy: 0.9186 - val_loss: 0.6443 - val_accuracy: 0.8095\n",
      "Epoch 147/600\n",
      "258/258 [==============================] - 0s 1ms/sample - loss: 0.2582 - accuracy: 0.9225 - val_loss: 0.6444 - val_accuracy: 0.8095\n",
      "Epoch 148/600\n",
      "258/258 [==============================] - 0s 893us/sample - loss: 0.3397 - accuracy: 0.8876 - val_loss: 0.6447 - val_accuracy: 0.8095\n",
      "Epoch 149/600\n",
      "258/258 [==============================] - 0s 769us/sample - loss: 0.2872 - accuracy: 0.9225 - val_loss: 0.6446 - val_accuracy: 0.8095\n",
      "Epoch 150/600\n",
      "258/258 [==============================] - 0s 820us/sample - loss: 0.3152 - accuracy: 0.8876 - val_loss: 0.6446 - val_accuracy: 0.8095\n",
      "Epoch 151/600\n",
      "258/258 [==============================] - 0s 920us/sample - loss: 0.3282 - accuracy: 0.8837 - val_loss: 0.6444 - val_accuracy: 0.8095\n",
      "Epoch 152/600\n",
      "258/258 [==============================] - 0s 997us/sample - loss: 0.2660 - accuracy: 0.9419 - val_loss: 0.6441 - val_accuracy: 0.8095\n",
      "Epoch 153/600\n",
      "258/258 [==============================] - 0s 750us/sample - loss: 0.3079 - accuracy: 0.8953 - val_loss: 0.6441 - val_accuracy: 0.8095\n",
      "Epoch 154/600\n",
      "258/258 [==============================] - 0s 750us/sample - loss: 0.3578 - accuracy: 0.8721 - val_loss: 0.6441 - val_accuracy: 0.8095\n",
      "Epoch 155/600\n",
      "258/258 [==============================] - 0s 816us/sample - loss: 0.3104 - accuracy: 0.9070 - val_loss: 0.6440 - val_accuracy: 0.8095\n",
      "Epoch 156/600\n",
      "258/258 [==============================] - 0s 850us/sample - loss: 0.3140 - accuracy: 0.8915 - val_loss: 0.6438 - val_accuracy: 0.8095\n",
      "Epoch 157/600\n",
      "258/258 [==============================] - 0s 912us/sample - loss: 0.2824 - accuracy: 0.9147 - val_loss: 0.6438 - val_accuracy: 0.8095\n",
      "Epoch 158/600\n",
      "258/258 [==============================] - 0s 831us/sample - loss: 0.3795 - accuracy: 0.8876 - val_loss: 0.6437 - val_accuracy: 0.8095\n",
      "Epoch 159/600\n",
      "258/258 [==============================] - 0s 777us/sample - loss: 0.2875 - accuracy: 0.9147 - val_loss: 0.6438 - val_accuracy: 0.8095\n",
      "Epoch 160/600\n",
      "258/258 [==============================] - 0s 1ms/sample - loss: 0.2890 - accuracy: 0.9070 - val_loss: 0.6439 - val_accuracy: 0.8095\n",
      "Epoch 161/600\n",
      "258/258 [==============================] - 0s 773us/sample - loss: 0.3037 - accuracy: 0.9070 - val_loss: 0.6439 - val_accuracy: 0.8095\n",
      "Epoch 162/600\n",
      "258/258 [==============================] - 0s 1ms/sample - loss: 0.3717 - accuracy: 0.8721 - val_loss: 0.6439 - val_accuracy: 0.8095\n",
      "Epoch 163/600\n",
      "258/258 [==============================] - 0s 839us/sample - loss: 0.3447 - accuracy: 0.8876 - val_loss: 0.6440 - val_accuracy: 0.8095\n",
      "Epoch 164/600\n",
      "258/258 [==============================] - 0s 862us/sample - loss: 0.2978 - accuracy: 0.9264 - val_loss: 0.6440 - val_accuracy: 0.8095\n",
      "Epoch 165/600\n",
      "258/258 [==============================] - 0s 870us/sample - loss: 0.2994 - accuracy: 0.9109 - val_loss: 0.6441 - val_accuracy: 0.8095\n",
      "Epoch 166/600\n",
      "WARNING:tensorflow:Reduce LR on plateau conditioned on metric `loss` which is not available. Available metrics are: lr\n"
     ]
    },
    {
     "name": "stdout",
     "output_type": "stream",
     "text": [
      "258/258 [==============================] - 0s 866us/sample\n"
     ]
    },
    {
     "ename": "KeyboardInterrupt",
     "evalue": "",
     "output_type": "error",
     "traceback": [
      "\u001b[1;31m---------------------------------------------------------------------------\u001b[0m",
      "\u001b[1;31mKeyboardInterrupt\u001b[0m                         Traceback (most recent call last)",
      "\u001b[1;32m<ipython-input-103-807ae1049331>\u001b[0m in \u001b[0;36m<module>\u001b[1;34m\u001b[0m\n\u001b[0;32m      9\u001b[0m                     \u001b[0mshuffle\u001b[0m\u001b[1;33m=\u001b[0m\u001b[1;32mTrue\u001b[0m\u001b[1;33m,\u001b[0m\u001b[1;33m\u001b[0m\u001b[1;33m\u001b[0m\u001b[0m\n\u001b[0;32m     10\u001b[0m                     \u001b[0mcallbacks\u001b[0m\u001b[1;33m=\u001b[0m\u001b[1;33m[\u001b[0m\u001b[0mlrScheduler\u001b[0m\u001b[1;33m]\u001b[0m\u001b[1;33m,\u001b[0m\u001b[1;33m\u001b[0m\u001b[1;33m\u001b[0m\u001b[0m\n\u001b[1;32m---> 11\u001b[1;33m                     \u001b[0mvalidation_data\u001b[0m\u001b[1;33m=\u001b[0m\u001b[1;33m(\u001b[0m\u001b[1;33m[\u001b[0m\u001b[0mX_test_0\u001b[0m\u001b[1;33m,\u001b[0m\u001b[0mX_test_1\u001b[0m\u001b[1;33m]\u001b[0m\u001b[1;33m,\u001b[0m\u001b[0mY_test\u001b[0m\u001b[1;33m)\u001b[0m\u001b[1;33m\u001b[0m\u001b[1;33m\u001b[0m\u001b[0m\n\u001b[0m\u001b[0;32m     12\u001b[0m                     )\n",
      "\u001b[1;32m~\\Anaconda3\\envs\\ht-1\\lib\\site-packages\\tensorflow_core\\python\\keras\\engine\\training.py\u001b[0m in \u001b[0;36mfit\u001b[1;34m(self, x, y, batch_size, epochs, verbose, callbacks, validation_split, validation_data, shuffle, class_weight, sample_weight, initial_epoch, steps_per_epoch, validation_steps, validation_freq, max_queue_size, workers, use_multiprocessing, **kwargs)\u001b[0m\n\u001b[0;32m    726\u001b[0m         \u001b[0mmax_queue_size\u001b[0m\u001b[1;33m=\u001b[0m\u001b[0mmax_queue_size\u001b[0m\u001b[1;33m,\u001b[0m\u001b[1;33m\u001b[0m\u001b[1;33m\u001b[0m\u001b[0m\n\u001b[0;32m    727\u001b[0m         \u001b[0mworkers\u001b[0m\u001b[1;33m=\u001b[0m\u001b[0mworkers\u001b[0m\u001b[1;33m,\u001b[0m\u001b[1;33m\u001b[0m\u001b[1;33m\u001b[0m\u001b[0m\n\u001b[1;32m--> 728\u001b[1;33m         use_multiprocessing=use_multiprocessing)\n\u001b[0m\u001b[0;32m    729\u001b[0m \u001b[1;33m\u001b[0m\u001b[0m\n\u001b[0;32m    730\u001b[0m   def evaluate(self,\n",
      "\u001b[1;32m~\\Anaconda3\\envs\\ht-1\\lib\\site-packages\\tensorflow_core\\python\\keras\\engine\\training_v2.py\u001b[0m in \u001b[0;36mfit\u001b[1;34m(self, model, x, y, batch_size, epochs, verbose, callbacks, validation_split, validation_data, shuffle, class_weight, sample_weight, initial_epoch, steps_per_epoch, validation_steps, validation_freq, **kwargs)\u001b[0m\n\u001b[0;32m    322\u001b[0m                 \u001b[0mmode\u001b[0m\u001b[1;33m=\u001b[0m\u001b[0mModeKeys\u001b[0m\u001b[1;33m.\u001b[0m\u001b[0mTRAIN\u001b[0m\u001b[1;33m,\u001b[0m\u001b[1;33m\u001b[0m\u001b[1;33m\u001b[0m\u001b[0m\n\u001b[0;32m    323\u001b[0m                 \u001b[0mtraining_context\u001b[0m\u001b[1;33m=\u001b[0m\u001b[0mtraining_context\u001b[0m\u001b[1;33m,\u001b[0m\u001b[1;33m\u001b[0m\u001b[1;33m\u001b[0m\u001b[0m\n\u001b[1;32m--> 324\u001b[1;33m                 total_epochs=epochs)\n\u001b[0m\u001b[0;32m    325\u001b[0m             \u001b[0mcbks\u001b[0m\u001b[1;33m.\u001b[0m\u001b[0mmake_logs\u001b[0m\u001b[1;33m(\u001b[0m\u001b[0mmodel\u001b[0m\u001b[1;33m,\u001b[0m \u001b[0mepoch_logs\u001b[0m\u001b[1;33m,\u001b[0m \u001b[0mtraining_result\u001b[0m\u001b[1;33m,\u001b[0m \u001b[0mModeKeys\u001b[0m\u001b[1;33m.\u001b[0m\u001b[0mTRAIN\u001b[0m\u001b[1;33m)\u001b[0m\u001b[1;33m\u001b[0m\u001b[1;33m\u001b[0m\u001b[0m\n\u001b[0;32m    326\u001b[0m \u001b[1;33m\u001b[0m\u001b[0m\n",
      "\u001b[1;32m~\\Anaconda3\\envs\\ht-1\\lib\\site-packages\\tensorflow_core\\python\\keras\\engine\\training_v2.py\u001b[0m in \u001b[0;36mrun_one_epoch\u001b[1;34m(model, iterator, execution_function, dataset_size, batch_size, strategy, steps_per_epoch, num_samples, mode, training_context, total_epochs)\u001b[0m\n\u001b[0;32m    121\u001b[0m         step=step, mode=mode, size=current_batch_size) as batch_logs:\n\u001b[0;32m    122\u001b[0m       \u001b[1;32mtry\u001b[0m\u001b[1;33m:\u001b[0m\u001b[1;33m\u001b[0m\u001b[1;33m\u001b[0m\u001b[0m\n\u001b[1;32m--> 123\u001b[1;33m         \u001b[0mbatch_outs\u001b[0m \u001b[1;33m=\u001b[0m \u001b[0mexecution_function\u001b[0m\u001b[1;33m(\u001b[0m\u001b[0miterator\u001b[0m\u001b[1;33m)\u001b[0m\u001b[1;33m\u001b[0m\u001b[1;33m\u001b[0m\u001b[0m\n\u001b[0m\u001b[0;32m    124\u001b[0m       \u001b[1;32mexcept\u001b[0m \u001b[1;33m(\u001b[0m\u001b[0mStopIteration\u001b[0m\u001b[1;33m,\u001b[0m \u001b[0merrors\u001b[0m\u001b[1;33m.\u001b[0m\u001b[0mOutOfRangeError\u001b[0m\u001b[1;33m)\u001b[0m\u001b[1;33m:\u001b[0m\u001b[1;33m\u001b[0m\u001b[1;33m\u001b[0m\u001b[0m\n\u001b[0;32m    125\u001b[0m         \u001b[1;31m# TODO(kaftan): File bug about tf function and errors.OutOfRangeError?\u001b[0m\u001b[1;33m\u001b[0m\u001b[1;33m\u001b[0m\u001b[1;33m\u001b[0m\u001b[0m\n",
      "\u001b[1;32m~\\Anaconda3\\envs\\ht-1\\lib\\site-packages\\tensorflow_core\\python\\keras\\engine\\training_v2_utils.py\u001b[0m in \u001b[0;36mexecution_function\u001b[1;34m(input_fn)\u001b[0m\n\u001b[0;32m     84\u001b[0m     \u001b[1;31m# `numpy` translates Tensors to values in Eager mode.\u001b[0m\u001b[1;33m\u001b[0m\u001b[1;33m\u001b[0m\u001b[1;33m\u001b[0m\u001b[0m\n\u001b[0;32m     85\u001b[0m     return nest.map_structure(_non_none_constant_value,\n\u001b[1;32m---> 86\u001b[1;33m                               distributed_function(input_fn))\n\u001b[0m\u001b[0;32m     87\u001b[0m \u001b[1;33m\u001b[0m\u001b[0m\n\u001b[0;32m     88\u001b[0m   \u001b[1;32mreturn\u001b[0m \u001b[0mexecution_function\u001b[0m\u001b[1;33m\u001b[0m\u001b[1;33m\u001b[0m\u001b[0m\n",
      "\u001b[1;32m~\\Anaconda3\\envs\\ht-1\\lib\\site-packages\\tensorflow_core\\python\\eager\\def_function.py\u001b[0m in \u001b[0;36m__call__\u001b[1;34m(self, *args, **kwds)\u001b[0m\n\u001b[0;32m    455\u001b[0m \u001b[1;33m\u001b[0m\u001b[0m\n\u001b[0;32m    456\u001b[0m     \u001b[0mtracing_count\u001b[0m \u001b[1;33m=\u001b[0m \u001b[0mself\u001b[0m\u001b[1;33m.\u001b[0m\u001b[0m_get_tracing_count\u001b[0m\u001b[1;33m(\u001b[0m\u001b[1;33m)\u001b[0m\u001b[1;33m\u001b[0m\u001b[1;33m\u001b[0m\u001b[0m\n\u001b[1;32m--> 457\u001b[1;33m     \u001b[0mresult\u001b[0m \u001b[1;33m=\u001b[0m \u001b[0mself\u001b[0m\u001b[1;33m.\u001b[0m\u001b[0m_call\u001b[0m\u001b[1;33m(\u001b[0m\u001b[1;33m*\u001b[0m\u001b[0margs\u001b[0m\u001b[1;33m,\u001b[0m \u001b[1;33m**\u001b[0m\u001b[0mkwds\u001b[0m\u001b[1;33m)\u001b[0m\u001b[1;33m\u001b[0m\u001b[1;33m\u001b[0m\u001b[0m\n\u001b[0m\u001b[0;32m    458\u001b[0m     \u001b[1;32mif\u001b[0m \u001b[0mtracing_count\u001b[0m \u001b[1;33m==\u001b[0m \u001b[0mself\u001b[0m\u001b[1;33m.\u001b[0m\u001b[0m_get_tracing_count\u001b[0m\u001b[1;33m(\u001b[0m\u001b[1;33m)\u001b[0m\u001b[1;33m:\u001b[0m\u001b[1;33m\u001b[0m\u001b[1;33m\u001b[0m\u001b[0m\n\u001b[0;32m    459\u001b[0m       \u001b[0mself\u001b[0m\u001b[1;33m.\u001b[0m\u001b[0m_call_counter\u001b[0m\u001b[1;33m.\u001b[0m\u001b[0mcalled_without_tracing\u001b[0m\u001b[1;33m(\u001b[0m\u001b[1;33m)\u001b[0m\u001b[1;33m\u001b[0m\u001b[1;33m\u001b[0m\u001b[0m\n",
      "\u001b[1;32m~\\Anaconda3\\envs\\ht-1\\lib\\site-packages\\tensorflow_core\\python\\eager\\def_function.py\u001b[0m in \u001b[0;36m_call\u001b[1;34m(self, *args, **kwds)\u001b[0m\n\u001b[0;32m    485\u001b[0m       \u001b[1;31m# In this case we have created variables on the first call, so we run the\u001b[0m\u001b[1;33m\u001b[0m\u001b[1;33m\u001b[0m\u001b[1;33m\u001b[0m\u001b[0m\n\u001b[0;32m    486\u001b[0m       \u001b[1;31m# defunned version which is guaranteed to never create variables.\u001b[0m\u001b[1;33m\u001b[0m\u001b[1;33m\u001b[0m\u001b[1;33m\u001b[0m\u001b[0m\n\u001b[1;32m--> 487\u001b[1;33m       \u001b[1;32mreturn\u001b[0m \u001b[0mself\u001b[0m\u001b[1;33m.\u001b[0m\u001b[0m_stateless_fn\u001b[0m\u001b[1;33m(\u001b[0m\u001b[1;33m*\u001b[0m\u001b[0margs\u001b[0m\u001b[1;33m,\u001b[0m \u001b[1;33m**\u001b[0m\u001b[0mkwds\u001b[0m\u001b[1;33m)\u001b[0m  \u001b[1;31m# pylint: disable=not-callable\u001b[0m\u001b[1;33m\u001b[0m\u001b[1;33m\u001b[0m\u001b[0m\n\u001b[0m\u001b[0;32m    488\u001b[0m     \u001b[1;32melif\u001b[0m \u001b[0mself\u001b[0m\u001b[1;33m.\u001b[0m\u001b[0m_stateful_fn\u001b[0m \u001b[1;32mis\u001b[0m \u001b[1;32mnot\u001b[0m \u001b[1;32mNone\u001b[0m\u001b[1;33m:\u001b[0m\u001b[1;33m\u001b[0m\u001b[1;33m\u001b[0m\u001b[0m\n\u001b[0;32m    489\u001b[0m       \u001b[1;31m# Release the lock early so that multiple threads can perform the call\u001b[0m\u001b[1;33m\u001b[0m\u001b[1;33m\u001b[0m\u001b[1;33m\u001b[0m\u001b[0m\n",
      "\u001b[1;32m~\\Anaconda3\\envs\\ht-1\\lib\\site-packages\\tensorflow_core\\python\\eager\\function.py\u001b[0m in \u001b[0;36m__call__\u001b[1;34m(self, *args, **kwargs)\u001b[0m\n\u001b[0;32m   1821\u001b[0m     \u001b[1;34m\"\"\"Calls a graph function specialized to the inputs.\"\"\"\u001b[0m\u001b[1;33m\u001b[0m\u001b[1;33m\u001b[0m\u001b[0m\n\u001b[0;32m   1822\u001b[0m     \u001b[0mgraph_function\u001b[0m\u001b[1;33m,\u001b[0m \u001b[0margs\u001b[0m\u001b[1;33m,\u001b[0m \u001b[0mkwargs\u001b[0m \u001b[1;33m=\u001b[0m \u001b[0mself\u001b[0m\u001b[1;33m.\u001b[0m\u001b[0m_maybe_define_function\u001b[0m\u001b[1;33m(\u001b[0m\u001b[0margs\u001b[0m\u001b[1;33m,\u001b[0m \u001b[0mkwargs\u001b[0m\u001b[1;33m)\u001b[0m\u001b[1;33m\u001b[0m\u001b[1;33m\u001b[0m\u001b[0m\n\u001b[1;32m-> 1823\u001b[1;33m     \u001b[1;32mreturn\u001b[0m \u001b[0mgraph_function\u001b[0m\u001b[1;33m.\u001b[0m\u001b[0m_filtered_call\u001b[0m\u001b[1;33m(\u001b[0m\u001b[0margs\u001b[0m\u001b[1;33m,\u001b[0m \u001b[0mkwargs\u001b[0m\u001b[1;33m)\u001b[0m  \u001b[1;31m# pylint: disable=protected-access\u001b[0m\u001b[1;33m\u001b[0m\u001b[1;33m\u001b[0m\u001b[0m\n\u001b[0m\u001b[0;32m   1824\u001b[0m \u001b[1;33m\u001b[0m\u001b[0m\n\u001b[0;32m   1825\u001b[0m   \u001b[1;33m@\u001b[0m\u001b[0mproperty\u001b[0m\u001b[1;33m\u001b[0m\u001b[1;33m\u001b[0m\u001b[0m\n",
      "\u001b[1;32m~\\Anaconda3\\envs\\ht-1\\lib\\site-packages\\tensorflow_core\\python\\eager\\function.py\u001b[0m in \u001b[0;36m_filtered_call\u001b[1;34m(self, args, kwargs)\u001b[0m\n\u001b[0;32m   1139\u001b[0m          if isinstance(t, (ops.Tensor,\n\u001b[0;32m   1140\u001b[0m                            resource_variable_ops.BaseResourceVariable))),\n\u001b[1;32m-> 1141\u001b[1;33m         self.captured_inputs)\n\u001b[0m\u001b[0;32m   1142\u001b[0m \u001b[1;33m\u001b[0m\u001b[0m\n\u001b[0;32m   1143\u001b[0m   \u001b[1;32mdef\u001b[0m \u001b[0m_call_flat\u001b[0m\u001b[1;33m(\u001b[0m\u001b[0mself\u001b[0m\u001b[1;33m,\u001b[0m \u001b[0margs\u001b[0m\u001b[1;33m,\u001b[0m \u001b[0mcaptured_inputs\u001b[0m\u001b[1;33m,\u001b[0m \u001b[0mcancellation_manager\u001b[0m\u001b[1;33m=\u001b[0m\u001b[1;32mNone\u001b[0m\u001b[1;33m)\u001b[0m\u001b[1;33m:\u001b[0m\u001b[1;33m\u001b[0m\u001b[1;33m\u001b[0m\u001b[0m\n",
      "\u001b[1;32m~\\Anaconda3\\envs\\ht-1\\lib\\site-packages\\tensorflow_core\\python\\eager\\function.py\u001b[0m in \u001b[0;36m_call_flat\u001b[1;34m(self, args, captured_inputs, cancellation_manager)\u001b[0m\n\u001b[0;32m   1222\u001b[0m     \u001b[1;32mif\u001b[0m \u001b[0mexecuting_eagerly\u001b[0m\u001b[1;33m:\u001b[0m\u001b[1;33m\u001b[0m\u001b[1;33m\u001b[0m\u001b[0m\n\u001b[0;32m   1223\u001b[0m       flat_outputs = forward_function.call(\n\u001b[1;32m-> 1224\u001b[1;33m           ctx, args, cancellation_manager=cancellation_manager)\n\u001b[0m\u001b[0;32m   1225\u001b[0m     \u001b[1;32melse\u001b[0m\u001b[1;33m:\u001b[0m\u001b[1;33m\u001b[0m\u001b[1;33m\u001b[0m\u001b[0m\n\u001b[0;32m   1226\u001b[0m       \u001b[0mgradient_name\u001b[0m \u001b[1;33m=\u001b[0m \u001b[0mself\u001b[0m\u001b[1;33m.\u001b[0m\u001b[0m_delayed_rewrite_functions\u001b[0m\u001b[1;33m.\u001b[0m\u001b[0mregister\u001b[0m\u001b[1;33m(\u001b[0m\u001b[1;33m)\u001b[0m\u001b[1;33m\u001b[0m\u001b[1;33m\u001b[0m\u001b[0m\n",
      "\u001b[1;32m~\\Anaconda3\\envs\\ht-1\\lib\\site-packages\\tensorflow_core\\python\\eager\\function.py\u001b[0m in \u001b[0;36mcall\u001b[1;34m(self, ctx, args, cancellation_manager)\u001b[0m\n\u001b[0;32m    509\u001b[0m               \u001b[0minputs\u001b[0m\u001b[1;33m=\u001b[0m\u001b[0margs\u001b[0m\u001b[1;33m,\u001b[0m\u001b[1;33m\u001b[0m\u001b[1;33m\u001b[0m\u001b[0m\n\u001b[0;32m    510\u001b[0m               \u001b[0mattrs\u001b[0m\u001b[1;33m=\u001b[0m\u001b[1;33m(\u001b[0m\u001b[1;34m\"executor_type\"\u001b[0m\u001b[1;33m,\u001b[0m \u001b[0mexecutor_type\u001b[0m\u001b[1;33m,\u001b[0m \u001b[1;34m\"config_proto\"\u001b[0m\u001b[1;33m,\u001b[0m \u001b[0mconfig\u001b[0m\u001b[1;33m)\u001b[0m\u001b[1;33m,\u001b[0m\u001b[1;33m\u001b[0m\u001b[1;33m\u001b[0m\u001b[0m\n\u001b[1;32m--> 511\u001b[1;33m               ctx=ctx)\n\u001b[0m\u001b[0;32m    512\u001b[0m         \u001b[1;32melse\u001b[0m\u001b[1;33m:\u001b[0m\u001b[1;33m\u001b[0m\u001b[1;33m\u001b[0m\u001b[0m\n\u001b[0;32m    513\u001b[0m           outputs = execute.execute_with_cancellation(\n",
      "\u001b[1;32m~\\Anaconda3\\envs\\ht-1\\lib\\site-packages\\tensorflow_core\\python\\eager\\execute.py\u001b[0m in \u001b[0;36mquick_execute\u001b[1;34m(op_name, num_outputs, inputs, attrs, ctx, name)\u001b[0m\n\u001b[0;32m     59\u001b[0m     tensors = pywrap_tensorflow.TFE_Py_Execute(ctx._handle, device_name,\n\u001b[0;32m     60\u001b[0m                                                \u001b[0mop_name\u001b[0m\u001b[1;33m,\u001b[0m \u001b[0minputs\u001b[0m\u001b[1;33m,\u001b[0m \u001b[0mattrs\u001b[0m\u001b[1;33m,\u001b[0m\u001b[1;33m\u001b[0m\u001b[1;33m\u001b[0m\u001b[0m\n\u001b[1;32m---> 61\u001b[1;33m                                                num_outputs)\n\u001b[0m\u001b[0;32m     62\u001b[0m   \u001b[1;32mexcept\u001b[0m \u001b[0mcore\u001b[0m\u001b[1;33m.\u001b[0m\u001b[0m_NotOkStatusException\u001b[0m \u001b[1;32mas\u001b[0m \u001b[0me\u001b[0m\u001b[1;33m:\u001b[0m\u001b[1;33m\u001b[0m\u001b[1;33m\u001b[0m\u001b[0m\n\u001b[0;32m     63\u001b[0m     \u001b[1;32mif\u001b[0m \u001b[0mname\u001b[0m \u001b[1;32mis\u001b[0m \u001b[1;32mnot\u001b[0m \u001b[1;32mNone\u001b[0m\u001b[1;33m:\u001b[0m\u001b[1;33m\u001b[0m\u001b[1;33m\u001b[0m\u001b[0m\n",
      "\u001b[1;31mKeyboardInterrupt\u001b[0m: "
     ]
    }
   ],
   "source": [
    "import tensorflow.keras\n",
    "lr = 1e-3\n",
    "DD_Net.compile(loss=\"categorical_crossentropy\",optimizer=Adam(lr),metrics=['accuracy'])\n",
    "lrScheduler = tensorflow.keras.callbacks.ReduceLROnPlateau(monitor='loss', factor=0.5, patience=5, cooldown=5, min_lr=5e-6)\n",
    "history = DD_Net.fit([X_0,X_1],Y,\n",
    "                    batch_size=len(Y),\n",
    "                    epochs=600,\n",
    "                    verbose=True,\n",
    "                    shuffle=True,\n",
    "                    callbacks=[lrScheduler],\n",
    "                    validation_data=([X_test_0,X_test_1],Y_test)      \n",
    "                    )"
   ]
  },
  {
   "cell_type": "code",
   "execution_count": 100,
   "metadata": {},
   "outputs": [
    {
     "data": {
      "image/png": "[encoded data removed]",
      "text/plain": [
       "<Figure size 432x288 with 1 Axes>"
      ]
     },
     "metadata": {
      "needs_background": "light"
     },
     "output_type": "display_data"
    }
   ],
   "source": [
    "# Plot training & validation accuracy values\n",
    "plt.plot(history.history['accuracy'])\n",
    "plt.plot(history.history['val_accuracy'])\n",
    "plt.title('Model accuracy')\n",
    "plt.ylabel('Accuracy')\n",
    "plt.xlabel('Epoch')\n",
    "plt.legend(['Train', 'Test'], loc='upper left')\n",
    "plt.show()"
   ]
  },
  {
   "cell_type": "code",
   "execution_count": 19,
   "metadata": {},
   "outputs": [
    {
     "ename": "OSError",
     "evalue": "Unable to create file (unable to open file: name = 'weights/coarse_lite.h5', errno = 2, error message = 'No such file or directory', flags = 13, o_flags = 302)",
     "output_type": "error",
     "traceback": [
      "\u001b[1;31m---------------------------------------------------------------------------\u001b[0m",
      "\u001b[1;31mOSError\u001b[0m                                   Traceback (most recent call last)",
      "\u001b[1;32m<ipython-input-19-f14d338abab4>\u001b[0m in \u001b[0;36m<module>\u001b[1;34m\u001b[0m\n\u001b[1;32m----> 1\u001b[1;33m \u001b[0mDD_Net\u001b[0m\u001b[1;33m.\u001b[0m\u001b[0msave_weights\u001b[0m\u001b[1;33m(\u001b[0m\u001b[1;34m'weights/coarse_lite.h5'\u001b[0m\u001b[1;33m)\u001b[0m\u001b[1;33m\u001b[0m\u001b[1;33m\u001b[0m\u001b[0m\n\u001b[0m",
      "\u001b[1;32m~\\Anaconda3\\envs\\ht-1\\lib\\site-packages\\tensorflow_core\\python\\keras\\engine\\network.py\u001b[0m in \u001b[0;36msave_weights\u001b[1;34m(self, filepath, overwrite, save_format)\u001b[0m\n\u001b[0;32m   1071\u001b[0m         \u001b[1;32mreturn\u001b[0m\u001b[1;33m\u001b[0m\u001b[1;33m\u001b[0m\u001b[0m\n\u001b[0;32m   1072\u001b[0m     \u001b[1;32mif\u001b[0m \u001b[0msave_format\u001b[0m \u001b[1;33m==\u001b[0m \u001b[1;34m'h5'\u001b[0m\u001b[1;33m:\u001b[0m\u001b[1;33m\u001b[0m\u001b[1;33m\u001b[0m\u001b[0m\n\u001b[1;32m-> 1073\u001b[1;33m       \u001b[1;32mwith\u001b[0m \u001b[0mh5py\u001b[0m\u001b[1;33m.\u001b[0m\u001b[0mFile\u001b[0m\u001b[1;33m(\u001b[0m\u001b[0mfilepath\u001b[0m\u001b[1;33m,\u001b[0m \u001b[1;34m'w'\u001b[0m\u001b[1;33m)\u001b[0m \u001b[1;32mas\u001b[0m \u001b[0mf\u001b[0m\u001b[1;33m:\u001b[0m\u001b[1;33m\u001b[0m\u001b[1;33m\u001b[0m\u001b[0m\n\u001b[0m\u001b[0;32m   1074\u001b[0m         \u001b[0msaving\u001b[0m\u001b[1;33m.\u001b[0m\u001b[0msave_weights_to_hdf5_group\u001b[0m\u001b[1;33m(\u001b[0m\u001b[0mf\u001b[0m\u001b[1;33m,\u001b[0m \u001b[0mself\u001b[0m\u001b[1;33m.\u001b[0m\u001b[0mlayers\u001b[0m\u001b[1;33m)\u001b[0m\u001b[1;33m\u001b[0m\u001b[1;33m\u001b[0m\u001b[0m\n\u001b[0;32m   1075\u001b[0m     \u001b[1;32melse\u001b[0m\u001b[1;33m:\u001b[0m\u001b[1;33m\u001b[0m\u001b[1;33m\u001b[0m\u001b[0m\n",
      "\u001b[1;32m~\\Anaconda3\\envs\\ht-1\\lib\\site-packages\\h5py\\_hl\\files.py\u001b[0m in \u001b[0;36m__init__\u001b[1;34m(self, name, mode, driver, libver, userblock_size, swmr, **kwds)\u001b[0m\n\u001b[0;32m    310\u001b[0m             \u001b[1;32mwith\u001b[0m \u001b[0mphil\u001b[0m\u001b[1;33m:\u001b[0m\u001b[1;33m\u001b[0m\u001b[1;33m\u001b[0m\u001b[0m\n\u001b[0;32m    311\u001b[0m                 \u001b[0mfapl\u001b[0m \u001b[1;33m=\u001b[0m \u001b[0mmake_fapl\u001b[0m\u001b[1;33m(\u001b[0m\u001b[0mdriver\u001b[0m\u001b[1;33m,\u001b[0m \u001b[0mlibver\u001b[0m\u001b[1;33m,\u001b[0m \u001b[1;33m**\u001b[0m\u001b[0mkwds\u001b[0m\u001b[1;33m)\u001b[0m\u001b[1;33m\u001b[0m\u001b[1;33m\u001b[0m\u001b[0m\n\u001b[1;32m--> 312\u001b[1;33m                 \u001b[0mfid\u001b[0m \u001b[1;33m=\u001b[0m \u001b[0mmake_fid\u001b[0m\u001b[1;33m(\u001b[0m\u001b[0mname\u001b[0m\u001b[1;33m,\u001b[0m \u001b[0mmode\u001b[0m\u001b[1;33m,\u001b[0m \u001b[0muserblock_size\u001b[0m\u001b[1;33m,\u001b[0m \u001b[0mfapl\u001b[0m\u001b[1;33m,\u001b[0m \u001b[0mswmr\u001b[0m\u001b[1;33m=\u001b[0m\u001b[0mswmr\u001b[0m\u001b[1;33m)\u001b[0m\u001b[1;33m\u001b[0m\u001b[1;33m\u001b[0m\u001b[0m\n\u001b[0m\u001b[0;32m    313\u001b[0m \u001b[1;33m\u001b[0m\u001b[0m\n\u001b[0;32m    314\u001b[0m                 \u001b[1;32mif\u001b[0m \u001b[0mswmr_support\u001b[0m\u001b[1;33m:\u001b[0m\u001b[1;33m\u001b[0m\u001b[1;33m\u001b[0m\u001b[0m\n",
      "\u001b[1;32m~\\Anaconda3\\envs\\ht-1\\lib\\site-packages\\h5py\\_hl\\files.py\u001b[0m in \u001b[0;36mmake_fid\u001b[1;34m(name, mode, userblock_size, fapl, fcpl, swmr)\u001b[0m\n\u001b[0;32m    146\u001b[0m         \u001b[0mfid\u001b[0m \u001b[1;33m=\u001b[0m \u001b[0mh5f\u001b[0m\u001b[1;33m.\u001b[0m\u001b[0mcreate\u001b[0m\u001b[1;33m(\u001b[0m\u001b[0mname\u001b[0m\u001b[1;33m,\u001b[0m \u001b[0mh5f\u001b[0m\u001b[1;33m.\u001b[0m\u001b[0mACC_EXCL\u001b[0m\u001b[1;33m,\u001b[0m \u001b[0mfapl\u001b[0m\u001b[1;33m=\u001b[0m\u001b[0mfapl\u001b[0m\u001b[1;33m,\u001b[0m \u001b[0mfcpl\u001b[0m\u001b[1;33m=\u001b[0m\u001b[0mfcpl\u001b[0m\u001b[1;33m)\u001b[0m\u001b[1;33m\u001b[0m\u001b[1;33m\u001b[0m\u001b[0m\n\u001b[0;32m    147\u001b[0m     \u001b[1;32melif\u001b[0m \u001b[0mmode\u001b[0m \u001b[1;33m==\u001b[0m \u001b[1;34m'w'\u001b[0m\u001b[1;33m:\u001b[0m\u001b[1;33m\u001b[0m\u001b[1;33m\u001b[0m\u001b[0m\n\u001b[1;32m--> 148\u001b[1;33m         \u001b[0mfid\u001b[0m \u001b[1;33m=\u001b[0m \u001b[0mh5f\u001b[0m\u001b[1;33m.\u001b[0m\u001b[0mcreate\u001b[0m\u001b[1;33m(\u001b[0m\u001b[0mname\u001b[0m\u001b[1;33m,\u001b[0m \u001b[0mh5f\u001b[0m\u001b[1;33m.\u001b[0m\u001b[0mACC_TRUNC\u001b[0m\u001b[1;33m,\u001b[0m \u001b[0mfapl\u001b[0m\u001b[1;33m=\u001b[0m\u001b[0mfapl\u001b[0m\u001b[1;33m,\u001b[0m \u001b[0mfcpl\u001b[0m\u001b[1;33m=\u001b[0m\u001b[0mfcpl\u001b[0m\u001b[1;33m)\u001b[0m\u001b[1;33m\u001b[0m\u001b[1;33m\u001b[0m\u001b[0m\n\u001b[0m\u001b[0;32m    149\u001b[0m     \u001b[1;32melif\u001b[0m \u001b[0mmode\u001b[0m \u001b[1;33m==\u001b[0m \u001b[1;34m'a'\u001b[0m\u001b[1;33m:\u001b[0m\u001b[1;33m\u001b[0m\u001b[1;33m\u001b[0m\u001b[0m\n\u001b[0;32m    150\u001b[0m         \u001b[1;31m# Open in append mode (read/write).\u001b[0m\u001b[1;33m\u001b[0m\u001b[1;33m\u001b[0m\u001b[1;33m\u001b[0m\u001b[0m\n",
      "\u001b[1;32mh5py\\_objects.pyx\u001b[0m in \u001b[0;36mh5py._objects.with_phil.wrapper\u001b[1;34m()\u001b[0m\n",
      "\u001b[1;32mh5py\\_objects.pyx\u001b[0m in \u001b[0;36mh5py._objects.with_phil.wrapper\u001b[1;34m()\u001b[0m\n",
      "\u001b[1;32mh5py\\h5f.pyx\u001b[0m in \u001b[0;36mh5py.h5f.create\u001b[1;34m()\u001b[0m\n",
      "\u001b[1;31mOSError\u001b[0m: Unable to create file (unable to open file: name = 'weights/coarse_lite.h5', errno = 2, error message = 'No such file or directory', flags = 13, o_flags = 302)"
     ]
    }
   ],
   "source": [
    "DD_Net.save_weights('weights/coarse_lite.h5')"
   ]
  },
  {
   "cell_type": "markdown",
   "metadata": {},
   "source": [
    "## With frame_sampling"
   ]
  },
  {
   "cell_type": "code",
   "execution_count": null,
   "metadata": {},
   "outputs": [],
   "source": [
    "lr = 1e-5\n",
    "DD_Net.compile(loss=\"categorical_crossentropy\",optimizer=adam(lr),metrics=['accuracy'])"
   ]
  },
  {
   "cell_type": "code",
   "execution_count": 59,
   "metadata": {
    "scrolled": true
   },
   "outputs": [
    {
     "name": "stdout",
     "output_type": "stream",
     "text": [
      "epoch0\n"
     ]
    },
    {
     "name": "stderr",
     "output_type": "stream",
     "text": [
      "  0%|                                                                                          | 0/145 [00:00<?, ?it/s]\n"
     ]
    },
    {
     "ename": "AttributeError",
     "evalue": "'Config' object has no attribute 'clc_coarse'",
     "output_type": "error",
     "traceback": [
      "\u001b[1;31m---------------------------------------------------------------------------\u001b[0m",
      "\u001b[1;31mAttributeError\u001b[0m                            Traceback (most recent call last)",
      "\u001b[1;32m<ipython-input-59-cad6d8a9b33e>\u001b[0m in \u001b[0;36m<module>\u001b[1;34m\u001b[0m\n\u001b[0;32m      8\u001b[0m     \u001b[1;32mfor\u001b[0m \u001b[0mi\u001b[0m \u001b[1;32min\u001b[0m \u001b[0mtqdm\u001b[0m\u001b[1;33m(\u001b[0m\u001b[0mrange\u001b[0m\u001b[1;33m(\u001b[0m\u001b[0mlen\u001b[0m\u001b[1;33m(\u001b[0m\u001b[0mTrain\u001b[0m\u001b[1;33m[\u001b[0m\u001b[1;34m'pose'\u001b[0m\u001b[1;33m]\u001b[0m\u001b[1;33m)\u001b[0m\u001b[1;33m)\u001b[0m\u001b[1;33m)\u001b[0m\u001b[1;33m:\u001b[0m\u001b[1;33m\u001b[0m\u001b[1;33m\u001b[0m\u001b[0m\n\u001b[0;32m      9\u001b[0m \u001b[1;33m\u001b[0m\u001b[0m\n\u001b[1;32m---> 10\u001b[1;33m         \u001b[0mlabel\u001b[0m \u001b[1;33m=\u001b[0m \u001b[0mnp\u001b[0m\u001b[1;33m.\u001b[0m\u001b[0mzeros\u001b[0m\u001b[1;33m(\u001b[0m\u001b[0mC\u001b[0m\u001b[1;33m.\u001b[0m\u001b[0mclc_coarse\u001b[0m\u001b[1;33m)\u001b[0m\u001b[1;33m\u001b[0m\u001b[1;33m\u001b[0m\u001b[0m\n\u001b[0m\u001b[0;32m     11\u001b[0m         \u001b[0mlabel\u001b[0m\u001b[1;33m[\u001b[0m\u001b[0mTrain\u001b[0m\u001b[1;33m[\u001b[0m\u001b[1;34m'coarse_label'\u001b[0m\u001b[1;33m]\u001b[0m\u001b[1;33m[\u001b[0m\u001b[0mi\u001b[0m\u001b[1;33m]\u001b[0m\u001b[1;33m-\u001b[0m\u001b[1;36m1\u001b[0m\u001b[1;33m]\u001b[0m \u001b[1;33m=\u001b[0m \u001b[1;36m1\u001b[0m\u001b[1;33m\u001b[0m\u001b[1;33m\u001b[0m\u001b[0m\n\u001b[0;32m     12\u001b[0m \u001b[1;33m\u001b[0m\u001b[0m\n",
      "\u001b[1;31mAttributeError\u001b[0m: 'Config' object has no attribute 'clc_coarse'"
     ]
    }
   ],
   "source": [
    "epochs = 20\n",
    "for e in range(epochs):\n",
    "    print('epoch{}'.format(e))\n",
    "    X_0 = []\n",
    "    X_1 = []\n",
    "    Y = []\n",
    "    \n",
    "    for i in tqdm(range(len(Train['pose']))): \n",
    "\n",
    "        label = np.zeros(C.clc_coarse)\n",
    "        label[Train['coarse_label'][i]-1] = 1 \n",
    "        \n",
    "        p = np.copy(Train['pose'][i]).reshape([-1,22,3])\n",
    "        p = sampling_frame(p,C)\n",
    "        \n",
    "        M = get_CG(p,C)\n",
    "        \n",
    "        X_0.append(M)\n",
    "        X_1.append(p)\n",
    "        Y.append(label)\n",
    "\n",
    "    X_0 = np.stack(X_0)  \n",
    "    X_1 = np.stack(X_1) \n",
    "    Y = np.stack(Y)\n",
    "   \n",
    "\n",
    "    DD_Net.fit([X_0,X_1],Y,\n",
    "            batch_size=len(Y),\n",
    "            epochs=1,\n",
    "            verbose=True,\n",
    "            shuffle=True,\n",
    "            validation_data=([X_test_0,X_test_1],Y_test)      \n",
    "            )\n",
    "\n"
   ]
  },
  {
   "cell_type": "markdown",
   "metadata": {},
   "source": [
    "# Calculate time (excute it twice, the first time initialize takes extra times)"
   ]
  },
  {
   "cell_type": "code",
   "execution_count": 44,
   "metadata": {},
   "outputs": [
    {
     "data": {
      "text/plain": [
       "0.0947113037109375"
      ]
     },
     "execution_count": 44,
     "metadata": {},
     "output_type": "execute_result"
    }
   ],
   "source": [
    "import time\n",
    "start_time = time.time()\n",
    "y = DD_Net.predict([X_test_0,X_test_1])\n",
    "time.time() - start_time"
   ]
  },
  {
   "cell_type": "code",
   "execution_count": 45,
   "metadata": {},
   "outputs": [
    {
     "name": "stdout",
     "output_type": "stream",
     "text": [
      "predcit:  [5, 5, 6, 8, 5, 4, 5, 5, 8, 5, 1, 5, 5]\n",
      "real:     [5, 5, 6, 6, 5, 4, 5, 5, 10, 5, 1, 5, 5]\n",
      "-------------分隔符----------\n",
      "predict:  {1: 1, 2: 0, 3: 0, 4: 1, 5: 8, 6: 1, 7: 0, 8: 2, 9: 0, 10: 0}\n",
      "real:     {1: 1, 2: 0, 3: 0, 4: 1, 5: 8, 6: 2, 7: 0, 8: 0, 9: 0, 10: 1}\n",
      "-------------分隔符----------\n",
      "{1: 10, 2: 10, 3: 7, 4: 11, 5: 71, 6: 11, 7: 7, 8: 3, 9: 4, 10: 11}\n"
     ]
    }
   ],
   "source": [
    "# 看一下正确情况\n",
    "result = []\n",
    "result_dict = dict(zip(range(1,11),(0 for _ in range(10))))\n",
    "for i in y:\n",
    "#     print(i)\n",
    "    max = 0\n",
    "    for e in range(len(i)):\n",
    "        if i[e] > i[max]:\n",
    "            max = e\n",
    "    result_dict[max+1] += 1\n",
    "    result.append(max+1)\n",
    "\n",
    "\n",
    "label = dict(zip(range(1,11),(0 for _ in range(10))))\n",
    "label_list = []\n",
    "for i in Y_test:\n",
    "    for e in range(len(i)):\n",
    "        if i[e] == 1:\n",
    "            label[e+1] += 1\n",
    "            label_list.append(e+1)\n",
    "            break\n",
    "            \n",
    "print('predcit: ',result)\n",
    "print('real:    ', label_list)\n",
    "\n",
    "print('-------------分隔符----------')\n",
    "print('predict: ',result_dict)\n",
    "print('real:    ',label)\n",
    "\n",
    "\n",
    "clscount = dict(zip(range(1,11),(0 for _ in range(10))))\n",
    "for i in Y:\n",
    "    for e in range(len(i)):\n",
    "        if i[e] == 1:\n",
    "            clscount[e+1] += 1\n",
    "            break\n",
    "print('-------------分隔符----------')\n",
    "print(clscount)"
   ]
  },
  {
   "cell_type": "code",
   "execution_count": 102,
   "metadata": {},
   "outputs": [
    {
     "name": "stdout",
     "output_type": "stream",
     "text": [
      "[[0.5777253  0.00936834 0.04024233 0.03089608 0.0536707  0.01747629\n",
      "  0.19982333 0.00402471 0.00865291 0.02756447 0.01311332 0.01744224]]\n",
      "1\n"
     ]
    }
   ],
   "source": [
    "# 用自己的数据实验\n",
    "MySkel = pickle.load(open(\"C:\\\\Users\\\\zys98\\\\Desktop\\\\graduation\\\\github-repo\\\\sk_dd_2019\\\\codes\\\\data\\\\JESTER\\\\myskel.pkl\", \"rb\"))\n",
    "\n",
    "p = np.copy(MySkel)\n",
    "p = zoom(p,target_l=C.frame_l,joints_num=C.joint_n,joints_dim=C.joint_d)\n",
    "p = normlize_range_2d(p)\n",
    "M = get_CG(p,C)\n",
    "\n",
    "X_My_0 = []\n",
    "X_My_0.append(p)\n",
    "X_My_0 = np.stack(X_My_0)\n",
    "\n",
    "X_My_1 = []\n",
    "X_My_1.append(M)\n",
    "X_My_1 = np.stack(X_My_1)\n",
    "\n",
    "y = DD_Net.predict([X_My_1,X_My_0])\n",
    "print(y)\n",
    "max = 0\n",
    "for i in range(len(y[0])):\n",
    "    if y[0][i] > y[0][max]:\n",
    "        max = i\n",
    "print(max+1)\n",
    "\n",
    "# X_0 = []\n",
    "# X_1 = []\n",
    "# Y = []\n",
    "# for i in tqdm(range(len(Train['pose']))): \n",
    "#     p = np.copy(Train['pose'][i]).reshape([-1,C.joint_n,C.joint_d])\n",
    "#     p = zoom(p,target_l=C.frame_l,joints_num=C.joint_n,joints_dim=C.joint_d)\n",
    "#     p = normlize_range_2d(p)\n",
    "    \n",
    "#     label = np.zeros(C.coarse)\n",
    "#     label[Train['label'][i]-1] = 1   \n",
    "\n",
    "#     M = get_CG(p,C)\n",
    "\n",
    "#     X_0.append(M)\n",
    "#     X_1.append(p)\n",
    "#     Y.append(label)\n",
    "\n",
    "# X_0 = np.stack(X_0)  \n",
    "# X_1 = np.stack(X_1) \n",
    "# Y = np.stack(Y)"
   ]
  },
  {
   "cell_type": "markdown",
   "metadata": {},
   "source": [
    "##### Plot confusion matrix"
   ]
  },
  {
   "cell_type": "code",
   "execution_count": null,
   "metadata": {},
   "outputs": [],
   "source": [
    "import matplotlib.pyplot as plt\n",
    "from sklearn.metrics import confusion_matrix\n",
    "\n",
    "Y_pred = DD_Net.predict([X_test_0,X_test_1])\n",
    "cnf_matrix = confusion_matrix(np.argmax(Y_test,axis=1),np.argmax(Y_pred,axis=1))\n",
    "plt.figure(figsize=(10,10))\n",
    "plt.imshow(cnf_matrix)\n",
    "plt.show()"
   ]
  },
  {
   "cell_type": "code",
   "execution_count": null,
   "metadata": {},
   "outputs": [],
   "source": []
  }
 ],
 "metadata": {
  "kernelspec": {
   "display_name": "Python 3",
   "language": "python",
   "name": "python3"
  },
  "language_info": {
   "codemirror_mode": {
    "name": "ipython",
    "version": 3
   },
   "file_extension": ".py",
   "mimetype": "text/x-python",
   "name": "python",
   "nbconvert_exporter": "python",
   "pygments_lexer": "ipython3",
   "version": "3.7.6"
  }
 },
 "nbformat": 4,
 "nbformat_minor": 2
}
