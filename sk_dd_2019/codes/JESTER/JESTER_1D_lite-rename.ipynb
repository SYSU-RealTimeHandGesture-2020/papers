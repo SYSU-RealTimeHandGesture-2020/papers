{
 "cells": [
  {
   "cell_type": "code",
   "execution_count": 1,
   "metadata": {},
   "outputs": [
    {
     "name": "stdout",
     "output_type": "stream",
     "text": [
      "Num GPUs Available:  1\n"
     ]
    }
   ],
   "source": [
    "from __future__ import absolute_import, division, print_function, unicode_literals\n",
    "\n",
    "import tensorflow as tf\n",
    "print(\"Num GPUs Available: \", len(tf.config.experimental.list_physical_devices('GPU')))"
   ]
  },
  {
   "cell_type": "code",
   "execution_count": 2,
   "metadata": {},
   "outputs": [],
   "source": [
    "\n",
    "from __future__ import absolute_import, division, print_function, unicode_literals\n",
    "\n",
    "import numpy as np\n",
    "import math\n",
    "import random\n",
    "import pandas as pd\n",
    "import os\n",
    "import matplotlib.pyplot as plt\n",
    "import cv2\n",
    "import glob\n",
    "import gc\n",
    "from utils import *\n",
    "from tqdm import tqdm\n",
    "import pickle\n",
    "\n",
    "\n",
    "from tensorflow.keras.optimizers import *\n",
    "from tensorflow.keras.models import Model\n",
    "from tensorflow.keras.layers import *\n",
    "# from tensorflow.keras.layers.core import *\n",
    "# from tensorflow.keras.layers.convolutional import *\n",
    "from tensorflow.keras import backend as K\n",
    "import tensorflow.compat.v1 as tf\n",
    "\n"
   ]
  },
  {
   "cell_type": "markdown",
   "metadata": {},
   "source": [
    "# Initialize the setting"
   ]
  },
  {
   "cell_type": "code",
   "execution_count": 3,
   "metadata": {},
   "outputs": [],
   "source": [
    "os.environ[\"CUDA_DEVICE_ORDER\"]=\"PCI_BUS_ID\"   \n",
    "os.environ[\"CUDA_VISIBLE_DEVICES\"]=\"0\"\n",
    "os.environ['CUDA_VISIBLE_DEVICES']='0'"
   ]
  },
  {
   "cell_type": "code",
   "execution_count": 17,
   "metadata": {},
   "outputs": [],
   "source": [
    "random.seed(123)\n",
    "\n",
    "class Config():\n",
    "    def __init__(self):\n",
    "        self.frame_l = 32 # the length of frames\n",
    "        self.joint_n = 21 # the number of joints\n",
    "        self.joint_d = 2 # the dimension of joints\n",
    "        self.coarse = 25 # the number of classes\n",
    "        self.feat_d = 210 # n(n-1)/2\n",
    "        self.filters = 32\n",
    "        self.data_dir = '..\\\\data\\\\JESTER\\\\'\n",
    "C = Config()"
   ]
  },
  {
   "cell_type": "markdown",
   "metadata": {},
   "source": [
    "# Building the model"
   ]
  },
  {
   "cell_type": "code",
   "execution_count": 18,
   "metadata": {},
   "outputs": [],
   "source": [
    "def poses_diff(x):\n",
    "    H, W = x.get_shape()[1],x.get_shape()[2]\n",
    "    x = tf.subtract(x[:,1:,...],x[:,:-1,...])\n",
    "    x = tf.image.resize_nearest_neighbor(x,size=[H,W],align_corners=False) # should not alignment here\n",
    "    return x\n",
    "\n",
    "def pose_motion(P,frame_l,joint_n,joint_d):\n",
    "    P_diff_slow = Lambda(lambda x: poses_diff(x))(P)\n",
    "    P_diff_slow = Reshape((frame_l,joint_n*joint_d))(P_diff_slow)\n",
    "    P_fast = Lambda(lambda x: x[:,::2,...])(P)\n",
    "    P_diff_fast = Lambda(lambda x: poses_diff(x))(P_fast)\n",
    "    P_diff_fast = Reshape((int(frame_l/2),joint_n*joint_d))(P_diff_fast)\n",
    "    return P_diff_slow,P_diff_fast\n",
    "    \n",
    "def c1D(x,filters,kernel):\n",
    "    x = Conv1D(filters, kernel_size=kernel,padding='same',use_bias=False)(x)\n",
    "    x = BatchNormalization()(x)\n",
    "    x = LeakyReLU(alpha=0.2)(x)\n",
    "    return x\n",
    "\n",
    "def block(x,filters):\n",
    "    x = c1D(x,filters,3)\n",
    "    x = c1D(x,filters,3)\n",
    "    return x\n",
    "    \n",
    "def d1D(x,filters):\n",
    "    x = Dense(filters,use_bias=False)(x)\n",
    "    x = BatchNormalization()(x)\n",
    "    x = LeakyReLU(alpha=0.2)(x)\n",
    "    return x\n",
    "\n",
    "def build_FM(frame_l=32,joint_n=22,joint_d=2,feat_d=231,filters=16):   \n",
    "    M = Input(shape=(frame_l,feat_d))\n",
    "    P = Input(shape=(frame_l,joint_n,joint_d))\n",
    "    \n",
    "    diff_slow,diff_fast = pose_motion(P,frame_l,joint_n,joint_d)\n",
    "\n",
    "    print(\"slow\", diff_slow)\n",
    "    print(\"fast\", diff_fast)\n",
    "    print(\"JCD\", M)\n",
    "\n",
    "    x = c1D(M,filters*2,1)\n",
    "    x = SpatialDropout1D(0.1)(x)\n",
    "    x = c1D(x,filters,3)\n",
    "    x = SpatialDropout1D(0.1)(x)\n",
    "    x = c1D(x,filters,1)\n",
    "    x = MaxPooling1D(2)(x)\n",
    "    x = SpatialDropout1D(0.1)(x)\n",
    "\n",
    "    x_d_slow = c1D(diff_slow,filters*2,1)\n",
    "    x_d_slow = SpatialDropout1D(0.1)(x_d_slow)\n",
    "    x_d_slow = c1D(x_d_slow,filters,3)\n",
    "    x_d_slow = SpatialDropout1D(0.1)(x_d_slow)\n",
    "    x_d_slow = c1D(x_d_slow,filters,1)\n",
    "    x_d_slow = MaxPool1D(2)(x_d_slow)\n",
    "    x_d_slow = SpatialDropout1D(0.1)(x_d_slow)\n",
    "\n",
    "    # 测试删去x_d_fast\n",
    "    x_d_fast = c1D(diff_fast,filters*2,1)\n",
    "    x_d_fast = SpatialDropout1D(0.1)(x_d_fast)\n",
    "    x_d_fast = c1D(x_d_fast,filters,3) \n",
    "    x_d_fast = SpatialDropout1D(0.1)(x_d_fast)\n",
    "    x_d_fast = c1D(x_d_fast,filters,1) \n",
    "    x_d_fast = SpatialDropout1D(0.1)(x_d_fast)\n",
    "   \n",
    "    x = concatenate([x,x_d_slow,x_d_fast]) # x = concatenate([x,x_d_slow,x_d_fast])\n",
    "    print('concat', x.shape)\n",
    "    x = block(x,filters*2)\n",
    "    print('conv1', x.shape)\n",
    "    x = MaxPool1D(2)(x)\n",
    "    print('pool1', x.shape)\n",
    "    x = SpatialDropout1D(0.1)(x)\n",
    "    \n",
    "    x = block(x,filters*4)\n",
    "    print('conv2', x.shape)\n",
    "    x = MaxPool1D(2)(x)\n",
    "    print('pool2', x.shape)    \n",
    "    x = SpatialDropout1D(0.1)(x)\n",
    "\n",
    "    x = block(x,filters*8)\n",
    "    print('conv3', x.shape)\n",
    "    x = SpatialDropout1D(0.1)(x)\n",
    "    \n",
    "    return Model(inputs=[M,P],outputs=x)"
   ]
  },
  {
   "cell_type": "code",
   "execution_count": 19,
   "metadata": {},
   "outputs": [],
   "source": [
    "def build_DD_Net(frame_l=32,joint_n=22,joint_d=3,feat_d=231,clc_num=14,filters=16):\n",
    "    M = Input(name='M', shape=(frame_l,feat_d))  \n",
    "    P = Input(name='P', shape=(frame_l,joint_n,joint_d)) \n",
    "    \n",
    "    FM = build_FM(frame_l,joint_n,joint_d,feat_d,filters)\n",
    "    \n",
    "    x = FM([M,P])\n",
    "\n",
    "    x = GlobalMaxPool1D()(x)\n",
    "    print('pool', x.shape)    \n",
    "\n",
    "    x = d1D(x,128)\n",
    "    print('dense1', x.shape)    \n",
    "\n",
    "    x = Dropout(0.5)(x)\n",
    "    x = d1D(x,128)\n",
    "    print('dense2', x.shape)    \n",
    "\n",
    "    x = Dropout(0.3)(x)\n",
    "    x = Dense(clc_num, activation='softmax')(x)\n",
    "    print('dense3', x.shape)    \n",
    "\n",
    "    ######################Self-supervised part\n",
    "    model = Model(inputs=[M,P],outputs=x)\n",
    "    return model"
   ]
  },
  {
   "cell_type": "code",
   "execution_count": 20,
   "metadata": {
    "scrolled": true
   },
   "outputs": [
    {
     "name": "stdout",
     "output_type": "stream",
     "text": [
      "slow Tensor(\"reshape_2/Identity:0\", shape=(None, 32, 42), dtype=float32)\n",
      "fast Tensor(\"reshape_3/Identity:0\", shape=(None, 16, 42), dtype=float32)\n",
      "JCD Tensor(\"input_3:0\", shape=(None, 32, 210), dtype=float32)\n",
      "concat (None, 16, 96)\n",
      "conv1 (None, 16, 64)\n",
      "pool1 (None, 8, 64)\n",
      "conv2 (None, 8, 128)\n",
      "pool2 (None, 4, 128)\n",
      "conv3 (None, 4, 256)\n",
      "pool (None, 256)\n",
      "dense1 (None, 128)\n",
      "dense2 (None, 128)\n",
      "dense3 (None, 25)\n"
     ]
    }
   ],
   "source": [
    "DD_Net = build_DD_Net(C.frame_l,C.joint_n,C.joint_d,C.feat_d,C.coarse,C.filters)"
   ]
  },
  {
   "cell_type": "code",
   "execution_count": 21,
   "metadata": {
    "scrolled": true
   },
   "outputs": [
    {
     "name": "stdout",
     "output_type": "stream",
     "text": [
      "Model: \"model_3\"\n",
      "__________________________________________________________________________________________________\n",
      "Layer (type)                    Output Shape         Param #     Connected to                     \n",
      "==================================================================================================\n",
      "M (InputLayer)                  [(None, 32, 210)]    0                                            \n",
      "__________________________________________________________________________________________________\n",
      "P (InputLayer)                  [(None, 32, 21, 2)]  0                                            \n",
      "__________________________________________________________________________________________________\n",
      "model_2 (Model)                 (None, 4, 256)       444800      M[0][0]                          \n",
      "                                                                 P[0][0]                          \n",
      "__________________________________________________________________________________________________\n",
      "global_max_pooling1d_1 (GlobalM (None, 256)          0           model_2[1][0]                    \n",
      "__________________________________________________________________________________________________\n",
      "dense_3 (Dense)                 (None, 128)          32768       global_max_pooling1d_1[0][0]     \n",
      "__________________________________________________________________________________________________\n",
      "batch_normalization_32 (BatchNo (None, 128)          512         dense_3[0][0]                    \n",
      "__________________________________________________________________________________________________\n",
      "leaky_re_lu_32 (LeakyReLU)      (None, 128)          0           batch_normalization_32[0][0]     \n",
      "__________________________________________________________________________________________________\n",
      "dropout_2 (Dropout)             (None, 128)          0           leaky_re_lu_32[0][0]             \n",
      "__________________________________________________________________________________________________\n",
      "dense_4 (Dense)                 (None, 128)          16384       dropout_2[0][0]                  \n",
      "__________________________________________________________________________________________________\n",
      "batch_normalization_33 (BatchNo (None, 128)          512         dense_4[0][0]                    \n",
      "__________________________________________________________________________________________________\n",
      "leaky_re_lu_33 (LeakyReLU)      (None, 128)          0           batch_normalization_33[0][0]     \n",
      "__________________________________________________________________________________________________\n",
      "dropout_3 (Dropout)             (None, 128)          0           leaky_re_lu_33[0][0]             \n",
      "__________________________________________________________________________________________________\n",
      "dense_5 (Dense)                 (None, 25)           3225        dropout_3[0][0]                  \n",
      "==================================================================================================\n",
      "Total params: 498,201\n",
      "Trainable params: 495,129\n",
      "Non-trainable params: 3,072\n",
      "__________________________________________________________________________________________________\n"
     ]
    }
   ],
   "source": [
    "DD_Net.summary()"
   ]
  },
  {
   "cell_type": "markdown",
   "metadata": {},
   "source": [
    "## load data"
   ]
  },
  {
   "cell_type": "code",
   "execution_count": 22,
   "metadata": {},
   "outputs": [],
   "source": [
    "# 切换成无空帧数据\n",
    "Train = pickle.load(open(C.data_dir+\"train_3d_custom.pkl\", \"rb\"))\n",
    "Test = pickle.load(open(C.data_dir+\"valid_3d_custom.pkl\", \"rb\"))"
   ]
  },
  {
   "cell_type": "markdown",
   "metadata": {},
   "source": [
    "## Without frame_sampling train"
   ]
  },
  {
   "cell_type": "code",
   "execution_count": 24,
   "metadata": {
    "scrolled": false
   },
   "outputs": [
    {
     "name": "stderr",
     "output_type": "stream",
     "text": [
      "  0%|                                                                                          | 0/490 [00:00<?, ?it/s]\n"
     ]
    },
    {
     "ename": "ValueError",
     "evalue": "cannot reshape array of size 1323 into shape (21,2)",
     "output_type": "error",
     "traceback": [
      "\u001b[1;31m---------------------------------------------------------------------------\u001b[0m",
      "\u001b[1;31mValueError\u001b[0m                                Traceback (most recent call last)",
      "\u001b[1;32m<ipython-input-24-8d433f1e92fc>\u001b[0m in \u001b[0;36m<module>\u001b[1;34m\u001b[0m\n\u001b[0;32m      3\u001b[0m \u001b[0mY\u001b[0m \u001b[1;33m=\u001b[0m \u001b[1;33m[\u001b[0m\u001b[1;33m]\u001b[0m\u001b[1;33m\u001b[0m\u001b[1;33m\u001b[0m\u001b[0m\n\u001b[0;32m      4\u001b[0m \u001b[1;32mfor\u001b[0m \u001b[0mi\u001b[0m \u001b[1;32min\u001b[0m \u001b[0mtqdm\u001b[0m\u001b[1;33m(\u001b[0m\u001b[0mrange\u001b[0m\u001b[1;33m(\u001b[0m\u001b[0mlen\u001b[0m\u001b[1;33m(\u001b[0m\u001b[0mTrain\u001b[0m\u001b[1;33m[\u001b[0m\u001b[1;34m'pose'\u001b[0m\u001b[1;33m]\u001b[0m\u001b[1;33m)\u001b[0m\u001b[1;33m)\u001b[0m\u001b[1;33m)\u001b[0m\u001b[1;33m:\u001b[0m\u001b[1;33m\u001b[0m\u001b[1;33m\u001b[0m\u001b[0m\n\u001b[1;32m----> 5\u001b[1;33m     \u001b[0mp\u001b[0m \u001b[1;33m=\u001b[0m \u001b[0mnp\u001b[0m\u001b[1;33m.\u001b[0m\u001b[0mcopy\u001b[0m\u001b[1;33m(\u001b[0m\u001b[0mTrain\u001b[0m\u001b[1;33m[\u001b[0m\u001b[1;34m'pose'\u001b[0m\u001b[1;33m]\u001b[0m\u001b[1;33m[\u001b[0m\u001b[0mi\u001b[0m\u001b[1;33m]\u001b[0m\u001b[1;33m)\u001b[0m\u001b[1;33m.\u001b[0m\u001b[0mreshape\u001b[0m\u001b[1;33m(\u001b[0m\u001b[1;33m[\u001b[0m\u001b[1;33m-\u001b[0m\u001b[1;36m1\u001b[0m\u001b[1;33m,\u001b[0m\u001b[0mC\u001b[0m\u001b[1;33m.\u001b[0m\u001b[0mjoint_n\u001b[0m\u001b[1;33m,\u001b[0m\u001b[0mC\u001b[0m\u001b[1;33m.\u001b[0m\u001b[0mjoint_d\u001b[0m\u001b[1;33m]\u001b[0m\u001b[1;33m)\u001b[0m\u001b[1;33m\u001b[0m\u001b[1;33m\u001b[0m\u001b[0m\n\u001b[0m\u001b[0;32m      6\u001b[0m     \u001b[0mp\u001b[0m \u001b[1;33m=\u001b[0m \u001b[0mzoom\u001b[0m\u001b[1;33m(\u001b[0m\u001b[0mp\u001b[0m\u001b[1;33m,\u001b[0m\u001b[0mtarget_l\u001b[0m\u001b[1;33m=\u001b[0m\u001b[0mC\u001b[0m\u001b[1;33m.\u001b[0m\u001b[0mframe_l\u001b[0m\u001b[1;33m,\u001b[0m\u001b[0mjoints_num\u001b[0m\u001b[1;33m=\u001b[0m\u001b[0mC\u001b[0m\u001b[1;33m.\u001b[0m\u001b[0mjoint_n\u001b[0m\u001b[1;33m,\u001b[0m\u001b[0mjoints_dim\u001b[0m\u001b[1;33m=\u001b[0m\u001b[0mC\u001b[0m\u001b[1;33m.\u001b[0m\u001b[0mjoint_d\u001b[0m\u001b[1;33m)\u001b[0m\u001b[1;33m\u001b[0m\u001b[1;33m\u001b[0m\u001b[0m\n\u001b[0;32m      7\u001b[0m     \u001b[0mp\u001b[0m \u001b[1;33m=\u001b[0m \u001b[0mnormlize_range_2d\u001b[0m\u001b[1;33m(\u001b[0m\u001b[0mp\u001b[0m\u001b[1;33m)\u001b[0m\u001b[1;33m\u001b[0m\u001b[1;33m\u001b[0m\u001b[0m\n",
      "\u001b[1;31mValueError\u001b[0m: cannot reshape array of size 1323 into shape (21,2)"
     ]
    }
   ],
   "source": [
    "X_0 = []\n",
    "X_1 = []\n",
    "Y = []\n",
    "for i in tqdm(range(len(Train['pose']))): \n",
    "    p = np.copy(Train['pose'][i]).reshape([-1,C.joint_n,C.joint_d])\n",
    "    p = zoom(p,target_l=C.frame_l,joints_num=C.joint_n,joints_dim=C.joint_d)\n",
    "    p = normlize_range(p)\n",
    "    \n",
    "    label = np.zeros(C.coarse)\n",
    "    label[Train['label'][i]-1] = 1   \n",
    "\n",
    "    M = get_CG(p,C)\n",
    "\n",
    "    X_0.append(M)\n",
    "    X_1.append(p)\n",
    "    Y.append(label)\n",
    "\n",
    "X_0 = np.stack(X_0)  \n",
    "X_1 = np.stack(X_1) \n",
    "Y = np.stack(Y)"
   ]
  },
  {
   "cell_type": "code",
   "execution_count": 11,
   "metadata": {
    "scrolled": true
   },
   "outputs": [
    {
     "name": "stdout",
     "output_type": "stream",
     "text": [
      "(490, 32, 210) (490, 32, 21, 3) (490, 25)\n",
      "{1: 13, 2: 13, 3: 18, 4: 19, 5: 38, 6: 18, 7: 16, 8: 14, 9: 11, 10: 23, 11: 23, 12: 17, 13: 10, 14: 15, 15: 21, 16: 15, 17: 24, 18: 26, 19: 25, 20: 25, 21: 11, 22: 12, 23: 29, 24: 27, 25: 27}\n"
     ]
    }
   ],
   "source": [
    "print(X_0.shape, X_1.shape, Y.shape)\n",
    "\n",
    "label = dict(zip(range(1,C.coarse+1),(0 for _ in range(C.coarse))))\n",
    "for i in Y:\n",
    "    for e in range(len(i)):\n",
    "        if i[e] == 1:\n",
    "            label[e+1] += 1\n",
    "            break\n",
    "\n",
    "print(label)"
   ]
  },
  {
   "cell_type": "code",
   "execution_count": 12,
   "metadata": {
    "scrolled": true
   },
   "outputs": [
    {
     "name": "stderr",
     "output_type": "stream",
     "text": [
      "100%|██████████████████████████████████████████████████████████████████████████████████| 94/94 [00:01<00:00, 85.53it/s]\n"
     ]
    }
   ],
   "source": [
    "X_test_0 = []\n",
    "X_test_1 = []\n",
    "Y_test = []\n",
    "for i in tqdm(range(len(Test['pose']))): \n",
    "    p = np.copy(Test['pose'][i]).reshape([-1,C.joint_n,C.joint_d])\n",
    "    p = zoom(p,target_l=C.frame_l,joints_num=C.joint_n,joints_dim=C.joint_d)\n",
    "    p = normlize_range(p)\n",
    "    \n",
    "    label = np.zeros(C.coarse)\n",
    "    label[Test['label'][i]-1] = 1   \n",
    "\n",
    "    M = get_CG(p,C)\n",
    "\n",
    "    X_test_0.append(M)\n",
    "    X_test_1.append(p)\n",
    "    Y_test.append(label)\n",
    "\n",
    "X_test_0 = np.stack(X_test_0) \n",
    "X_test_1 = np.stack(X_test_1)  \n",
    "Y_test = np.stack(Y_test)"
   ]
  },
  {
   "cell_type": "code",
   "execution_count": 13,
   "metadata": {},
   "outputs": [
    {
     "name": "stdout",
     "output_type": "stream",
     "text": [
      "(94, 32, 210) (94, 32, 21, 3) (94, 25)\n",
      "{1: 4, 2: 3, 3: 5, 4: 2, 5: 6, 6: 2, 7: 5, 8: 3, 9: 2, 10: 3, 11: 6, 12: 7, 13: 3, 14: 3, 15: 1, 16: 4, 17: 6, 18: 3, 19: 5, 20: 3, 21: 5, 22: 2, 23: 2, 24: 4, 25: 5}\n"
     ]
    }
   ],
   "source": [
    "print(X_test_0.shape, X_test_1.shape, Y_test.shape)\n",
    "\n",
    "label_test = dict(zip(range(1,C.coarse+1),(0 for _ in range(C.coarse))))\n",
    "for i in Y_test:\n",
    "    for e in range(len(i)):\n",
    "        if i[e] == 1:\n",
    "            label_test[e+1] += 1\n",
    "            break\n",
    "\n",
    "print(label_test)"
   ]
  },
  {
   "cell_type": "code",
   "execution_count": 16,
   "metadata": {
    "scrolled": true
   },
   "outputs": [
    {
     "name": "stdout",
     "output_type": "stream",
     "text": [
      "(584, 32, 210) (584, 32, 21, 3) (584, 25)\n",
      "Train on 490 samples, validate on 94 samples\n",
      "Epoch 1/400\n",
      "490/490 [==============================] - 12s 24ms/sample - loss: 0.9436 - accuracy: 0.7673 - val_loss: 2.9063 - val_accuracy: 0.1702\n",
      "Epoch 2/400\n",
      "490/490 [==============================] - 0s 584us/sample - loss: 1.0218 - accuracy: 0.7286 - val_loss: 2.8509 - val_accuracy: 0.1809\n",
      "Epoch 3/400\n",
      "490/490 [==============================] - 0s 592us/sample - loss: 1.0353 - accuracy: 0.7265 - val_loss: 2.8364 - val_accuracy: 0.1809\n",
      "Epoch 4/400\n",
      "490/490 [==============================] - 0s 613us/sample - loss: 0.9763 - accuracy: 0.7347 - val_loss: 2.8340 - val_accuracy: 0.1915\n",
      "Epoch 5/400\n",
      "490/490 [==============================] - 0s 605us/sample - loss: 0.9223 - accuracy: 0.7490 - val_loss: 2.8434 - val_accuracy: 0.2234\n",
      "Epoch 6/400\n",
      "490/490 [==============================] - 0s 574us/sample - loss: 0.8967 - accuracy: 0.7837 - val_loss: 2.8501 - val_accuracy: 0.2021\n",
      "Epoch 7/400\n",
      "490/490 [==============================] - 0s 598us/sample - loss: 0.8730 - accuracy: 0.7714 - val_loss: 2.8496 - val_accuracy: 0.2340\n",
      "Epoch 8/400\n",
      "490/490 [==============================] - 0s 619us/sample - loss: 0.8974 - accuracy: 0.7776 - val_loss: 2.8517 - val_accuracy: 0.1915\n",
      "Epoch 9/400\n",
      "490/490 [==============================] - 0s 594us/sample - loss: 0.9048 - accuracy: 0.7510 - val_loss: 2.8496 - val_accuracy: 0.1809\n",
      "Epoch 10/400\n",
      "490/490 [==============================] - 0s 590us/sample - loss: 0.9221 - accuracy: 0.7449 - val_loss: 2.8312 - val_accuracy: 0.1915\n",
      "Epoch 11/400\n",
      "490/490 [==============================] - 0s 596us/sample - loss: 0.8081 - accuracy: 0.8041 - val_loss: 2.8148 - val_accuracy: 0.2128\n",
      "Epoch 12/400\n",
      "490/490 [==============================] - 0s 592us/sample - loss: 0.8783 - accuracy: 0.7694 - val_loss: 2.8213 - val_accuracy: 0.2234\n",
      "Epoch 13/400\n",
      "490/490 [==============================] - 0s 611us/sample - loss: 0.8061 - accuracy: 0.7939 - val_loss: 2.8268 - val_accuracy: 0.2340\n",
      "Epoch 14/400\n",
      "490/490 [==============================] - 0s 653us/sample - loss: 0.8037 - accuracy: 0.8000 - val_loss: 2.8398 - val_accuracy: 0.2340\n",
      "Epoch 15/400\n",
      "490/490 [==============================] - 0s 845us/sample - loss: 0.7899 - accuracy: 0.7939 - val_loss: 2.8454 - val_accuracy: 0.2234\n",
      "Epoch 16/400\n",
      "490/490 [==============================] - 0s 692us/sample - loss: 0.7557 - accuracy: 0.8102 - val_loss: 2.8476 - val_accuracy: 0.2021\n",
      "Epoch 17/400\n",
      "490/490 [==============================] - 0s 609us/sample - loss: 0.7212 - accuracy: 0.7959 - val_loss: 2.8696 - val_accuracy: 0.1915\n",
      "Epoch 18/400\n",
      "490/490 [==============================] - 0s 657us/sample - loss: 0.7024 - accuracy: 0.8143 - val_loss: 2.8923 - val_accuracy: 0.1809\n",
      "Epoch 19/400\n",
      "490/490 [==============================] - 0s 586us/sample - loss: 0.7051 - accuracy: 0.8143 - val_loss: 2.9074 - val_accuracy: 0.1915\n",
      "Epoch 20/400\n",
      "490/490 [==============================] - 0s 611us/sample - loss: 0.7213 - accuracy: 0.8061 - val_loss: 2.9182 - val_accuracy: 0.1915\n",
      "Epoch 21/400\n",
      "490/490 [==============================] - 0s 692us/sample - loss: 0.6510 - accuracy: 0.8469 - val_loss: 2.9053 - val_accuracy: 0.1915\n",
      "Epoch 22/400\n",
      "490/490 [==============================] - 0s 635us/sample - loss: 0.6541 - accuracy: 0.8429 - val_loss: 2.8772 - val_accuracy: 0.2234\n",
      "Epoch 23/400\n",
      "490/490 [==============================] - 0s 590us/sample - loss: 0.6329 - accuracy: 0.8510 - val_loss: 2.8552 - val_accuracy: 0.2340\n",
      "Epoch 24/400\n",
      "490/490 [==============================] - 0s 600us/sample - loss: 0.6133 - accuracy: 0.8551 - val_loss: 2.8361 - val_accuracy: 0.2340\n",
      "Epoch 25/400\n",
      "490/490 [==============================] - 0s 645us/sample - loss: 0.5649 - accuracy: 0.8776 - val_loss: 2.8259 - val_accuracy: 0.2340\n",
      "Epoch 26/400\n",
      "490/490 [==============================] - 0s 598us/sample - loss: 0.5919 - accuracy: 0.8592 - val_loss: 2.8295 - val_accuracy: 0.2447\n",
      "Epoch 27/400\n",
      "490/490 [==============================] - 0s 639us/sample - loss: 0.5622 - accuracy: 0.8816 - val_loss: 2.8543 - val_accuracy: 0.2340\n",
      "Epoch 28/400\n",
      "490/490 [==============================] - 0s 651us/sample - loss: 0.5114 - accuracy: 0.8816 - val_loss: 2.8767 - val_accuracy: 0.2340\n",
      "Epoch 29/400\n",
      "490/490 [==============================] - 0s 647us/sample - loss: 0.5401 - accuracy: 0.8755 - val_loss: 2.8881 - val_accuracy: 0.2234\n",
      "Epoch 30/400\n",
      "490/490 [==============================] - 0s 680us/sample - loss: 0.5469 - accuracy: 0.8755 - val_loss: 2.8835 - val_accuracy: 0.2340\n",
      "Epoch 31/400\n",
      "490/490 [==============================] - 0s 619us/sample - loss: 0.4954 - accuracy: 0.8918 - val_loss: 2.8597 - val_accuracy: 0.2447\n",
      "Epoch 32/400\n",
      "490/490 [==============================] - 0s 596us/sample - loss: 0.4643 - accuracy: 0.9102 - val_loss: 2.8549 - val_accuracy: 0.2128\n",
      "Epoch 33/400\n",
      "490/490 [==============================] - 0s 604us/sample - loss: 0.4903 - accuracy: 0.8918 - val_loss: 2.8719 - val_accuracy: 0.2128\n",
      "Epoch 34/400\n",
      "490/490 [==============================] - 0s 592us/sample - loss: 0.4780 - accuracy: 0.8878 - val_loss: 2.8811 - val_accuracy: 0.2128\n",
      "Epoch 35/400\n",
      "490/490 [==============================] - 0s 615us/sample - loss: 0.4424 - accuracy: 0.9102 - val_loss: 2.8747 - val_accuracy: 0.2021\n",
      "Epoch 36/400\n",
      "490/490 [==============================] - 0s 633us/sample - loss: 0.4355 - accuracy: 0.9163 - val_loss: 2.8764 - val_accuracy: 0.2021\n",
      "Epoch 37/400\n",
      "490/490 [==============================] - 0s 592us/sample - loss: 0.4436 - accuracy: 0.9122 - val_loss: 2.8876 - val_accuracy: 0.1915\n",
      "Epoch 38/400\n",
      "490/490 [==============================] - 0s 574us/sample - loss: 0.4382 - accuracy: 0.8980 - val_loss: 2.9032 - val_accuracy: 0.2128\n",
      "Epoch 39/400\n",
      "490/490 [==============================] - 0s 594us/sample - loss: 0.4066 - accuracy: 0.9000 - val_loss: 2.9078 - val_accuracy: 0.2021\n",
      "Epoch 40/400\n",
      "490/490 [==============================] - 0s 635us/sample - loss: 0.4154 - accuracy: 0.9061 - val_loss: 2.9088 - val_accuracy: 0.2128\n",
      "Epoch 41/400\n",
      "490/490 [==============================] - 0s 576us/sample - loss: 0.3987 - accuracy: 0.9245 - val_loss: 2.8913 - val_accuracy: 0.2128\n",
      "Epoch 42/400\n",
      "490/490 [==============================] - 0s 602us/sample - loss: 0.4157 - accuracy: 0.8980 - val_loss: 2.8844 - val_accuracy: 0.1915\n",
      "Epoch 43/400\n",
      "490/490 [==============================] - 0s 578us/sample - loss: 0.3582 - accuracy: 0.9327 - val_loss: 2.8747 - val_accuracy: 0.2128\n",
      "Epoch 44/400\n",
      "490/490 [==============================] - 0s 602us/sample - loss: 0.3993 - accuracy: 0.9000 - val_loss: 2.8727 - val_accuracy: 0.2340\n",
      "Epoch 45/400\n",
      "490/490 [==============================] - 0s 596us/sample - loss: 0.3691 - accuracy: 0.9265 - val_loss: 2.8933 - val_accuracy: 0.2340\n",
      "Epoch 46/400\n",
      "490/490 [==============================] - 0s 609us/sample - loss: 0.3157 - accuracy: 0.9388 - val_loss: 2.9123 - val_accuracy: 0.2234\n",
      "Epoch 47/400\n",
      "490/490 [==============================] - 0s 592us/sample - loss: 0.3434 - accuracy: 0.9306 - val_loss: 2.9164 - val_accuracy: 0.2234\n",
      "Epoch 48/400\n",
      "490/490 [==============================] - 0s 586us/sample - loss: 0.2992 - accuracy: 0.9327 - val_loss: 2.9043 - val_accuracy: 0.2340\n",
      "Epoch 49/400\n",
      "490/490 [==============================] - 0s 602us/sample - loss: 0.3184 - accuracy: 0.9429 - val_loss: 2.8901 - val_accuracy: 0.2553\n",
      "Epoch 50/400\n",
      "490/490 [==============================] - 0s 615us/sample - loss: 0.3011 - accuracy: 0.9449 - val_loss: 2.8887 - val_accuracy: 0.2340\n",
      "Epoch 51/400\n",
      "490/490 [==============================] - 0s 598us/sample - loss: 0.3071 - accuracy: 0.9347 - val_loss: 2.9053 - val_accuracy: 0.2660\n",
      "Epoch 52/400\n",
      "490/490 [==============================] - 0s 592us/sample - loss: 0.2988 - accuracy: 0.9510 - val_loss: 2.9128 - val_accuracy: 0.2553\n",
      "Epoch 53/400\n",
      "490/490 [==============================] - 0s 623us/sample - loss: 0.2696 - accuracy: 0.9490 - val_loss: 2.9138 - val_accuracy: 0.2872\n",
      "Epoch 54/400\n",
      "490/490 [==============================] - 0s 613us/sample - loss: 0.2844 - accuracy: 0.9449 - val_loss: 2.9231 - val_accuracy: 0.2660\n",
      "Epoch 55/400\n",
      "490/490 [==============================] - 0s 607us/sample - loss: 0.2886 - accuracy: 0.9408 - val_loss: 2.9478 - val_accuracy: 0.2447\n"
     ]
    },
    {
     "name": "stdout",
     "output_type": "stream",
     "text": [
      "Epoch 56/400\n",
      "490/490 [==============================] - 0s 598us/sample - loss: 0.2567 - accuracy: 0.9571 - val_loss: 2.9607 - val_accuracy: 0.2128\n",
      "Epoch 57/400\n",
      "490/490 [==============================] - 0s 600us/sample - loss: 0.2685 - accuracy: 0.9429 - val_loss: 2.9771 - val_accuracy: 0.1915\n",
      "Epoch 58/400\n",
      "490/490 [==============================] - 0s 600us/sample - loss: 0.3066 - accuracy: 0.9388 - val_loss: 3.0010 - val_accuracy: 0.1809\n",
      "Epoch 59/400\n",
      "490/490 [==============================] - 0s 580us/sample - loss: 0.2450 - accuracy: 0.9612 - val_loss: 3.0199 - val_accuracy: 0.1915\n",
      "Epoch 60/400\n",
      "490/490 [==============================] - 0s 584us/sample - loss: 0.2484 - accuracy: 0.9531 - val_loss: 3.0506 - val_accuracy: 0.1915\n",
      "Epoch 61/400\n",
      "490/490 [==============================] - 0s 594us/sample - loss: 0.2395 - accuracy: 0.9510 - val_loss: 3.0879 - val_accuracy: 0.2128\n",
      "Epoch 62/400\n",
      "490/490 [==============================] - 0s 598us/sample - loss: 0.2308 - accuracy: 0.9633 - val_loss: 3.1075 - val_accuracy: 0.2021\n",
      "Epoch 63/400\n",
      "490/490 [==============================] - 0s 596us/sample - loss: 0.2317 - accuracy: 0.9531 - val_loss: 3.1273 - val_accuracy: 0.2128\n",
      "Epoch 64/400\n",
      "490/490 [==============================] - 0s 590us/sample - loss: 0.2348 - accuracy: 0.9612 - val_loss: 3.1402 - val_accuracy: 0.2234\n",
      "Epoch 65/400\n",
      "490/490 [==============================] - 0s 611us/sample - loss: 0.2617 - accuracy: 0.9551 - val_loss: 3.1031 - val_accuracy: 0.2128\n",
      "Epoch 66/400\n",
      "490/490 [==============================] - 0s 615us/sample - loss: 0.2147 - accuracy: 0.9551 - val_loss: 3.0576 - val_accuracy: 0.2447\n",
      "Epoch 67/400\n",
      "490/490 [==============================] - 0s 619us/sample - loss: 0.2227 - accuracy: 0.9571 - val_loss: 3.0071 - val_accuracy: 0.2447\n",
      "Epoch 68/400\n",
      "490/490 [==============================] - 0s 590us/sample - loss: 0.1960 - accuracy: 0.9694 - val_loss: 2.9826 - val_accuracy: 0.2660\n",
      "Epoch 69/400\n",
      "490/490 [==============================] - 0s 607us/sample - loss: 0.1975 - accuracy: 0.9755 - val_loss: 2.9634 - val_accuracy: 0.2872\n",
      "Epoch 70/400\n",
      "490/490 [==============================] - 0s 598us/sample - loss: 0.1898 - accuracy: 0.9673 - val_loss: 2.9808 - val_accuracy: 0.2447\n",
      "Epoch 71/400\n",
      "490/490 [==============================] - 0s 623us/sample - loss: 0.2152 - accuracy: 0.9551 - val_loss: 3.0139 - val_accuracy: 0.2447\n",
      "Epoch 72/400\n",
      "490/490 [==============================] - 0s 621us/sample - loss: 0.1925 - accuracy: 0.9673 - val_loss: 3.0511 - val_accuracy: 0.2872\n",
      "Epoch 73/400\n",
      "490/490 [==============================] - 0s 605us/sample - loss: 0.2090 - accuracy: 0.9673 - val_loss: 3.0915 - val_accuracy: 0.2660\n",
      "Epoch 74/400\n",
      "490/490 [==============================] - 0s 586us/sample - loss: 0.1769 - accuracy: 0.9714 - val_loss: 3.1181 - val_accuracy: 0.2766\n",
      "Epoch 75/400\n",
      "490/490 [==============================] - 0s 688us/sample - loss: 0.1990 - accuracy: 0.9510 - val_loss: 3.1297 - val_accuracy: 0.2553\n",
      "Epoch 76/400\n",
      "490/490 [==============================] - 0s 609us/sample - loss: 0.1739 - accuracy: 0.9694 - val_loss: 3.1292 - val_accuracy: 0.2553\n",
      "Epoch 77/400\n",
      "490/490 [==============================] - 0s 580us/sample - loss: 0.1753 - accuracy: 0.9612 - val_loss: 3.1267 - val_accuracy: 0.2553\n",
      "Epoch 78/400\n",
      "490/490 [==============================] - 0s 609us/sample - loss: 0.1544 - accuracy: 0.9816 - val_loss: 3.1324 - val_accuracy: 0.2660\n",
      "Epoch 79/400\n",
      "490/490 [==============================] - 0s 578us/sample - loss: 0.1617 - accuracy: 0.9776 - val_loss: 3.1313 - val_accuracy: 0.2660\n",
      "Epoch 80/400\n",
      "490/490 [==============================] - 0s 668us/sample - loss: 0.1792 - accuracy: 0.9673 - val_loss: 3.1236 - val_accuracy: 0.2660\n",
      "Epoch 81/400\n",
      "490/490 [==============================] - 0s 600us/sample - loss: 0.1520 - accuracy: 0.9837 - val_loss: 3.1129 - val_accuracy: 0.2766\n",
      "Epoch 82/400\n",
      "490/490 [==============================] - 0s 598us/sample - loss: 0.1435 - accuracy: 0.9816 - val_loss: 3.0920 - val_accuracy: 0.2766\n",
      "Epoch 83/400\n",
      "490/490 [==============================] - 0s 625us/sample - loss: 0.1667 - accuracy: 0.9694 - val_loss: 3.0818 - val_accuracy: 0.2660\n",
      "Epoch 84/400\n",
      "490/490 [==============================] - 0s 664us/sample - loss: 0.1656 - accuracy: 0.9755 - val_loss: 3.0651 - val_accuracy: 0.2660\n",
      "Epoch 85/400\n",
      "490/490 [==============================] - 0s 613us/sample - loss: 0.1754 - accuracy: 0.9714 - val_loss: 3.0455 - val_accuracy: 0.2660\n",
      "Epoch 86/400\n",
      "490/490 [==============================] - 0s 596us/sample - loss: 0.1410 - accuracy: 0.9735 - val_loss: 3.0427 - val_accuracy: 0.2553\n",
      "Epoch 87/400\n",
      "490/490 [==============================] - 0s 592us/sample - loss: 0.1655 - accuracy: 0.9653 - val_loss: 3.0678 - val_accuracy: 0.2660\n",
      "Epoch 88/400\n",
      "490/490 [==============================] - 0s 607us/sample - loss: 0.1243 - accuracy: 0.9796 - val_loss: 3.0991 - val_accuracy: 0.2766\n",
      "Epoch 89/400\n",
      "490/490 [==============================] - 0s 578us/sample - loss: 0.1543 - accuracy: 0.9694 - val_loss: 3.1266 - val_accuracy: 0.2660\n",
      "Epoch 90/400\n",
      "490/490 [==============================] - 0s 617us/sample - loss: 0.1256 - accuracy: 0.9816 - val_loss: 3.1453 - val_accuracy: 0.2660\n",
      "Epoch 91/400\n",
      "490/490 [==============================] - 0s 570us/sample - loss: 0.1622 - accuracy: 0.9714 - val_loss: 3.1444 - val_accuracy: 0.2660\n",
      "Epoch 92/400\n",
      "490/490 [==============================] - 0s 596us/sample - loss: 0.1308 - accuracy: 0.9796 - val_loss: 3.1277 - val_accuracy: 0.2766\n",
      "Epoch 93/400\n",
      "490/490 [==============================] - 0s 574us/sample - loss: 0.1302 - accuracy: 0.9816 - val_loss: 3.1237 - val_accuracy: 0.2660\n",
      "Epoch 94/400\n",
      "490/490 [==============================] - 0s 578us/sample - loss: 0.1380 - accuracy: 0.9816 - val_loss: 3.1275 - val_accuracy: 0.2766\n",
      "Epoch 95/400\n",
      "490/490 [==============================] - 0s 588us/sample - loss: 0.1141 - accuracy: 0.9816 - val_loss: 3.1187 - val_accuracy: 0.2766\n",
      "Epoch 96/400\n",
      "490/490 [==============================] - 0s 576us/sample - loss: 0.1189 - accuracy: 0.9816 - val_loss: 3.1055 - val_accuracy: 0.2766\n",
      "Epoch 97/400\n",
      "490/490 [==============================] - 0s 602us/sample - loss: 0.1146 - accuracy: 0.9857 - val_loss: 3.0861 - val_accuracy: 0.2766\n",
      "Epoch 98/400\n",
      "WARNING:tensorflow:Reduce LR on plateau conditioned on metric `loss` which is not available. Available metrics are: lr\n",
      "490/490 [==============================] - 0s 484us/sample\n"
     ]
    },
    {
     "ename": "KeyboardInterrupt",
     "evalue": "",
     "output_type": "error",
     "traceback": [
      "\u001b[1;31m---------------------------------------------------------------------------\u001b[0m",
      "\u001b[1;31mKeyboardInterrupt\u001b[0m                         Traceback (most recent call last)",
      "\u001b[1;32m<ipython-input-16-27a4dbddd9cf>\u001b[0m in \u001b[0;36m<module>\u001b[1;34m\u001b[0m\n\u001b[0;32m     15\u001b[0m                     \u001b[0mshuffle\u001b[0m\u001b[1;33m=\u001b[0m\u001b[1;32mTrue\u001b[0m\u001b[1;33m,\u001b[0m\u001b[1;33m\u001b[0m\u001b[1;33m\u001b[0m\u001b[0m\n\u001b[0;32m     16\u001b[0m                     \u001b[0mcallbacks\u001b[0m\u001b[1;33m=\u001b[0m\u001b[1;33m[\u001b[0m\u001b[0mlrScheduler\u001b[0m\u001b[1;33m]\u001b[0m\u001b[1;33m,\u001b[0m\u001b[1;33m\u001b[0m\u001b[1;33m\u001b[0m\u001b[0m\n\u001b[1;32m---> 17\u001b[1;33m                     \u001b[0mvalidation_data\u001b[0m\u001b[1;33m=\u001b[0m\u001b[1;33m(\u001b[0m\u001b[1;33m[\u001b[0m\u001b[0mX_test_0\u001b[0m\u001b[1;33m,\u001b[0m\u001b[0mX_test_1\u001b[0m\u001b[1;33m]\u001b[0m\u001b[1;33m,\u001b[0m\u001b[0mY_test\u001b[0m\u001b[1;33m)\u001b[0m\u001b[1;33m,\u001b[0m\u001b[1;33m\u001b[0m\u001b[1;33m\u001b[0m\u001b[0m\n\u001b[0m\u001b[0;32m     18\u001b[0m \u001b[1;31m#                      validation_split=0.1\u001b[0m\u001b[1;33m\u001b[0m\u001b[1;33m\u001b[0m\u001b[1;33m\u001b[0m\u001b[0m\n\u001b[0;32m     19\u001b[0m                     )\n",
      "\u001b[1;32m~\\Anaconda3\\envs\\ht-1\\lib\\site-packages\\tensorflow_core\\python\\keras\\engine\\training.py\u001b[0m in \u001b[0;36mfit\u001b[1;34m(self, x, y, batch_size, epochs, verbose, callbacks, validation_split, validation_data, shuffle, class_weight, sample_weight, initial_epoch, steps_per_epoch, validation_steps, validation_freq, max_queue_size, workers, use_multiprocessing, **kwargs)\u001b[0m\n\u001b[0;32m    726\u001b[0m         \u001b[0mmax_queue_size\u001b[0m\u001b[1;33m=\u001b[0m\u001b[0mmax_queue_size\u001b[0m\u001b[1;33m,\u001b[0m\u001b[1;33m\u001b[0m\u001b[1;33m\u001b[0m\u001b[0m\n\u001b[0;32m    727\u001b[0m         \u001b[0mworkers\u001b[0m\u001b[1;33m=\u001b[0m\u001b[0mworkers\u001b[0m\u001b[1;33m,\u001b[0m\u001b[1;33m\u001b[0m\u001b[1;33m\u001b[0m\u001b[0m\n\u001b[1;32m--> 728\u001b[1;33m         use_multiprocessing=use_multiprocessing)\n\u001b[0m\u001b[0;32m    729\u001b[0m \u001b[1;33m\u001b[0m\u001b[0m\n\u001b[0;32m    730\u001b[0m   def evaluate(self,\n",
      "\u001b[1;32m~\\Anaconda3\\envs\\ht-1\\lib\\site-packages\\tensorflow_core\\python\\keras\\engine\\training_v2.py\u001b[0m in \u001b[0;36mfit\u001b[1;34m(self, model, x, y, batch_size, epochs, verbose, callbacks, validation_split, validation_data, shuffle, class_weight, sample_weight, initial_epoch, steps_per_epoch, validation_steps, validation_freq, **kwargs)\u001b[0m\n\u001b[0;32m    322\u001b[0m                 \u001b[0mmode\u001b[0m\u001b[1;33m=\u001b[0m\u001b[0mModeKeys\u001b[0m\u001b[1;33m.\u001b[0m\u001b[0mTRAIN\u001b[0m\u001b[1;33m,\u001b[0m\u001b[1;33m\u001b[0m\u001b[1;33m\u001b[0m\u001b[0m\n\u001b[0;32m    323\u001b[0m                 \u001b[0mtraining_context\u001b[0m\u001b[1;33m=\u001b[0m\u001b[0mtraining_context\u001b[0m\u001b[1;33m,\u001b[0m\u001b[1;33m\u001b[0m\u001b[1;33m\u001b[0m\u001b[0m\n\u001b[1;32m--> 324\u001b[1;33m                 total_epochs=epochs)\n\u001b[0m\u001b[0;32m    325\u001b[0m             \u001b[0mcbks\u001b[0m\u001b[1;33m.\u001b[0m\u001b[0mmake_logs\u001b[0m\u001b[1;33m(\u001b[0m\u001b[0mmodel\u001b[0m\u001b[1;33m,\u001b[0m \u001b[0mepoch_logs\u001b[0m\u001b[1;33m,\u001b[0m \u001b[0mtraining_result\u001b[0m\u001b[1;33m,\u001b[0m \u001b[0mModeKeys\u001b[0m\u001b[1;33m.\u001b[0m\u001b[0mTRAIN\u001b[0m\u001b[1;33m)\u001b[0m\u001b[1;33m\u001b[0m\u001b[1;33m\u001b[0m\u001b[0m\n\u001b[0;32m    326\u001b[0m \u001b[1;33m\u001b[0m\u001b[0m\n",
      "\u001b[1;32m~\\Anaconda3\\envs\\ht-1\\lib\\site-packages\\tensorflow_core\\python\\keras\\engine\\training_v2.py\u001b[0m in \u001b[0;36mrun_one_epoch\u001b[1;34m(model, iterator, execution_function, dataset_size, batch_size, strategy, steps_per_epoch, num_samples, mode, training_context, total_epochs)\u001b[0m\n\u001b[0;32m    121\u001b[0m         step=step, mode=mode, size=current_batch_size) as batch_logs:\n\u001b[0;32m    122\u001b[0m       \u001b[1;32mtry\u001b[0m\u001b[1;33m:\u001b[0m\u001b[1;33m\u001b[0m\u001b[1;33m\u001b[0m\u001b[0m\n\u001b[1;32m--> 123\u001b[1;33m         \u001b[0mbatch_outs\u001b[0m \u001b[1;33m=\u001b[0m \u001b[0mexecution_function\u001b[0m\u001b[1;33m(\u001b[0m\u001b[0miterator\u001b[0m\u001b[1;33m)\u001b[0m\u001b[1;33m\u001b[0m\u001b[1;33m\u001b[0m\u001b[0m\n\u001b[0m\u001b[0;32m    124\u001b[0m       \u001b[1;32mexcept\u001b[0m \u001b[1;33m(\u001b[0m\u001b[0mStopIteration\u001b[0m\u001b[1;33m,\u001b[0m \u001b[0merrors\u001b[0m\u001b[1;33m.\u001b[0m\u001b[0mOutOfRangeError\u001b[0m\u001b[1;33m)\u001b[0m\u001b[1;33m:\u001b[0m\u001b[1;33m\u001b[0m\u001b[1;33m\u001b[0m\u001b[0m\n\u001b[0;32m    125\u001b[0m         \u001b[1;31m# TODO(kaftan): File bug about tf function and errors.OutOfRangeError?\u001b[0m\u001b[1;33m\u001b[0m\u001b[1;33m\u001b[0m\u001b[1;33m\u001b[0m\u001b[0m\n",
      "\u001b[1;32m~\\Anaconda3\\envs\\ht-1\\lib\\site-packages\\tensorflow_core\\python\\keras\\engine\\training_v2_utils.py\u001b[0m in \u001b[0;36mexecution_function\u001b[1;34m(input_fn)\u001b[0m\n\u001b[0;32m     84\u001b[0m     \u001b[1;31m# `numpy` translates Tensors to values in Eager mode.\u001b[0m\u001b[1;33m\u001b[0m\u001b[1;33m\u001b[0m\u001b[1;33m\u001b[0m\u001b[0m\n\u001b[0;32m     85\u001b[0m     return nest.map_structure(_non_none_constant_value,\n\u001b[1;32m---> 86\u001b[1;33m                               distributed_function(input_fn))\n\u001b[0m\u001b[0;32m     87\u001b[0m \u001b[1;33m\u001b[0m\u001b[0m\n\u001b[0;32m     88\u001b[0m   \u001b[1;32mreturn\u001b[0m \u001b[0mexecution_function\u001b[0m\u001b[1;33m\u001b[0m\u001b[1;33m\u001b[0m\u001b[0m\n",
      "\u001b[1;32m~\\Anaconda3\\envs\\ht-1\\lib\\site-packages\\tensorflow_core\\python\\util\\nest.py\u001b[0m in \u001b[0;36mmap_structure\u001b[1;34m(func, *structure, **kwargs)\u001b[0m\n\u001b[0;32m    533\u001b[0m \u001b[1;33m\u001b[0m\u001b[0m\n\u001b[0;32m    534\u001b[0m   return pack_sequence_as(\n\u001b[1;32m--> 535\u001b[1;33m       \u001b[0mstructure\u001b[0m\u001b[1;33m[\u001b[0m\u001b[1;36m0\u001b[0m\u001b[1;33m]\u001b[0m\u001b[1;33m,\u001b[0m \u001b[1;33m[\u001b[0m\u001b[0mfunc\u001b[0m\u001b[1;33m(\u001b[0m\u001b[1;33m*\u001b[0m\u001b[0mx\u001b[0m\u001b[1;33m)\u001b[0m \u001b[1;32mfor\u001b[0m \u001b[0mx\u001b[0m \u001b[1;32min\u001b[0m \u001b[0mentries\u001b[0m\u001b[1;33m]\u001b[0m\u001b[1;33m,\u001b[0m\u001b[1;33m\u001b[0m\u001b[1;33m\u001b[0m\u001b[0m\n\u001b[0m\u001b[0;32m    536\u001b[0m       expand_composites=expand_composites)\n\u001b[0;32m    537\u001b[0m \u001b[1;33m\u001b[0m\u001b[0m\n",
      "\u001b[1;32m~\\Anaconda3\\envs\\ht-1\\lib\\site-packages\\tensorflow_core\\python\\util\\nest.py\u001b[0m in \u001b[0;36m<listcomp>\u001b[1;34m(.0)\u001b[0m\n\u001b[0;32m    533\u001b[0m \u001b[1;33m\u001b[0m\u001b[0m\n\u001b[0;32m    534\u001b[0m   return pack_sequence_as(\n\u001b[1;32m--> 535\u001b[1;33m       \u001b[0mstructure\u001b[0m\u001b[1;33m[\u001b[0m\u001b[1;36m0\u001b[0m\u001b[1;33m]\u001b[0m\u001b[1;33m,\u001b[0m \u001b[1;33m[\u001b[0m\u001b[0mfunc\u001b[0m\u001b[1;33m(\u001b[0m\u001b[1;33m*\u001b[0m\u001b[0mx\u001b[0m\u001b[1;33m)\u001b[0m \u001b[1;32mfor\u001b[0m \u001b[0mx\u001b[0m \u001b[1;32min\u001b[0m \u001b[0mentries\u001b[0m\u001b[1;33m]\u001b[0m\u001b[1;33m,\u001b[0m\u001b[1;33m\u001b[0m\u001b[1;33m\u001b[0m\u001b[0m\n\u001b[0m\u001b[0;32m    536\u001b[0m       expand_composites=expand_composites)\n\u001b[0;32m    537\u001b[0m \u001b[1;33m\u001b[0m\u001b[0m\n",
      "\u001b[1;32m~\\Anaconda3\\envs\\ht-1\\lib\\site-packages\\tensorflow_core\\python\\keras\\engine\\training_v2_utils.py\u001b[0m in \u001b[0;36m_non_none_constant_value\u001b[1;34m(v)\u001b[0m\n\u001b[0;32m     90\u001b[0m \u001b[1;33m\u001b[0m\u001b[0m\n\u001b[0;32m     91\u001b[0m \u001b[1;32mdef\u001b[0m \u001b[0m_non_none_constant_value\u001b[0m\u001b[1;33m(\u001b[0m\u001b[0mv\u001b[0m\u001b[1;33m)\u001b[0m\u001b[1;33m:\u001b[0m\u001b[1;33m\u001b[0m\u001b[1;33m\u001b[0m\u001b[0m\n\u001b[1;32m---> 92\u001b[1;33m   \u001b[0mconstant_value\u001b[0m \u001b[1;33m=\u001b[0m \u001b[0mtensor_util\u001b[0m\u001b[1;33m.\u001b[0m\u001b[0mconstant_value\u001b[0m\u001b[1;33m(\u001b[0m\u001b[0mv\u001b[0m\u001b[1;33m)\u001b[0m\u001b[1;33m\u001b[0m\u001b[1;33m\u001b[0m\u001b[0m\n\u001b[0m\u001b[0;32m     93\u001b[0m   \u001b[1;32mreturn\u001b[0m \u001b[0mconstant_value\u001b[0m \u001b[1;32mif\u001b[0m \u001b[0mconstant_value\u001b[0m \u001b[1;32mis\u001b[0m \u001b[1;32mnot\u001b[0m \u001b[1;32mNone\u001b[0m \u001b[1;32melse\u001b[0m \u001b[0mv\u001b[0m\u001b[1;33m\u001b[0m\u001b[1;33m\u001b[0m\u001b[0m\n\u001b[0;32m     94\u001b[0m \u001b[1;33m\u001b[0m\u001b[0m\n",
      "\u001b[1;32m~\\Anaconda3\\envs\\ht-1\\lib\\site-packages\\tensorflow_core\\python\\framework\\tensor_util.py\u001b[0m in \u001b[0;36mconstant_value\u001b[1;34m(tensor, partial)\u001b[0m\n\u001b[0;32m    790\u001b[0m   \"\"\"\n\u001b[0;32m    791\u001b[0m   \u001b[1;32mif\u001b[0m \u001b[0misinstance\u001b[0m\u001b[1;33m(\u001b[0m\u001b[0mtensor\u001b[0m\u001b[1;33m,\u001b[0m \u001b[0mops\u001b[0m\u001b[1;33m.\u001b[0m\u001b[0mEagerTensor\u001b[0m\u001b[1;33m)\u001b[0m\u001b[1;33m:\u001b[0m\u001b[1;33m\u001b[0m\u001b[1;33m\u001b[0m\u001b[0m\n\u001b[1;32m--> 792\u001b[1;33m     \u001b[1;32mreturn\u001b[0m \u001b[0mtensor\u001b[0m\u001b[1;33m.\u001b[0m\u001b[0mnumpy\u001b[0m\u001b[1;33m(\u001b[0m\u001b[1;33m)\u001b[0m\u001b[1;33m\u001b[0m\u001b[1;33m\u001b[0m\u001b[0m\n\u001b[0m\u001b[0;32m    793\u001b[0m   \u001b[1;32mif\u001b[0m \u001b[1;32mnot\u001b[0m \u001b[0mis_tensor\u001b[0m\u001b[1;33m(\u001b[0m\u001b[0mtensor\u001b[0m\u001b[1;33m)\u001b[0m\u001b[1;33m:\u001b[0m\u001b[1;33m\u001b[0m\u001b[1;33m\u001b[0m\u001b[0m\n\u001b[0;32m    794\u001b[0m     \u001b[1;32mreturn\u001b[0m \u001b[0mtensor\u001b[0m\u001b[1;33m\u001b[0m\u001b[1;33m\u001b[0m\u001b[0m\n",
      "\u001b[1;32m~\\Anaconda3\\envs\\ht-1\\lib\\site-packages\\tensorflow_core\\python\\framework\\ops.py\u001b[0m in \u001b[0;36mnumpy\u001b[1;34m(self)\u001b[0m\n\u001b[0;32m    931\u001b[0m       \u001b[0mValueError\u001b[0m\u001b[1;33m:\u001b[0m \u001b[1;32mif\u001b[0m \u001b[0mthe\u001b[0m \u001b[0mtype\u001b[0m \u001b[0mof\u001b[0m \u001b[0mthis\u001b[0m \u001b[0mTensor\u001b[0m \u001b[1;32mis\u001b[0m \u001b[1;32mnot\u001b[0m \u001b[0mrepresentable\u001b[0m \u001b[1;32min\u001b[0m \u001b[0mnumpy\u001b[0m\u001b[1;33m.\u001b[0m\u001b[1;33m\u001b[0m\u001b[1;33m\u001b[0m\u001b[0m\n\u001b[0;32m    932\u001b[0m     \"\"\"\n\u001b[1;32m--> 933\u001b[1;33m     \u001b[0mmaybe_arr\u001b[0m \u001b[1;33m=\u001b[0m \u001b[0mself\u001b[0m\u001b[1;33m.\u001b[0m\u001b[0m_numpy\u001b[0m\u001b[1;33m(\u001b[0m\u001b[1;33m)\u001b[0m  \u001b[1;31m# pylint: disable=protected-access\u001b[0m\u001b[1;33m\u001b[0m\u001b[1;33m\u001b[0m\u001b[0m\n\u001b[0m\u001b[0;32m    934\u001b[0m     \u001b[1;32mreturn\u001b[0m \u001b[0mmaybe_arr\u001b[0m\u001b[1;33m.\u001b[0m\u001b[0mcopy\u001b[0m\u001b[1;33m(\u001b[0m\u001b[1;33m)\u001b[0m \u001b[1;32mif\u001b[0m \u001b[0misinstance\u001b[0m\u001b[1;33m(\u001b[0m\u001b[0mmaybe_arr\u001b[0m\u001b[1;33m,\u001b[0m \u001b[0mnp\u001b[0m\u001b[1;33m.\u001b[0m\u001b[0mndarray\u001b[0m\u001b[1;33m)\u001b[0m \u001b[1;32melse\u001b[0m \u001b[0mmaybe_arr\u001b[0m\u001b[1;33m\u001b[0m\u001b[1;33m\u001b[0m\u001b[0m\n\u001b[0;32m    935\u001b[0m \u001b[1;33m\u001b[0m\u001b[0m\n",
      "\u001b[1;31mKeyboardInterrupt\u001b[0m: "
     ]
    }
   ],
   "source": [
    "train_X_0 = np.vstack((X_0,X_test_0))\n",
    "train_X_1 = np.vstack((X_1,X_test_1))\n",
    "train_Y = np.vstack((Y,Y_test))\n",
    "\n",
    "print(train_X_0.shape, train_X_1.shape, train_Y.shape)\n",
    "\n",
    "import tensorflow.keras\n",
    "lr = 1e-3\n",
    "DD_Net.compile(loss=\"categorical_crossentropy\",optimizer=Adam(lr),metrics=['accuracy'])\n",
    "lrScheduler = tensorflow.keras.callbacks.ReduceLROnPlateau(monitor='loss', factor=0.5, patience=5, cooldown=5, min_lr=5e-6)\n",
    "history = DD_Net.fit([X_0,X_1],Y,\n",
    "                    batch_size=len(Y),\n",
    "                    epochs=400,\n",
    "                    verbose=True,\n",
    "                    shuffle=True,\n",
    "                    callbacks=[lrScheduler],\n",
    "                    validation_data=([X_test_0,X_test_1],Y_test),\n",
    "#                      validation_split=0.1\n",
    "                    )"
   ]
  },
  {
   "cell_type": "code",
   "execution_count": 64,
   "metadata": {},
   "outputs": [
    {
     "data": {
      "image/png": "[encoded data removed]",
      "text/plain": [
       "<Figure size 432x288 with 1 Axes>"
      ]
     },
     "metadata": {
      "needs_background": "light"
     },
     "output_type": "display_data"
    }
   ],
   "source": [
    "# Plot training & validation accuracy values\n",
    "plt.plot(history.history['accuracy'])\n",
    "plt.plot(history.history['val_accuracy'])\n",
    "plt.title('Model accuracy')\n",
    "plt.ylabel('Accuracy')\n",
    "plt.xlabel('Epoch')\n",
    "plt.legend(['Train', 'Test'], loc='upper left')\n",
    "plt.show()"
   ]
  },
  {
   "cell_type": "code",
   "execution_count": 34,
   "metadata": {},
   "outputs": [],
   "source": [
    "DD_Net.save_weights('weights/3d_9_1.h5')"
   ]
  },
  {
   "cell_type": "code",
   "execution_count": 18,
   "metadata": {},
   "outputs": [],
   "source": [
    "DD_Net.load_weights('weights/3d_100.h5')"
   ]
  },
  {
   "cell_type": "markdown",
   "metadata": {},
   "source": [
    "## With frame_sampling"
   ]
  },
  {
   "cell_type": "code",
   "execution_count": 30,
   "metadata": {},
   "outputs": [],
   "source": [
    "lr = 1e-5\n",
    "DD_Net.compile(loss=\"categorical_crossentropy\",optimizer=Adam(lr),metrics=['accuracy'])"
   ]
  },
  {
   "cell_type": "code",
   "execution_count": null,
   "metadata": {
    "scrolled": true
   },
   "outputs": [
    {
     "name": "stdout",
     "output_type": "stream",
     "text": [
      "epoch0\n"
     ]
    },
    {
     "name": "stderr",
     "output_type": "stream",
     "text": [
      "100%|█████████████████████████████████████████████████████████████████████████████| 7122/7122 [00:50<00:00, 140.92it/s]\n"
     ]
    },
    {
     "name": "stdout",
     "output_type": "stream",
     "text": [
      "Train on 7122 samples, validate on 1604 samples\n"
     ]
    }
   ],
   "source": [
    "epochs = 20\n",
    "for e in range(epochs):\n",
    "    print('epoch{}'.format(e))\n",
    "    X_0 = []\n",
    "    X_1 = []\n",
    "    Y = []\n",
    "    \n",
    "    for i in tqdm(range(len(Train['pose']))): \n",
    "\n",
    "        label = np.zeros(C.coarse)\n",
    "        label[Train['label'][i]-1] = 1 \n",
    "        \n",
    "        p = np.copy(Train['pose'][i]).reshape([-1,21,2])\n",
    "        p = sampling_frame(p,C)\n",
    "        \n",
    "        M = get_CG(p,C)\n",
    "        \n",
    "        X_0.append(M)\n",
    "        X_1.append(p)\n",
    "        Y.append(label)\n",
    "\n",
    "    X_0 = np.stack(X_0)  \n",
    "    X_1 = np.stack(X_1) \n",
    "    Y = np.stack(Y)\n",
    "   \n",
    "\n",
    "    DD_Net.fit([X_0,X_1],Y,\n",
    "            batch_size=len(Y),\n",
    "            epochs=1,\n",
    "            verbose=True,\n",
    "            shuffle=True,\n",
    "            validation_data=([X_test_0,X_test_1],Y_test)      \n",
    "            )\n",
    "\n"
   ]
  },
  {
   "cell_type": "markdown",
   "metadata": {},
   "source": [
    "# Calculate time (excute it twice, the first time initialize takes extra times)"
   ]
  },
  {
   "cell_type": "code",
   "execution_count": 20,
   "metadata": {},
   "outputs": [
    {
     "data": {
      "text/plain": [
       "0.10934758186340332"
      ]
     },
     "execution_count": 20,
     "metadata": {},
     "output_type": "execute_result"
    }
   ],
   "source": [
    "import time\n",
    "start_time = time.time()\n",
    "y = DD_Net.predict([X_test_0,X_test_1])\n",
    "time.time() - start_time"
   ]
  },
  {
   "cell_type": "code",
   "execution_count": 21,
   "metadata": {},
   "outputs": [
    {
     "name": "stdout",
     "output_type": "stream",
     "text": [
      "predcit:  [19, 6, 17, 16, 11, 12, 6, 23, 6, 12, 24, 5, 9, 24, 7, 12, 1, 20, 24, 19, 12, 5, 21, 7, 18, 23, 17, 10, 24, 25, 20, 4, 8, 23, 8, 2, 18, 15, 25, 17, 24, 25, 16, 12, 10, 15, 20, 4, 16, 20, 17, 3, 25, 6, 23, 2, 24, 20, 2, 23, 11, 1, 3, 2, 8, 24, 1, 6, 2, 16, 15, 1, 19, 4, 2, 13, 19, 16, 4, 15, 15, 1, 13, 5, 12, 1, 18]\n",
      "real:     [19, 6, 3, 16, 11, 12, 6, 23, 4, 15, 24, 24, 10, 24, 7, 12, 1, 20, 23, 20, 12, 5, 21, 11, 18, 25, 17, 10, 6, 25, 20, 4, 8, 3, 20, 13, 18, 15, 25, 15, 24, 25, 15, 8, 10, 16, 20, 4, 16, 20, 17, 3, 25, 6, 9, 2, 23, 19, 11, 15, 11, 1, 3, 12, 8, 24, 1, 16, 2, 13, 16, 1, 19, 4, 2, 14, 19, 16, 7, 16, 15, 23, 12, 5, 12, 2, 18]\n",
      "-------------分隔符----------\n",
      "predict:  {1: 6, 2: 6, 3: 2, 4: 4, 5: 3, 6: 5, 7: 2, 8: 3, 9: 1, 10: 2, 11: 2, 12: 6, 13: 2, 14: 0, 15: 5, 16: 5, 17: 4, 18: 3, 19: 4, 20: 5, 21: 1, 22: 0, 23: 5, 24: 7, 25: 4}\n",
      "real:     {1: 4, 2: 4, 3: 4, 4: 4, 5: 2, 6: 4, 7: 2, 8: 3, 9: 1, 10: 3, 11: 4, 12: 6, 13: 2, 14: 1, 15: 6, 16: 7, 17: 2, 18: 3, 19: 4, 20: 6, 21: 1, 22: 0, 23: 4, 24: 5, 25: 5}\n",
      "-------------分隔符----------\n",
      "{1: 47, 2: 39, 3: 43, 4: 41, 5: 42, 6: 48, 7: 25, 8: 20, 9: 21, 10: 45, 11: 41, 12: 48, 13: 11, 14: 12, 15: 50, 16: 41, 17: 54, 18: 57, 19: 63, 20: 52, 21: 10, 22: 19, 23: 47, 24: 46, 25: 49}\n"
     ]
    }
   ],
   "source": [
    "# 看一下正确情况\n",
    "result = []\n",
    "result_dict = dict(zip(range(1,C.coarse+1),(0 for _ in range(C.coarse))))\n",
    "for i in y:\n",
    "#     print(i)\n",
    "    max = 0\n",
    "    for e in range(len(i)):\n",
    "        if i[e] > i[max]:\n",
    "            max = e\n",
    "    result_dict[max+1] += 1\n",
    "    result.append(max+1)\n",
    "\n",
    "\n",
    "label = dict(zip(range(1,C.coarse+1),(0 for _ in range(C.coarse))))\n",
    "label_list = []\n",
    "for i in Y_test:\n",
    "    for e in range(len(i)):\n",
    "        if i[e] == 1:\n",
    "            label[e+1] += 1\n",
    "            label_list.append(e+1)\n",
    "            break\n",
    "            \n",
    "print('predcit: ',result)\n",
    "print('real:    ', label_list)\n",
    "\n",
    "print('-------------分隔符----------')\n",
    "print('predict: ',result_dict)\n",
    "print('real:    ',label)\n",
    "\n",
    "\n",
    "clscount = dict(zip(range(1,C.coarse+1),(0 for _ in range(C.coarse))))\n",
    "for i in Y:\n",
    "    for e in range(len(i)):\n",
    "        if i[e] == 1:\n",
    "            clscount[e+1] += 1\n",
    "            break\n",
    "print('-------------分隔符----------')\n",
    "print(clscount)"
   ]
  },
  {
   "cell_type": "code",
   "execution_count": 32,
   "metadata": {},
   "outputs": [
    {
     "name": "stdout",
     "output_type": "stream",
     "text": [
      "dict_keys(['10_0', '11_0', '12_0', '1_0', '1_1', '1_2', '1_3', '1_4', '1_5', '2_0', '2_1', '2_2', '2_3', '3_0', '4_0', '5_0', '5_1', '6_0', '6_1', '7_0', '7_1', '8_0', '9_0'])\n",
      "[[2.3298603e-03 1.8701674e-02 5.1615648e-03 2.6362026e-01 1.7655175e-04\n",
      "  6.2869824e-02 6.9206818e-03 2.0281672e-02 2.0781910e-02 5.7913482e-01\n",
      "  3.4891609e-03 1.6532054e-02]]\n"
     ]
    },
    {
     "data": {
      "image/png": "[encoded data removed]",
      "text/plain": [
       "<Figure size 432x144 with 1 Axes>"
      ]
     },
     "metadata": {
      "needs_background": "light"
     },
     "output_type": "display_data"
    },
    {
     "name": "stdout",
     "output_type": "stream",
     "text": [
      "10_0 :  10\n",
      "[[0.00412811 0.01095973 0.00140171 0.00995232 0.00091873 0.00161749\n",
      "  0.15569259 0.3477958  0.04769531 0.2964898  0.1041175  0.0192309 ]]\n"
     ]
    },
    {
     "data": {
      "image/png": "[encoded data removed]",
      "text/plain": [
       "<Figure size 432x144 with 1 Axes>"
      ]
     },
     "metadata": {
      "needs_background": "light"
     },
     "output_type": "display_data"
    },
    {
     "name": "stdout",
     "output_type": "stream",
     "text": [
      "11_0 :  8\n",
      "[[1.5193118e-03 9.5095197e-03 1.1391785e-04 1.6805351e-03 7.5638833e-05\n",
      "  1.2718135e-03 3.4459725e-02 2.6815439e-02 1.7614629e-03 3.1429650e-03\n",
      "  3.5629154e-03 9.1608673e-01]]\n"
     ]
    },
    {
     "data": {
      "image/png": "[encoded data removed]",
      "text/plain": [
       "<Figure size 432x144 with 1 Axes>"
      ]
     },
     "metadata": {
      "needs_background": "light"
     },
     "output_type": "display_data"
    },
    {
     "name": "stdout",
     "output_type": "stream",
     "text": [
      "12_0 :  12\n",
      "[[6.2595436e-04 8.2426943e-04 1.7444543e-03 8.9567211e-03 3.0886400e-05\n",
      "  9.8647016e-01 1.0824005e-05 3.6060403e-05 1.3065989e-04 6.2210130e-04\n",
      "  6.5645449e-06 5.4126547e-04]]\n"
     ]
    },
    {
     "data": {
      "image/png": "[encoded data removed]",
      "text/plain": [
       "<Figure size 432x144 with 1 Axes>"
      ]
     },
     "metadata": {
      "needs_background": "light"
     },
     "output_type": "display_data"
    },
    {
     "name": "stdout",
     "output_type": "stream",
     "text": [
      "1_0 :  6\n",
      "[[2.9888746e-01 2.3051308e-04 6.0979981e-04 1.2669457e-03 4.9582639e-05\n",
      "  1.1566379e-04 6.7747724e-01 6.9742289e-04 3.5266080e-03 1.1886219e-02\n",
      "  2.0449962e-04 5.0480426e-03]]\n"
     ]
    },
    {
     "data": {
      "image/png": "[encoded data removed]",
      "text/plain": [
       "<Figure size 432x144 with 1 Axes>"
      ]
     },
     "metadata": {
      "needs_background": "light"
     },
     "output_type": "display_data"
    },
    {
     "name": "stdout",
     "output_type": "stream",
     "text": [
      "1_1 :  7\n",
      "[[9.9939311e-01 1.9389967e-04 1.2676827e-04 1.5990150e-05 1.2270214e-05\n",
      "  4.2920419e-06 2.4423131e-04 1.5404605e-06 1.3764699e-06 3.0682354e-06\n",
      "  1.6418734e-07 3.2999303e-06]]\n"
     ]
    },
    {
     "data": {
      "image/png": "[encoded data removed]",
      "text/plain": [
       "<Figure size 432x144 with 1 Axes>"
      ]
     },
     "metadata": {
      "needs_background": "light"
     },
     "output_type": "display_data"
    },
    {
     "name": "stdout",
     "output_type": "stream",
     "text": [
      "1_2 :  1\n",
      "[[0.45301417 0.08911303 0.01459801 0.14747302 0.01019285 0.00469112\n",
      "  0.18591128 0.03977038 0.00880284 0.03531912 0.00525732 0.00585689]]\n"
     ]
    },
    {
     "data": {
      "image/png": "[encoded data removed]",
      "text/plain": [
       "<Figure size 432x144 with 1 Axes>"
      ]
     },
     "metadata": {
      "needs_background": "light"
     },
     "output_type": "display_data"
    },
    {
     "name": "stdout",
     "output_type": "stream",
     "text": [
      "1_3 :  1\n",
      "[[9.9957114e-01 7.7707591e-05 2.1862432e-04 2.9539966e-05 2.2658778e-05\n",
      "  1.5152584e-05 5.6681827e-05 5.6073577e-07 1.6871855e-06 2.3416744e-06\n",
      "  1.2801856e-07 3.7208902e-06]]\n"
     ]
    },
    {
     "data": {
      "image/png": "[encoded data removed]",
      "text/plain": [
       "<Figure size 432x144 with 1 Axes>"
      ]
     },
     "metadata": {
      "needs_background": "light"
     },
     "output_type": "display_data"
    },
    {
     "name": "stdout",
     "output_type": "stream",
     "text": [
      "1_4 :  1\n",
      "[[9.8118079e-01 5.7016360e-03 6.6928137e-03 1.7915517e-03 2.1001698e-04\n",
      "  4.5102384e-04 2.7874876e-03 6.1249128e-05 2.9205222e-04 2.7938871e-04\n",
      "  1.9492321e-05 5.3254550e-04]]\n"
     ]
    },
    {
     "data": {
      "image/png": "[encoded data removed]",
      "text/plain": [
       "<Figure size 432x144 with 1 Axes>"
      ]
     },
     "metadata": {
      "needs_background": "light"
     },
     "output_type": "display_data"
    },
    {
     "name": "stdout",
     "output_type": "stream",
     "text": [
      "1_5 :  1\n",
      "[[0.10711934 0.70433766 0.04708676 0.06252003 0.00421602 0.0176236\n",
      "  0.00600921 0.01174859 0.00794271 0.00679297 0.00349906 0.02110404]]\n"
     ]
    },
    {
     "data": {
      "image/png": "[encoded data removed]",
      "text/plain": [
       "<Figure size 432x144 with 1 Axes>"
      ]
     },
     "metadata": {
      "needs_background": "light"
     },
     "output_type": "display_data"
    },
    {
     "name": "stdout",
     "output_type": "stream",
     "text": [
      "2_0 :  2\n",
      "[[2.9382704e-07 9.9603015e-01 4.2204724e-06 1.0123049e-06 1.9315311e-07\n",
      "  2.4419464e-06 1.9867721e-07 3.9523426e-03 1.4017476e-08 1.7680529e-07\n",
      "  4.9592131e-07 8.5034444e-06]]\n"
     ]
    },
    {
     "data": {
      "image/png": "[encoded data removed]",
      "text/plain": [
       "<Figure size 432x144 with 1 Axes>"
      ]
     },
     "metadata": {
      "needs_background": "light"
     },
     "output_type": "display_data"
    },
    {
     "name": "stdout",
     "output_type": "stream",
     "text": [
      "2_1 :  2\n",
      "[[1.0150656e-05 9.9874496e-01 4.2062140e-05 4.7926471e-05 1.4463081e-05\n",
      "  1.5892969e-05 7.9734400e-07 1.1041396e-03 2.3355803e-07 1.0482529e-06\n",
      "  9.7711509e-06 8.6378905e-06]]\n"
     ]
    },
    {
     "data": {
      "image/png": "[encoded data removed]",
      "text/plain": [
       "<Figure size 432x144 with 1 Axes>"
      ]
     },
     "metadata": {
      "needs_background": "light"
     },
     "output_type": "display_data"
    },
    {
     "name": "stdout",
     "output_type": "stream",
     "text": [
      "2_2 :  2\n",
      "[[3.25474116e-06 9.99810398e-01 5.51345420e-06 4.61069794e-06\n",
      "  1.77286415e-06 1.85618535e-06 1.03169356e-07 1.70916828e-04\n",
      "  5.73032199e-09 2.73826100e-08 2.04505753e-07 1.43026057e-06]]\n"
     ]
    },
    {
     "data": {
      "image/png": "[encoded data removed]",
      "text/plain": [
       "<Figure size 432x144 with 1 Axes>"
      ]
     },
     "metadata": {
      "needs_background": "light"
     },
     "output_type": "display_data"
    },
    {
     "name": "stdout",
     "output_type": "stream",
     "text": [
      "2_3 :  2\n",
      "[[1.4483124e-04 4.6973565e-04 9.9203402e-01 1.7235751e-04 1.0802277e-04\n",
      "  1.1685896e-03 6.5795098e-06 3.3413742e-06 5.6872885e-03 1.6308555e-04\n",
      "  2.3143666e-05 1.9065386e-05]]\n"
     ]
    },
    {
     "data": {
      "image/png": "[encoded data removed]",
      "text/plain": [
       "<Figure size 432x144 with 1 Axes>"
      ]
     },
     "metadata": {
      "needs_background": "light"
     },
     "output_type": "display_data"
    },
    {
     "name": "stdout",
     "output_type": "stream",
     "text": [
      "3_0 :  3\n",
      "[[7.9437974e-04 4.2032643e-04 3.7176427e-02 9.1172862e-01 2.2724355e-04\n",
      "  4.4023260e-02 2.2828128e-05 3.7089892e-06 4.3195981e-04 5.1280255e-03\n",
      "  6.4967589e-06 3.6771278e-05]]\n"
     ]
    },
    {
     "data": {
      "image/png": "[encoded data removed]",
      "text/plain": [
       "<Figure size 432x144 with 1 Axes>"
      ]
     },
     "metadata": {
      "needs_background": "light"
     },
     "output_type": "display_data"
    },
    {
     "name": "stdout",
     "output_type": "stream",
     "text": [
      "4_0 :  4\n",
      "[[1.8570805e-04 2.0944601e-05 4.3843107e-04 3.6697798e-05 9.9914062e-01\n",
      "  1.0758324e-06 3.2827231e-06 2.0243353e-06 8.2452761e-06 5.6223951e-07\n",
      "  1.6225479e-04 1.1955048e-07]]\n"
     ]
    },
    {
     "data": {
      "image/png": "[encoded data removed]",
      "text/plain": [
       "<Figure size 432x144 with 1 Axes>"
      ]
     },
     "metadata": {
      "needs_background": "light"
     },
     "output_type": "display_data"
    },
    {
     "name": "stdout",
     "output_type": "stream",
     "text": [
      "5_0 :  5\n",
      "[[0.01119824 0.00344093 0.00541336 0.06095408 0.74808544 0.002505\n",
      "  0.00223794 0.00183239 0.02318705 0.00452374 0.13536046 0.00126143]]\n"
     ]
    },
    {
     "data": {
      "image/png": "[encoded data removed]",
      "text/plain": [
       "<Figure size 432x144 with 1 Axes>"
      ]
     },
     "metadata": {
      "needs_background": "light"
     },
     "output_type": "display_data"
    },
    {
     "name": "stdout",
     "output_type": "stream",
     "text": [
      "5_1 :  5\n",
      "[[2.6946305e-04 5.3494616e-04 6.5990852e-04 1.2275182e-02 4.3346614e-04\n",
      "  9.8314238e-01 7.5705434e-06 2.0693942e-05 2.6754540e-04 1.3127559e-04\n",
      "  3.1464526e-05 2.2260130e-03]]\n"
     ]
    },
    {
     "data": {
      "image/png": "[encoded data removed]",
      "text/plain": [
       "<Figure size 432x144 with 1 Axes>"
      ]
     },
     "metadata": {
      "needs_background": "light"
     },
     "output_type": "display_data"
    },
    {
     "name": "stdout",
     "output_type": "stream",
     "text": [
      "6_0 :  6\n",
      "[[2.7292379e-04 5.8225909e-04 1.8582733e-04 3.9622947e-03 5.7470628e-05\n",
      "  9.8830622e-01 6.6362204e-06 1.7936294e-05 2.3270391e-04 1.4257949e-04\n",
      "  2.8112565e-05 6.2050205e-03]]\n"
     ]
    },
    {
     "data": {
      "image/png": "[encoded data removed]",
      "text/plain": [
       "<Figure size 432x144 with 1 Axes>"
      ]
     },
     "metadata": {
      "needs_background": "light"
     },
     "output_type": "display_data"
    },
    {
     "name": "stdout",
     "output_type": "stream",
     "text": [
      "6_1 :  6\n",
      "[[4.6929377e-03 9.3148788e-03 3.1780466e-04 2.8668072e-03 1.9755242e-04\n",
      "  7.6243188e-04 4.1099948e-01 1.4426214e-01 8.6580589e-03 2.0461405e-02\n",
      "  1.2369262e-02 3.8509724e-01]]\n"
     ]
    },
    {
     "data": {
      "image/png": "[encoded data removed]",
      "text/plain": [
       "<Figure size 432x144 with 1 Axes>"
      ]
     },
     "metadata": {
      "needs_background": "light"
     },
     "output_type": "display_data"
    },
    {
     "name": "stdout",
     "output_type": "stream",
     "text": [
      "7_0 :  7\n",
      "[[2.9931008e-04 4.0772560e-04 4.0543731e-04 1.6216449e-03 2.4801030e-04\n",
      "  2.1516522e-03 2.9690888e-02 2.4193183e-02 1.6502535e-01 5.9452355e-01\n",
      "  1.7852540e-01 2.9078873e-03]]\n"
     ]
    },
    {
     "data": {
      "image/png": "[encoded data removed]",
      "text/plain": [
       "<Figure size 432x144 with 1 Axes>"
      ]
     },
     "metadata": {
      "needs_background": "light"
     },
     "output_type": "display_data"
    },
    {
     "name": "stdout",
     "output_type": "stream",
     "text": [
      "7_1 :  10\n",
      "[[0.00349803 0.01374562 0.00086718 0.00693768 0.00168612 0.00345292\n",
      "  0.12005226 0.44708416 0.03562732 0.14615953 0.1718262  0.04906301]]\n"
     ]
    },
    {
     "data": {
      "image/png": "[encoded data removed]",
      "text/plain": [
       "<Figure size 432x144 with 1 Axes>"
      ]
     },
     "metadata": {
      "needs_background": "light"
     },
     "output_type": "display_data"
    },
    {
     "name": "stdout",
     "output_type": "stream",
     "text": [
      "8_0 :  8\n",
      "[[0.03241395 0.08181816 0.6103559  0.11726043 0.00895756 0.07378326\n",
      "  0.00138057 0.00367682 0.03551251 0.02773709 0.00299961 0.00410414]]\n"
     ]
    },
    {
     "data": {
      "image/png": "[encoded data removed]",
      "text/plain": [
       "<Figure size 432x144 with 1 Axes>"
      ]
     },
     "metadata": {
      "needs_background": "light"
     },
     "output_type": "display_data"
    },
    {
     "name": "stdout",
     "output_type": "stream",
     "text": [
      "9_0 :  3\n"
     ]
    }
   ],
   "source": [
    "# 用自己的数据实验\n",
    "\n",
    "import matplotlib.pyplot as plt\n",
    "\n",
    "self_skel_list = pickle.load(open(\"C:\\\\Users\\\\zys98\\\\Desktop\\\\graduation\\\\github-repo\\\\sk_dd_2019\\\\codes\\\\data\\\\JESTER\\\\myskel.pkl\", \"rb\"))\n",
    "print(self_skel_list.keys())\n",
    "\n",
    "for key in list(self_skel_list.keys()):\n",
    "    skel = self_skel_list[key]\n",
    "    \n",
    "    p = np.copy(skel)\n",
    "    p = zoom(p,target_l=C.frame_l,joints_num=C.joint_n,joints_dim=C.joint_d)\n",
    "    p = normlize_range(p)\n",
    "    M = get_CG(p,C)\n",
    "\n",
    "    X_My_0 = []\n",
    "    X_My_0.append(p)\n",
    "    X_My_0 = np.stack(X_My_0)\n",
    "\n",
    "    X_My_1 = []\n",
    "    X_My_1.append(M)\n",
    "    X_My_1 = np.stack(X_My_1)\n",
    "\n",
    "    y = DD_Net.predict([X_My_1,X_My_0])\n",
    "    print(y)\n",
    "    max = 0\n",
    "    for i in range(len(y[0])):\n",
    "        if y[0][i] > y[0][max]:\n",
    "            max = i\n",
    "            \n",
    "    plt.figure(figsize=(6, 2))\n",
    "    x=range(1,len(y[0])+1)\n",
    "\n",
    "    plt.bar(x,y[0],color='blue')\n",
    "    plt.xticks(x, x)\n",
    "    plt.title(key)\n",
    "    plt.show()\n",
    "    print(key,': ',max+1)\n",
    "\n",
    "# X_0 = []\n",
    "# X_1 = []\n",
    "# Y = []\n",
    "# for i in tqdm(range(len(Train['pose']))): \n",
    "#     p = np.copy(Train['pose'][i]).reshape([-1,C.joint_n,C.joint_d])\n",
    "#     p = zoom(p,target_l=C.frame_l,joints_num=C.joint_n,joints_dim=C.joint_d)\n",
    "#     p = normlize_range_2d(p)\n",
    "    \n",
    "#     label = np.zeros(C.coarse)\n",
    "#     label[Train['label'][i]-1] = 1   \n",
    "\n",
    "#     M = get_CG(p,C)\n",
    "\n",
    "#     X_0.append(M)\n",
    "#     X_1.append(p)\n",
    "#     Y.append(label)\n",
    "\n",
    "# X_0 = np.stack(X_0)  \n",
    "# X_1 = np.stack(X_1) \n",
    "# Y = np.stack(Y)"
   ]
  },
  {
   "cell_type": "markdown",
   "metadata": {},
   "source": [
    "##### Plot confusion matrix"
   ]
  },
  {
   "cell_type": "code",
   "execution_count": 18,
   "metadata": {},
   "outputs": [
    {
     "data": {
      "image/png": "[encoded data removed]",
      "text/plain": [
       "<Figure size 864x864 with 1 Axes>"
      ]
     },
     "metadata": {
      "needs_background": "light"
     },
     "output_type": "display_data"
    }
   ],
   "source": [
    "import matplotlib.pyplot as plt\n",
    "from sklearn.metrics import confusion_matrix\n",
    "\n",
    "Y_pred = DD_Net.predict([X_test_0,X_test_1])\n",
    "labels = range(1,C.coarse+1)\n",
    "\n",
    "y_true = []\n",
    "for i in np.argmax(Y_test,axis=1):\n",
    "    y_true.append(labels[i])\n",
    "    \n",
    "y_pred = []\n",
    "for i in np.argmax(Y_pred,axis=1):\n",
    "    y_pred.append(labels[i])\n",
    "\n",
    "cm_analysis(y_true,y_pred, '23.png', labels, ymap=None, figsize=(12,12))"
   ]
  },
  {
   "cell_type": "code",
   "execution_count": null,
   "metadata": {},
   "outputs": [],
   "source": []
  }
 ],
 "metadata": {
  "kernelspec": {
   "display_name": "Python 3",
   "language": "python",
   "name": "python3"
  },
  "language_info": {
   "codemirror_mode": {
    "name": "ipython",
    "version": 3
   },
   "file_extension": ".py",
   "mimetype": "text/x-python",
   "name": "python",
   "nbconvert_exporter": "python",
   "pygments_lexer": "ipython3",
   "version": "3.7.6"
  }
 },
 "nbformat": 4,
 "nbformat_minor": 2
}
