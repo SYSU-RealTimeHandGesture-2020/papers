{
 "cells": [
  {
   "cell_type": "code",
   "execution_count": 1,
   "metadata": {},
   "outputs": [],
   "source": [
    "import os\n",
    "import cv2"
   ]
  },
  {
   "cell_type": "code",
   "execution_count": 4,
   "metadata": {},
   "outputs": [],
   "source": [
    "# 视频相关初始化\n",
    "indir = 'D:\\\\jester\\\\data\\\\118250'\n",
    "filelist = os.listdir(indir)\n",
    "fps = 12 # 帧率\n",
    "outpath = 'test.avi' # 视频输出位置\n",
    "fourcc = cv2.VideoWriter_fourcc(*'MJPG')\n",
    "firstpic = cv2.imread(indir+'\\\\'+filelist[0])\n",
    "size = (500,500) # 视频分辨率\n",
    "# size = (720, 720)"
   ]
  },
  {
   "cell_type": "code",
   "execution_count": 5,
   "metadata": {},
   "outputs": [],
   "source": [
    "video = cv2.VideoWriter(filename=outpath, fourcc=fourcc, fps=fps, frameSize=size)\n",
    " \n",
    "for item in filelist:\n",
    "    item = indir + '\\\\' + item \n",
    "    img = cv2.imread(item)\n",
    "    img = cv2.resize(img,(500,500))\n",
    "    video.write(img)\n",
    "\n",
    "video.release() #释放"
   ]
  },
  {
   "cell_type": "code",
   "execution_count": null,
   "metadata": {},
   "outputs": [],
   "source": []
  }
 ],
 "metadata": {
  "kernelspec": {
   "display_name": "Python 3.7.6 64-bit ('ht-1': conda)",
   "language": "python",
   "name": "python37664bitht1conda3159e56e116d4212af8cbee493bc2631"
  },
  "language_info": {
   "codemirror_mode": {
    "name": "ipython",
    "version": 3
   },
   "file_extension": ".py",
   "mimetype": "text/x-python",
   "name": "python",
   "nbconvert_exporter": "python",
   "pygments_lexer": "ipython3",
   "version": "3.7.6"
  }
 },
 "nbformat": 4,
 "nbformat_minor": 4
}
