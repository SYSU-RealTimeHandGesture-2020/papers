{
 "cells": [
  {
   "cell_type": "code",
   "execution_count": 3,
   "metadata": {},
   "outputs": [],
   "source": [
    "import pandas as pd\n",
    "from tqdm import tqdm\n",
    "import os\n",
    "import pickle\n",
    "import cv2\n",
    "from hand_tracker import HandTracker\n",
    "import numpy as np\n",
    "\n",
    "import os\n",
    "os.environ[\"CUDA_DEVICE_ORDER\"] = \"PCI_BUS_ID\"\n",
    "os.environ[\"CUDA_VISIBLE_DEVICES\"] = \"0\""
   ]
  },
  {
   "cell_type": "code",
   "execution_count": 4,
   "metadata": {},
   "outputs": [],
   "source": [
    "# 基础配置\n",
    "root_dir = 'D:\\\\jester\\\\'\n",
    "data_dir = 'D:\\\\jester\\\\data\\\\'\n",
    "label_fn = 'jester-v1-labels.csv'\n",
    "train_fn = 'jester-v1-train.csv'\n",
    "test_fn = 'jester-v1-test.csv'\n",
    "valid_fn = 'jester-v1-validation.csv'\n",
    "\n",
    "train_output_fn = 'C:\\\\Users\\\\zys98\\\\Desktop\\\\graduation\\\\github-repo\\\\sk_dd_2019\\\\codes\\\\data\\\\JESTER\\\\train.pkl'\n",
    "valid_output_fn = 'C:\\\\Users\\\\zys98\\\\Desktop\\\\graduation\\\\github-repo\\\\sk_dd_2019\\\\codes\\\\data\\\\JESTER\\\\valid.pkl'\n",
    "\n",
    "train_size = 40000\n",
    "valid_size = 4000\n",
    "\n",
    "joint_num = 21\n",
    "joint_dim = 2"
   ]
  },
  {
   "cell_type": "code",
   "execution_count": 5,
   "metadata": {
    "scrolled": true
   },
   "outputs": [
    {
     "name": "stdout",
     "output_type": "stream",
     "text": [
      "hand tracker built ok\n"
     ]
    }
   ],
   "source": [
    "# 模型相关初始化\n",
    "palm_model_path = \".\\\\models\\\\palm_detection.tflite\"\n",
    "landmark_model_path = \".\\\\models\\\\hand_landmark.tflite\"\n",
    "anchors_path = \".\\\\data\\\\anchors.csv\" \n",
    "# box_shift determines \n",
    "from hand_tracker import HandTracker\n",
    "detector = HandTracker(palm_model_path, landmark_model_path, anchors_path,\n",
    "                       box_shift=0.2, box_enlarge=1.3)\n",
    "hand_pres_thresh = 1e-7 # 手部landmark评分的丢弃阈值"
   ]
  },
  {
   "cell_type": "code",
   "execution_count": 6,
   "metadata": {},
   "outputs": [],
   "source": [
    "# 加载动作类别\n",
    "cls_csv = pd.read_csv(root_dir + label_fn, sep=';')\n",
    "cls_dict = dict(zip(cls_csv.clsid, cls_csv.clsname))\n",
    "cls_dict_verse = dict(zip(cls_csv.clsname, cls_csv.clsid))\n",
    "# print(cls_dict[1], cls_dict_verse['Swiping Left'])"
   ]
  },
  {
   "cell_type": "code",
   "execution_count": 7,
   "metadata": {},
   "outputs": [
    {
     "name": "stdout",
     "output_type": "stream",
     "text": [
      "{1: 'Swiping Left', 2: 'Swiping Right', 3: 'Swiping Down', 4: 'Swiping Up', 5: 'Pushing Hand Away', 6: 'Pulling Hand In', 7: 'Sliding Two Fingers Left', 8: 'Sliding Two Fingers Right', 9: 'Sliding Two Fingers Down', 10: 'Sliding Two Fingers Up', 11: 'Pushing Two Fingers Away', 12: 'Pulling Two Fingers In', 13: 'Rolling Hand Forward', 14: 'Rolling Hand Backward', 15: 'Turning Hand Clockwise', 16: 'Turning Hand Counterclockwise', 17: 'Zooming In With Full Hand', 18: 'Zooming Out With Full Hand', 19: 'Zooming In With Two Fingers', 20: 'Zooming Out With Two Fingers', 21: 'Thumb Up', 22: 'Thumb Down', 23: 'Shaking Hand', 24: 'Stop Sign', 25: 'Drumming Fingers', 26: 'No gesture', 27: 'Doing other things'}\n"
     ]
    }
   ],
   "source": [
    "print(cls_dict)"
   ]
  },
  {
   "cell_type": "markdown",
   "metadata": {},
   "source": [
    "## 加载训练集"
   ]
  },
  {
   "cell_type": "code",
   "execution_count": 8,
   "metadata": {},
   "outputs": [
    {
     "name": "stdout",
     "output_type": "stream",
     "text": [
      "30860\n"
     ]
    }
   ],
   "source": [
    "try:\n",
    "    Train = pickle.load(open(train_output_fn, \"rb\")) # 先加载一波旧数据\n",
    "except:\n",
    "    Train = {}\n",
    "    Train['pose'] = []\n",
    "    Train['label'] = []\n",
    "    \n",
    "print(len(Train['label']))"
   ]
  },
  {
   "cell_type": "code",
   "execution_count": 7,
   "metadata": {},
   "outputs": [],
   "source": [
    "# 多线程调用detector处理图像\n",
    "import threading\n",
    "class DetectorThread(threading.Thread):\n",
    "    def __init__(self, timage, tdetector):\n",
    "        threading.Thread.__init__(self)\n",
    "        self.result = None\n",
    "        self.image = timage\n",
    "        self.detector = tdetector\n",
    "    def run(self):\n",
    "        kp, box, confidence = self.detector(self.image)\n",
    "        if kp is None or confidence < hand_pres_thresh:        \n",
    "            # 暂时按0处理\n",
    "            kp = np.zeros(joint_dim * joint_num)\n",
    "        else:\n",
    "            kp = kp.reshape(joint_dim * joint_num)\n",
    "        self.result = kp\n",
    "\n",
    "class MulthreadDetector():\n",
    "    def __init__(self):\n",
    "        self.threadNum = 2\n",
    "        self.detectors = []\n",
    "        for i in range(self.threadNum):\n",
    "            self.detectors.append(HandTracker(palm_model_path, landmark_model_path, anchors_path,\n",
    "                       box_shift=0.2, box_enlarge=1.3))\n",
    "        # TODO: 创建多个detector\n",
    "    def __call__(self,skeleton_list, images):\n",
    "        image_count = 0\n",
    "        while image_count < len(images):\n",
    "            # 开启线程\n",
    "            threads = []\n",
    "                \n",
    "            for i in range(self.threadNum):\n",
    "                if image_count + i >= len(images):\n",
    "                    break\n",
    "                thread = DetectorThread(images[image_count + i], self.detectors[i])\n",
    "                threads.append(thread)\n",
    "                thread.start()\n",
    "                \n",
    "            # 回收线程并获取结果\n",
    "            for i in range(self.threadNum):\n",
    "                if image_count + i >= len(images):\n",
    "                    break\n",
    "                threads[i].join()\n",
    "                skeleton_list[image_count + i] = threads[i].result\n",
    "            image_count += self.threadNum"
   ]
  },
  {
   "cell_type": "code",
   "execution_count": 8,
   "metadata": {},
   "outputs": [
    {
     "name": "stdout",
     "output_type": "stream",
     "text": [
      "hand tracker built ok\n",
      "hand tracker built ok\n"
     ]
    },
    {
     "name": "stderr",
     "output_type": "stream",
     "text": [
      "  0%|                                                                                         | 0/9273 [00:00<?, ?it/s]C:\\Users\\zys98\\Desktop\\graduation\\github-repo\\gg_handtracking\\python-handtracking\\hand_tracker.py:104: RuntimeWarning: overflow encountered in exp\n",
      "  return 1 / (1 + np.exp(-x) )\n",
      "  1%|█                                                                           | 133/9273 [26:14<30:03:17, 11.84s/it]"
     ]
    },
    {
     "ename": "KeyboardInterrupt",
     "evalue": "",
     "output_type": "error",
     "traceback": [
      "\u001b[1;31m---------------------------------------------------------------------------\u001b[0m",
      "\u001b[1;31mKeyboardInterrupt\u001b[0m                         Traceback (most recent call last)",
      "\u001b[1;32m<ipython-input-8-90bd728bbeff>\u001b[0m in \u001b[0;36m<module>\u001b[1;34m\u001b[0m\n\u001b[0;32m     17\u001b[0m         \u001b[0mimage\u001b[0m \u001b[1;33m=\u001b[0m \u001b[0mcv2\u001b[0m\u001b[1;33m.\u001b[0m\u001b[0mresize\u001b[0m\u001b[1;33m(\u001b[0m\u001b[0mimage\u001b[0m\u001b[1;33m,\u001b[0m\u001b[1;33m(\u001b[0m\u001b[1;36m256\u001b[0m\u001b[1;33m,\u001b[0m\u001b[1;36m256\u001b[0m\u001b[1;33m)\u001b[0m\u001b[1;33m)\u001b[0m \u001b[1;31m# resize 为 mediapipe 处理的格式，且实时检测也要保持这个\u001b[0m\u001b[1;33m\u001b[0m\u001b[1;33m\u001b[0m\u001b[0m\n\u001b[0;32m     18\u001b[0m         \u001b[0mimage_list\u001b[0m\u001b[1;33m.\u001b[0m\u001b[0mappend\u001b[0m\u001b[1;33m(\u001b[0m\u001b[0mimage\u001b[0m\u001b[1;33m)\u001b[0m\u001b[1;33m\u001b[0m\u001b[1;33m\u001b[0m\u001b[0m\n\u001b[1;32m---> 19\u001b[1;33m     \u001b[0mmulthreadDetector\u001b[0m\u001b[1;33m(\u001b[0m\u001b[0mskeleton_list\u001b[0m\u001b[1;33m,\u001b[0m \u001b[0mimage_list\u001b[0m\u001b[1;33m)\u001b[0m\u001b[1;33m\u001b[0m\u001b[1;33m\u001b[0m\u001b[0m\n\u001b[0m\u001b[0;32m     20\u001b[0m     \u001b[0mTrain\u001b[0m\u001b[1;33m[\u001b[0m\u001b[1;34m'pose'\u001b[0m\u001b[1;33m]\u001b[0m\u001b[1;33m.\u001b[0m\u001b[0mappend\u001b[0m\u001b[1;33m(\u001b[0m\u001b[0mskeleton_list\u001b[0m\u001b[1;33m)\u001b[0m\u001b[1;33m\u001b[0m\u001b[1;33m\u001b[0m\u001b[0m\n\u001b[0;32m     21\u001b[0m     \u001b[0mTrain\u001b[0m\u001b[1;33m[\u001b[0m\u001b[1;34m'label'\u001b[0m\u001b[1;33m]\u001b[0m\u001b[1;33m.\u001b[0m\u001b[0mappend\u001b[0m\u001b[1;33m(\u001b[0m\u001b[0mindex\u001b[0m\u001b[1;33m[\u001b[0m\u001b[1;36m1\u001b[0m\u001b[1;33m]\u001b[0m\u001b[1;33m)\u001b[0m\u001b[1;33m\u001b[0m\u001b[1;33m\u001b[0m\u001b[0m\n",
      "\u001b[1;32m<ipython-input-7-38b038bbe880>\u001b[0m in \u001b[0;36m__call__\u001b[1;34m(self, skeleton_list, images)\u001b[0m\n\u001b[0;32m     41\u001b[0m                 \u001b[1;32mif\u001b[0m \u001b[0mimage_count\u001b[0m \u001b[1;33m+\u001b[0m \u001b[0mi\u001b[0m \u001b[1;33m>=\u001b[0m \u001b[0mlen\u001b[0m\u001b[1;33m(\u001b[0m\u001b[0mimages\u001b[0m\u001b[1;33m)\u001b[0m\u001b[1;33m:\u001b[0m\u001b[1;33m\u001b[0m\u001b[1;33m\u001b[0m\u001b[0m\n\u001b[0;32m     42\u001b[0m                     \u001b[1;32mbreak\u001b[0m\u001b[1;33m\u001b[0m\u001b[1;33m\u001b[0m\u001b[0m\n\u001b[1;32m---> 43\u001b[1;33m                 \u001b[0mthreads\u001b[0m\u001b[1;33m[\u001b[0m\u001b[0mi\u001b[0m\u001b[1;33m]\u001b[0m\u001b[1;33m.\u001b[0m\u001b[0mjoin\u001b[0m\u001b[1;33m(\u001b[0m\u001b[1;33m)\u001b[0m\u001b[1;33m\u001b[0m\u001b[1;33m\u001b[0m\u001b[0m\n\u001b[0m\u001b[0;32m     44\u001b[0m                 \u001b[0mskeleton_list\u001b[0m\u001b[1;33m[\u001b[0m\u001b[0mimage_count\u001b[0m \u001b[1;33m+\u001b[0m \u001b[0mi\u001b[0m\u001b[1;33m]\u001b[0m \u001b[1;33m=\u001b[0m \u001b[0mthreads\u001b[0m\u001b[1;33m[\u001b[0m\u001b[0mi\u001b[0m\u001b[1;33m]\u001b[0m\u001b[1;33m.\u001b[0m\u001b[0mresult\u001b[0m\u001b[1;33m\u001b[0m\u001b[1;33m\u001b[0m\u001b[0m\n\u001b[0;32m     45\u001b[0m             \u001b[0mimage_count\u001b[0m \u001b[1;33m+=\u001b[0m \u001b[0mself\u001b[0m\u001b[1;33m.\u001b[0m\u001b[0mthreadNum\u001b[0m\u001b[1;33m\u001b[0m\u001b[1;33m\u001b[0m\u001b[0m\n",
      "\u001b[1;32m~\\Anaconda3\\envs\\ht-1\\lib\\threading.py\u001b[0m in \u001b[0;36mjoin\u001b[1;34m(self, timeout)\u001b[0m\n\u001b[0;32m   1042\u001b[0m \u001b[1;33m\u001b[0m\u001b[0m\n\u001b[0;32m   1043\u001b[0m         \u001b[1;32mif\u001b[0m \u001b[0mtimeout\u001b[0m \u001b[1;32mis\u001b[0m \u001b[1;32mNone\u001b[0m\u001b[1;33m:\u001b[0m\u001b[1;33m\u001b[0m\u001b[1;33m\u001b[0m\u001b[0m\n\u001b[1;32m-> 1044\u001b[1;33m             \u001b[0mself\u001b[0m\u001b[1;33m.\u001b[0m\u001b[0m_wait_for_tstate_lock\u001b[0m\u001b[1;33m(\u001b[0m\u001b[1;33m)\u001b[0m\u001b[1;33m\u001b[0m\u001b[1;33m\u001b[0m\u001b[0m\n\u001b[0m\u001b[0;32m   1045\u001b[0m         \u001b[1;32melse\u001b[0m\u001b[1;33m:\u001b[0m\u001b[1;33m\u001b[0m\u001b[1;33m\u001b[0m\u001b[0m\n\u001b[0;32m   1046\u001b[0m             \u001b[1;31m# the behavior of a negative timeout isn't documented, but\u001b[0m\u001b[1;33m\u001b[0m\u001b[1;33m\u001b[0m\u001b[1;33m\u001b[0m\u001b[0m\n",
      "\u001b[1;32m~\\Anaconda3\\envs\\ht-1\\lib\\threading.py\u001b[0m in \u001b[0;36m_wait_for_tstate_lock\u001b[1;34m(self, block, timeout)\u001b[0m\n\u001b[0;32m   1058\u001b[0m         \u001b[1;32mif\u001b[0m \u001b[0mlock\u001b[0m \u001b[1;32mis\u001b[0m \u001b[1;32mNone\u001b[0m\u001b[1;33m:\u001b[0m  \u001b[1;31m# already determined that the C code is done\u001b[0m\u001b[1;33m\u001b[0m\u001b[1;33m\u001b[0m\u001b[0m\n\u001b[0;32m   1059\u001b[0m             \u001b[1;32massert\u001b[0m \u001b[0mself\u001b[0m\u001b[1;33m.\u001b[0m\u001b[0m_is_stopped\u001b[0m\u001b[1;33m\u001b[0m\u001b[1;33m\u001b[0m\u001b[0m\n\u001b[1;32m-> 1060\u001b[1;33m         \u001b[1;32melif\u001b[0m \u001b[0mlock\u001b[0m\u001b[1;33m.\u001b[0m\u001b[0macquire\u001b[0m\u001b[1;33m(\u001b[0m\u001b[0mblock\u001b[0m\u001b[1;33m,\u001b[0m \u001b[0mtimeout\u001b[0m\u001b[1;33m)\u001b[0m\u001b[1;33m:\u001b[0m\u001b[1;33m\u001b[0m\u001b[1;33m\u001b[0m\u001b[0m\n\u001b[0m\u001b[0;32m   1061\u001b[0m             \u001b[0mlock\u001b[0m\u001b[1;33m.\u001b[0m\u001b[0mrelease\u001b[0m\u001b[1;33m(\u001b[0m\u001b[1;33m)\u001b[0m\u001b[1;33m\u001b[0m\u001b[1;33m\u001b[0m\u001b[0m\n\u001b[0;32m   1062\u001b[0m             \u001b[0mself\u001b[0m\u001b[1;33m.\u001b[0m\u001b[0m_stop\u001b[0m\u001b[1;33m(\u001b[0m\u001b[1;33m)\u001b[0m\u001b[1;33m\u001b[0m\u001b[1;33m\u001b[0m\u001b[0m\n",
      "\u001b[1;31mKeyboardInterrupt\u001b[0m: "
     ]
    }
   ],
   "source": [
    "# 加载训练集\n",
    "train_data = pd.read_csv(root_dir + train_fn, sep=';')\n",
    "train_dict = dict(zip(train_data.id, train_data.clsid))\n",
    "multhreadDetector = MulthreadDetector()\n",
    "\n",
    "save_count = 0\n",
    "\n",
    "for index in tqdm(list(train_dict.items())[len(Train['label']):train_size]):\n",
    "    image_path = data_dir + str(index[0])\n",
    "    image_file_list = os.listdir(image_path)    \n",
    "    # 逐个加载并用 HandTracker 得出骨架数据\n",
    "    skeleton_list = np.empty((len(image_file_list),(joint_dim * joint_num)), dtype = float, order = 'C')\n",
    "    image_list = []\n",
    "    for file_index in range(len(image_file_list)):\n",
    "        file = image_file_list[file_index]\n",
    "        image = cv2.imread(image_path + '\\\\' + file)[:,:,::-1]\n",
    "        image = cv2.resize(image,(256,256)) # resize 为 mediapipe 处理的格式，且实时检测也要保持这个\n",
    "        image_list.append(image)\n",
    "    multhreadDetector(skeleton_list, image_list)\n",
    "    Train['pose'].append(skeleton_list)\n",
    "    Train['label'].append(index[1])\n",
    "\n",
    "    save_count += 1\n",
    "    if save_count % 50 == 0:\n",
    "        pickle.dump(Train, open(train_output_fn, \"wb\"))\n",
    "\n",
    "# TODO: 空骨架 --> 开头(0,0,0)，中间插值\n",
    "# TODO: 中值滤波"
   ]
  },
  {
   "cell_type": "code",
   "execution_count": null,
   "metadata": {
    "scrolled": true
   },
   "outputs": [],
   "source": [
    "# 加载训练集\n",
    "train_data = pd.read_csv(root_dir + train_fn, sep=';')\n",
    "train_dict = dict(zip(train_data.id, train_data.clsid))\n",
    "\n",
    "save_count = 0\n",
    "\n",
    "for index in tqdm(list(train_dict.items())[len(Train['label']):train_size]):\n",
    "    image_path = data_dir + str(index[0])\n",
    "    image_file_list = os.listdir(image_path)    \n",
    "    # 逐个加载并用 HandTracker 得出骨架数据\n",
    "    skeleton_list = np.empty((len(image_file_list),(joint_dim * joint_num)), dtype = float, order = 'C')\n",
    "    for file_index in range(len(image_file_list)):\n",
    "        file = image_file_list[file_index]\n",
    "        image = cv2.imread(image_path + '\\\\' + file)[:,:,::-1]\n",
    "        image = cv2.resize(image,(256,256)) # resize 为 mediapipe 处理的格式，且实时检测也要保持这个\n",
    "        kp, box, confidence = detector(image)\n",
    "        if kp is None or confidence < hand_pres_thresh:        \n",
    "            # 暂时按0处理\n",
    "            kp = np.zeros(joint_dim * joint_num)\n",
    "        else:\n",
    "            kp = kp.reshape(joint_dim * joint_num)\n",
    "        skeleton_list[file_index] = kp\n",
    "    Train['pose'].append(skeleton_list)\n",
    "    Train['label'].append(index[1])\n",
    "\n",
    "    save_count += 1\n",
    "    if save_count % 50 == 0:\n",
    "        pickle.dump(Train, open(train_output_fn, \"wb\"))\n",
    "\n",
    "# TODO: 空骨架 --> 开头(0,0,0)，中间插值\n",
    "# TODO: 中值滤波"
   ]
  },
  {
   "cell_type": "code",
   "execution_count": 9,
   "metadata": {},
   "outputs": [
    {
     "name": "stdout",
     "output_type": "stream",
     "text": [
      "已保存训练数据: 30860\n"
     ]
    }
   ],
   "source": [
    "# Train数据保存到pickle文件\n",
    "print('已保存训练数据:', len(Train['label']))\n",
    "pickle.dump(Train, open(train_output_fn, \"wb\"))"
   ]
  },
  {
   "cell_type": "markdown",
   "metadata": {},
   "source": [
    "## 加载验证集"
   ]
  },
  {
   "cell_type": "code",
   "execution_count": 9,
   "metadata": {},
   "outputs": [
    {
     "name": "stdout",
     "output_type": "stream",
     "text": [
      "4000\n"
     ]
    }
   ],
   "source": [
    "try:\n",
    "    Valid = pickle.load(open(valid_output_fn, \"rb\")) # 先加载一波旧数据\n",
    "except:\n",
    "    Valid = {}\n",
    "    Valid['pose'] = []\n",
    "    Valid['label'] = []\n",
    "    \n",
    "print(len(Valid['label']))"
   ]
  },
  {
   "cell_type": "code",
   "execution_count": null,
   "metadata": {},
   "outputs": [],
   "source": [
    "# 加载验证集\n",
    "\n",
    "valid_data = pd.read_csv(root_dir + valid_fn, sep=';')\n",
    "valid_dict = dict(zip(valid_data.id, valid_data.clsid))\n",
    "\n",
    "save_count = 0\n",
    "\n",
    "for index in tqdm(list(valid_dict.items())[len(Valid['label']):valid_size]):\n",
    "    image_path = data_dir + str(index[0])\n",
    "    image_file_list = os.listdir(image_path)    \n",
    "    # 逐个加载并用 HandTracker 得出骨架数据\n",
    "    skeleton_list = np.empty((len(image_file_list),(joint_dim * joint_num)), dtype = float, order = 'C')\n",
    "    for file_index in range(len(image_file_list)):\n",
    "        file = image_file_list[file_index]\n",
    "        image = cv2.imread(image_path + '\\\\' + file)[:,:,::-1]\n",
    "        image = cv2.resize(image,(256,256)) # resize 为 mediapipe 处理的格式，且实时检测也要保持这个\n",
    "        kp, box, confidence = detector(image)\n",
    "        if kp is None or confidence < hand_pres_thresh:     \n",
    "            # 暂时按0处理\n",
    "            kp = np.zeros(joint_dim * joint_num)\n",
    "        else:\n",
    "            kp = kp.reshape(joint_dim * joint_num)\n",
    "        skeleton_list[file_index] = kp\n",
    "    Valid['pose'].append(skeleton_list)\n",
    "    Valid['label'].append(index[1])\n",
    "\n",
    "    save_count += 1\n",
    "    if save_count % 50 == 0:\n",
    "        pickle.dump(Valid, open(valid_output_fn, \"wb\"))\n",
    "\n",
    "\n",
    "# TODO: 空骨架 --> 开头(0,0,0)，中间插值\n",
    "# TODO: 中值滤波"
   ]
  },
  {
   "cell_type": "code",
   "execution_count": 48,
   "metadata": {},
   "outputs": [
    {
     "name": "stdout",
     "output_type": "stream",
     "text": [
      "已保存验证数据: 4000\n"
     ]
    }
   ],
   "source": [
    "# Valid数据保存到pickle文件\n",
    "print('已保存验证数据:', len(Valid['label']))\n",
    "pickle.dump(Valid, open(valid_output_fn, \"wb\"))"
   ]
  },
  {
   "cell_type": "markdown",
   "metadata": {},
   "source": [
    "## 删除空frame的数据"
   ]
  },
  {
   "cell_type": "code",
   "execution_count": 10,
   "metadata": {
    "scrolled": false
   },
   "outputs": [
    {
     "name": "stderr",
     "output_type": "stream",
     "text": [
      "100%|██████████████████████████████████████████████████████████████████████████| 30860/30860 [00:15<00:00, 2049.45it/s]\n"
     ]
    },
    {
     "name": "stdout",
     "output_type": "stream",
     "text": [
      "已保存(无空帧)训练数据: 30860\n"
     ]
    }
   ],
   "source": [
    "\n",
    "# 训练集\n",
    "train_noempty_output_fn = 'C:\\\\Users\\\\zys98\\\\Desktop\\\\graduation\\\\github-repo\\\\sk_dd_2019\\\\codes\\\\data\\\\JESTER\\\\train_noempty.pkl'\n",
    "Train_NoEmpty = pickle.load(open(train_output_fn, \"rb\")) # 先加载一波旧数据\n",
    "poses = Train_NoEmpty['pose']\n",
    "\n",
    "for pose_index in tqdm(range(len(poses))):\n",
    "    frame_index = 0\n",
    "    while frame_index < len(poses[pose_index]):\n",
    "        if poses[pose_index][frame_index][0] == 0:\n",
    "            poses[pose_index] = np.delete(poses[pose_index], frame_index, axis=0)\n",
    "        else:\n",
    "            frame_index += 1\n",
    "    if len(poses[pose_index]) == 0:\n",
    "        poses[pose_index] = np.zeros((1,joint_num*joint_dim))\n",
    "    pose = np.zeros((1,joint_num*joint_dim))\n",
    "    \n",
    "print('已保存(无空帧)训练数据:', len(Train_NoEmpty['label']))\n",
    "pickle.dump(Train_NoEmpty, open(train_noempty_output_fn, \"wb\"))"
   ]
  },
  {
   "cell_type": "code",
   "execution_count": 11,
   "metadata": {},
   "outputs": [
    {
     "name": "stderr",
     "output_type": "stream",
     "text": [
      "100%|████████████████████████████████████████████████████████████████████████████| 4000/4000 [00:02<00:00, 1996.37it/s]\n"
     ]
    },
    {
     "name": "stdout",
     "output_type": "stream",
     "text": [
      "已保存(无空帧)验证数据: 4000\n"
     ]
    }
   ],
   "source": [
    "# 验证集\n",
    "valid_noempty_output_fn = 'C:\\\\Users\\\\zys98\\\\Desktop\\\\graduation\\\\github-repo\\\\sk_dd_2019\\\\codes\\\\data\\\\JESTER\\\\valid_noempty.pkl'\n",
    "Valid_NoEmpty = pickle.load(open(valid_output_fn, \"rb\")) # 先加载一波旧数据\n",
    "poses = Valid_NoEmpty['pose']\n",
    "\n",
    "for pose_index in tqdm(range(len(poses))):\n",
    "    frame_index = 0\n",
    "    while frame_index < len(poses[pose_index]):\n",
    "        if poses[pose_index][frame_index][0] == 0:\n",
    "            poses[pose_index] = np.delete(poses[pose_index], frame_index, axis=0)\n",
    "        else:\n",
    "            frame_index += 1\n",
    "    if len(poses[pose_index]) == 0:\n",
    "        poses[pose_index] = np.zeros((1,joint_num*joint_dim))\n",
    "    pose = np.zeros((1,joint_num*joint_dim))\n",
    "    \n",
    "print('已保存(无空帧)验证数据:', len(Valid_NoEmpty['label']))\n",
    "pickle.dump(Valid_NoEmpty, open(valid_noempty_output_fn, \"wb\"))"
   ]
  },
  {
   "cell_type": "markdown",
   "metadata": {},
   "source": [
    "## 1-6 class 删除空骨架帧 的数据"
   ]
  },
  {
   "cell_type": "code",
   "execution_count": 12,
   "metadata": {},
   "outputs": [
    {
     "name": "stdout",
     "output_type": "stream",
     "text": [
      "已保存(class 1-6)训练数据: 6328\n"
     ]
    }
   ],
   "source": [
    "# 训练集\n",
    "train_1to6_output_fn = 'C:\\\\Users\\\\zys98\\\\Desktop\\\\graduation\\\\github-repo\\\\sk_dd_2019\\\\codes\\\\data\\\\JESTER\\\\train_1to6.pkl'\n",
    "Train_1to6 = pickle.load(open(train_noempty_output_fn, \"rb\")) # 先加载一波旧数据\n",
    "poses = Train_1to6['pose']\n",
    "labels = Train_1to6['label']\n",
    "pose_index=0\n",
    "max_cls = 6\n",
    "\n",
    "while pose_index < len(labels):\n",
    "    if labels[pose_index] <= max_cls:\n",
    "        pose_index += 1\n",
    "    else:\n",
    "        poses.pop(pose_index)\n",
    "        labels.pop(pose_index)\n",
    "\n",
    "print('已保存(class 1-6)训练数据:', len(Train_1to6['label']))\n",
    "pickle.dump(Train_1to6, open(train_1to6_output_fn, \"wb\"))"
   ]
  },
  {
   "cell_type": "code",
   "execution_count": 13,
   "metadata": {},
   "outputs": [
    {
     "name": "stdout",
     "output_type": "stream",
     "text": [
      "已保存(class 1-6)验证数据: 792\n"
     ]
    }
   ],
   "source": [
    "# 验证集\n",
    "valid_1to6_output_fn = 'C:\\\\Users\\\\zys98\\\\Desktop\\\\graduation\\\\github-repo\\\\sk_dd_2019\\\\codes\\\\data\\\\JESTER\\\\valid_1to6.pkl'\n",
    "Valid_1to6 = pickle.load(open(valid_noempty_output_fn, \"rb\")) # 先加载一波旧数据\n",
    "poses = Valid_1to6['pose']\n",
    "labels = Valid_1to6['label']\n",
    "pose_index=0\n",
    "max_cls = 6\n",
    "\n",
    "while pose_index < len(labels):\n",
    "    if labels[pose_index] <= max_cls:\n",
    "        pose_index += 1\n",
    "    else:\n",
    "        poses.pop(pose_index)\n",
    "        labels.pop(pose_index)\n",
    "\n",
    "print('已保存(class 1-6)验证数据:', len(Valid_1to6['label']))\n",
    "pickle.dump(Valid_1to6, open(valid_1to6_output_fn, \"wb\"))"
   ]
  },
  {
   "cell_type": "markdown",
   "metadata": {},
   "source": [
    "## 分类数 [1, N]；非空帧数 [K, ) 的数据"
   ]
  },
  {
   "cell_type": "code",
   "execution_count": 12,
   "metadata": {},
   "outputs": [
    {
     "name": "stdout",
     "output_type": "stream",
     "text": [
      "非空阈值样本占比 0.20946208684381076\n",
      "已保存(1-20 class 非空帧数 > 5 的数据)训练数据: 4564\n",
      "已保存(1-20 class 非空帧数 > 5 的数据)验证数据: 511\n"
     ]
    }
   ],
   "source": [
    "thresh_frame_num = 5 # 非空帧数 (0即所有)\n",
    "thresh_frame_rate = 0.3 # 非空帧占比 (0即所有)\n",
    "max_cls = 20 # class最大数\n",
    "rootdir = 'C:\\\\Users\\\\zys98\\\\Desktop\\\\graduation\\\\github-repo\\\\sk_dd_2019\\\\codes\\\\data\\\\JESTER\\\\'\n",
    "\n",
    "count = 0\n",
    "for i in range(len(Train_NoEmpty['pose'])):\n",
    "    data = Train_NoEmpty['pose'][i]\n",
    "    odata = Train['pose'][i]\n",
    "#     print(i,data.shape[0])\n",
    "    if data.shape[0]/odata.shape[0] >= thresh_frame_rate:\n",
    "        count += 1\n",
    "\n",
    "print('非空阈值样本占比', count/len(Train_NoEmpty['pose']))\n",
    "\n",
    "\n",
    "# 训练集\n",
    "train_noempty_fn = 'train_noempty.pkl'\n",
    "train_gt20_1to6_fn = 'train_gt20_1to6.pkl'\n",
    "Train_GT20_1to6 = pickle.load(open(rootdir + train_noempty_fn, \"rb\")) # 先加载一波旧数据\n",
    "poses = Train_GT20_1to6['pose']\n",
    "oposes = Train['pose']\n",
    "labels = Train_GT20_1to6['label']\n",
    "pose_index=0\n",
    "\n",
    "while pose_index < len(labels):\n",
    "    if labels[pose_index] <= max_cls and poses[pose_index].shape[0] >= thresh_frame_num and poses[pose_index].shape[0]/oposes[pose_index].shape[0] >= thresh_frame_rate:\n",
    "        pose_index += 1\n",
    "    else:\n",
    "        poses.pop(pose_index)\n",
    "        labels.pop(pose_index)\n",
    "    \n",
    "print('已保存(1-'+str(max_cls)+' class 非空帧数 > '+str(thresh_frame_num)+' 的数据)训练数据:', len(Train_GT20_1to6['label']))\n",
    "pickle.dump(Train_GT20_1to6, open(rootdir + train_gt20_1to6_fn, \"wb\"))\n",
    "\n",
    "# 验证集\n",
    "valid_noempty_fn = 'valid_noempty.pkl'\n",
    "valid_gt20_1to6_fn = 'valid_gt20_1to6.pkl'\n",
    "Valid_GT20_1to6 = pickle.load(open(rootdir + valid_noempty_fn, \"rb\")) # 先加载一波旧数据\n",
    "poses = Valid_GT20_1to6['pose']\n",
    "oposes = Valid['pose']\n",
    "labels = Valid_GT20_1to6['label']\n",
    "pose_index=0\n",
    "\n",
    "while pose_index < len(labels):\n",
    "    if labels[pose_index] <= max_cls and poses[pose_index].shape[0] >= thresh_frame_num  and poses[pose_index].shape[0]/oposes[pose_index].shape[0] >= thresh_frame_rate:\n",
    "        pose_index += 1\n",
    "    else:\n",
    "        poses.pop(pose_index)\n",
    "        labels.pop(pose_index)\n",
    "    \n",
    "print('已保存(1-'+str(max_cls)+' class 非空帧数 > '+str(thresh_frame_num)+' 的数据)验证数据:', len(Valid_GT20_1to6['label']))\n",
    "pickle.dump(Valid_GT20_1to6, open(rootdir + valid_gt20_1to6_fn, \"wb\"))"
   ]
  },
  {
   "cell_type": "code",
   "execution_count": 13,
   "metadata": {},
   "outputs": [
    {
     "data": {
      "image/png": "[encoded data removed]",
      "text/plain": [
       "<Figure size 1440x432 with 1 Axes>"
      ]
     },
     "metadata": {
      "needs_background": "light"
     },
     "output_type": "display_data"
    },
    {
     "data": {
      "image/png": "[encoded data removed]",
      "text/plain": [
       "<Figure size 1440x576 with 1 Axes>"
      ]
     },
     "metadata": {
      "needs_background": "light"
     },
     "output_type": "display_data"
    }
   ],
   "source": [
    "# 折线图显示数据分布\n",
    "\n",
    "import matplotlib.pyplot as plt\n",
    "import numpy as np  \n",
    "\n",
    "fig_test = dict(zip(range(1,max_cls+1),(0 for _ in range(max_cls))))\n",
    "fig_valid = dict(zip(range(1,max_cls+1),(0 for _ in range(max_cls))))\n",
    "for i in Train_GT20_1to6['label']:\n",
    "    fig_test[i] += 1\n",
    "for i in Valid_GT20_1to6['label']:\n",
    "    fig_valid[i] += 1\n",
    "\n",
    "plt.figure(figsize=(20, 6))\n",
    "keys=fig_test.keys()\n",
    "y=fig_test.values()\n",
    "x=range(len(keys))\n",
    "\n",
    "plt.bar(x,y,color='blue')\n",
    "plt.xticks(x, keys)\n",
    "plt.title(\"test\")\n",
    "plt.show()\n",
    "\n",
    "plt.figure(figsize=(20, 8))\n",
    "keys=fig_valid.keys()\n",
    "y=fig_valid.values()\n",
    "x=range(len(keys))\n",
    "\n",
    "plt.bar(x,y,color='red')\n",
    "plt.xticks(x, keys)\n",
    "plt.title(\"valid\")\n",
    "plt.show()"
   ]
  },
  {
   "cell_type": "code",
   "execution_count": 14,
   "metadata": {},
   "outputs": [
    {
     "name": "stdout",
     "output_type": "stream",
     "text": [
      "[0.9272727272727272, 1.176923076923077, 0.8742857142857143, 1.16793893129771, 0.2651646447140381, 1.0, 2.125, 2.125, 2.217391304347826, 1.150375939849624, 1.0851063829787233, 1.2644628099173554, 6.375, 5.1, 0.5, 0.5, 0.34, 0.31097560975609756, 0.2970873786407767, 0.3047808764940239]\n",
      "[1.4615384615384615, 2.7142857142857144, 1.1875, 1.1875, 0.3958333333333333, 1.4615384615384615, 3.8, 2.7142857142857144, 2.7142857142857144, 1.0, 1.0, 1.0, 4.75, 3.8, 0.5277777777777778, 0.4523809523809524, 0.3392857142857143, 0.36538461538461536, 0.31666666666666665, 0.2835820895522388]\n",
      "已保存平衡后的训练数据: 2456\n",
      "已保存平衡后的验证数据: 265\n"
     ]
    }
   ],
   "source": [
    "# 平衡数据\n",
    "\n",
    "# 训练集\n",
    "ly = list(fig_test.values())\n",
    "ly.sort()\n",
    "minV = ly[int(len(ly)/2)]\n",
    "stayPos = []\n",
    "for i in fig_test.values():\n",
    "    if i != 0:\n",
    "        stayPos.append(minV/i)\n",
    "    else:\n",
    "        stayPos.append(0)\n",
    "print(stayPos)\n",
    "poses = Train_GT20_1to6['pose']\n",
    "labels = Train_GT20_1to6['label']\n",
    "\n",
    "import random\n",
    "random.seed(20)\n",
    "pose_index = 0\n",
    "while pose_index < len(labels):\n",
    "    if random.random() < stayPos[labels[pose_index]-1]:\n",
    "        pose_index += 1\n",
    "    else:\n",
    "        poses.pop(pose_index)\n",
    "        labels.pop(pose_index)\n",
    "        \n",
    "# 验证集\n",
    "\n",
    "ly = list(fig_valid.values())\n",
    "ly.sort()\n",
    "minV = ly[int(len(ly)/2)]\n",
    "stayPos = []\n",
    "for i in fig_valid.values():\n",
    "    if i != 0:\n",
    "        stayPos.append(minV/i)\n",
    "    else:\n",
    "        stayPos.append(0)\n",
    "print(stayPos)\n",
    "poses = Valid_GT20_1to6['pose']\n",
    "labels = Valid_GT20_1to6['label']\n",
    "\n",
    "pose_index = 0\n",
    "while pose_index < len(labels):\n",
    "    if random.random() < stayPos[labels[pose_index]-1]:\n",
    "        pose_index += 1\n",
    "    else:\n",
    "        poses.pop(pose_index)\n",
    "        labels.pop(pose_index)\n",
    "\n",
    "# 保存数据\n",
    "print('已保存平衡后的训练数据:', len(Train_GT20_1to6['label']))\n",
    "pickle.dump(Train_GT20_1to6, open(rootdir + train_gt20_1to6_fn, \"wb\"))\n",
    "    \n",
    "print('已保存平衡后的验证数据:', len(Valid_GT20_1to6['label']))\n",
    "pickle.dump(Valid_GT20_1to6, open(rootdir + valid_gt20_1to6_fn, \"wb\"))"
   ]
  },
  {
   "cell_type": "code",
   "execution_count": 15,
   "metadata": {},
   "outputs": [
    {
     "data": {
      "image/png": "[encoded data removed]",
      "text/plain": [
       "<Figure size 1440x576 with 1 Axes>"
      ]
     },
     "metadata": {
      "needs_background": "light"
     },
     "output_type": "display_data"
    },
    {
     "data": {
      "image/png": "[encoded data removed]",
      "text/plain": [
       "<Figure size 1440x576 with 1 Axes>"
      ]
     },
     "metadata": {
      "needs_background": "light"
     },
     "output_type": "display_data"
    }
   ],
   "source": [
    "# 折线图显示数据分布\n",
    "\n",
    "fig_test = dict(zip(range(1,max_cls+1),(0 for _ in range(max_cls))))\n",
    "fig_valid = dict(zip(range(1,max_cls+1),(0 for _ in range(max_cls))))\n",
    "for i in Train_GT20_1to6['label']:\n",
    "    fig_test[i] += 1\n",
    "for i in Valid_GT20_1to6['label']:\n",
    "    fig_valid[i] += 1\n",
    "\n",
    "plt.figure(figsize=(20, 8))\n",
    "keys=fig_test.keys()\n",
    "y=fig_test.values()\n",
    "x=range(len(keys))\n",
    "\n",
    "plt.bar(x,y,color='blue')\n",
    "plt.xticks(x, keys)\n",
    "plt.title(\"test\")\n",
    "plt.show()\n",
    "\n",
    "plt.figure(figsize=(20, 8))\n",
    "keys=fig_valid.keys()\n",
    "y=fig_valid.values()\n",
    "x=range(len(keys))\n",
    "\n",
    "plt.bar(x,y,color='red')\n",
    "plt.xticks(x, keys)\n",
    "plt.title(\"valid\")\n",
    "plt.show()"
   ]
  },
  {
   "cell_type": "markdown",
   "metadata": {},
   "source": [
    "## 用于统计各数据集空骨架的概率"
   ]
  },
  {
   "cell_type": "code",
   "execution_count": 17,
   "metadata": {
    "scrolled": true
   },
   "outputs": [
    {
     "name": "stdout",
     "output_type": "stream",
     "text": [
      "总空帧率(%): 83.39738214699636\n",
      "空样本率(%) 36.786674876049126\n"
     ]
    }
   ],
   "source": [
    "frame_count = 0\n",
    "empty_count = 0\n",
    "all_emtpy = 0\n",
    "start = 0\n",
    "end = -1\n",
    "for pose in Train['pose'][start:end]:\n",
    "    this_frame = 0\n",
    "    this_empty = 0\n",
    "    for frame in pose:\n",
    "        this_frame += 1\n",
    "        frame_count += 1\n",
    "        if frame[0] == 0:\n",
    "            empty_count += 1\n",
    "            this_empty += 1\n",
    "    if this_empty == this_frame:\n",
    "        all_emtpy += 1\n",
    "print('总空帧率(%):',empty_count / frame_count * 100)\n",
    "print('空样本率(%)',all_emtpy / len(Train['pose'][start:end]) * 100)"
   ]
  },
  {
   "cell_type": "code",
   "execution_count": null,
   "metadata": {},
   "outputs": [],
   "source": []
  }
 ],
 "metadata": {
  "kernelspec": {
   "display_name": "Python 3.7.6 64-bit ('ht-1': conda)",
   "language": "python",
   "name": "python37664bitht1conda3159e56e116d4212af8cbee493bc2631"
  },
  "language_info": {
   "codemirror_mode": {
    "name": "ipython",
    "version": 3
   },
   "file_extension": ".py",
   "mimetype": "text/x-python",
   "name": "python",
   "nbconvert_exporter": "python",
   "pygments_lexer": "ipython3",
   "version": "3.7.6"
  }
 },
 "nbformat": 4,
 "nbformat_minor": 4
}
