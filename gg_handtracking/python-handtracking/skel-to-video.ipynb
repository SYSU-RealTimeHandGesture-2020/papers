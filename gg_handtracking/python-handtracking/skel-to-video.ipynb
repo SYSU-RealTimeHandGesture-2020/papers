{
 "cells": [
  {
   "cell_type": "code",
   "execution_count": 1,
   "metadata": {},
   "outputs": [],
   "source": [
    "import os\n",
    "import cv2\n",
    "from hand_tracker import HandTracker\n",
    "import matplotlib.pyplot as plt\n",
    "import numpy as np\n",
    "from matplotlib.patches import Polygon\n",
    "%matplotlib inline"
   ]
  },
  {
   "cell_type": "code",
   "execution_count": 2,
   "metadata": {},
   "outputs": [
    {
     "name": "stdout",
     "output_type": "stream",
     "text": [
      "hand tracker built ok\n"
     ]
    }
   ],
   "source": [
    "# 模型相关初始化\n",
    "palm_model_path = \".\\\\models\\\\palm_detection.tflite\"\n",
    "landmark_model_path = \".\\\\models\\\\hand_landmark.tflite\"\n",
    "anchors_path = \".\\\\data\\\\anchors.csv\" \n",
    "# box_shift determines \n",
    "from hand_tracker import HandTracker\n",
    "detector = HandTracker(palm_model_path, landmark_model_path, anchors_path,\n",
    "                       box_shift=0.2, box_enlarge=1.3)"
   ]
  },
  {
   "cell_type": "code",
   "execution_count": 5,
   "metadata": {},
   "outputs": [],
   "source": [
    "# 视频相关初始化\n",
    "indir = 'D:\\\\jester\\\\data\\\\100003'\n",
    "filelist = os.listdir(indir)\n",
    "fps = 12 # 帧率\n",
    "outpath = 'test.avi' # 视频输出位置\n",
    "fourcc = cv2.VideoWriter_fourcc(*'MJPG')\n",
    "# firstpic = cv2.imread(path+'\\\\'+filelist[0])\n",
    "# size = (firstpic.shape[1], firstpic.shape[0]) # 视频分辨率\n",
    "size = (720, 720)"
   ]
  },
  {
   "cell_type": "code",
   "execution_count": null,
   "metadata": {},
   "outputs": [
    {
     "name": "stderr",
     "output_type": "stream",
     "text": [
      "C:\\Users\\zys98\\Anaconda3\\envs\\ht-1\\lib\\site-packages\\ipykernel_launcher.py:21: DeprecationWarning: The binary mode of fromstring is deprecated, as it behaves surprisingly on unicode inputs. Use frombuffer instead\n"
     ]
    }
   ],
   "source": [
    "video = cv2.VideoWriter(filename=outpath, fourcc=fourcc, fps=fps, frameSize=size)\n",
    " \n",
    "for item in filelist:\n",
    "    item = indir + '\\\\' + item \n",
    "    img = cv2.imread(item)\n",
    "    \n",
    "    kp, box = detector(img)\n",
    "    \n",
    "    f,ax = plt.subplots(1,1, figsize=(10, 10))\n",
    "    ax.imshow(img)\n",
    "    if not kp is None:\n",
    "        ax.scatter(kp[:,0], kp[:,1])\n",
    "        from matplotlib.lines import Line2D\n",
    "        # 加线条\n",
    "        for finger_index in range(5):\n",
    "            start = finger_index * 4 + 1\n",
    "            ax.add_line(Line2D((kp[0][0],kp[start][0]), (kp[0][1],kp[start][1]), linewidth=1, color='blue'))\n",
    "            for k in range(start, start+3):\n",
    "                ax.add_line(Line2D((kp[k][0],kp[k+1][0]), (kp[k][1],kp[k+1][1]), linewidth=1, color='blue'))\n",
    "    f.canvas.draw()\n",
    "    data = np.fromstring(f.canvas.tostring_rgb(), dtype=np.uint8) \n",
    "    data = data.reshape(f.canvas.get_width_height()[::-1] + (3,)) \n",
    "    video.write(data)\n",
    "\n",
    "video.release() #释放"
   ]
  },
  {
   "cell_type": "code",
   "execution_count": null,
   "metadata": {},
   "outputs": [],
   "source": []
  }
 ],
 "metadata": {
  "kernelspec": {
   "display_name": "Python 3.7.6 64-bit ('ht-1': conda)",
   "language": "python",
   "name": "python37664bitht1conda3159e56e116d4212af8cbee493bc2631"
  },
  "language_info": {
   "codemirror_mode": {
    "name": "ipython",
    "version": 3
   },
   "file_extension": ".py",
   "mimetype": "text/x-python",
   "name": "python",
   "nbconvert_exporter": "python",
   "pygments_lexer": "ipython3",
   "version": "3.7.6"
  }
 },
 "nbformat": 4,
 "nbformat_minor": 4
}
